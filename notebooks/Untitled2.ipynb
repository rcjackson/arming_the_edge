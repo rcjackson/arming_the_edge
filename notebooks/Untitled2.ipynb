{
 "cells": [
  {
   "cell_type": "code",
   "execution_count": 1,
   "metadata": {},
   "outputs": [
    {
     "name": "stderr",
     "output_type": "stream",
     "text": [
      "/home/rjackson/.conda/envs/pydda_env/lib/python3.9/site-packages/xarray/backends/cfgrib_.py:27: UserWarning: Failed to load cfgrib - most likely there is a problem accessing the ecCodes library. Try `import cfgrib` to get the full error message\n",
      "  warnings.warn(\n"
     ]
    },
    {
     "name": "stdout",
     "output_type": "stream",
     "text": [
      "%pylab is deprecated, use %matplotlib inline and import the required libraries.\n",
      "Populating the interactive namespace from numpy and matplotlib\n"
     ]
    }
   ],
   "source": [
    "from sklearn.metrics import confusion_matrix\n",
    "import xarray as xr\n",
    "%pylab inline"
   ]
  },
  {
   "cell_type": "code",
   "execution_count": 2,
   "metadata": {},
   "outputs": [],
   "source": [
    "thresholds = [1, 3, 5, 10, 20]"
   ]
  },
  {
   "cell_type": "code",
   "execution_count": 3,
   "metadata": {},
   "outputs": [],
   "source": [
    "exp_files = {}\n",
    "for i in thresholds:\n",
    "    exp_files['snr%d' % i] = '/lcrc/group/earthscience/rjackson/arming_the_edge/scripts/classifications/classification_trainsnrgt%d.000000.nc' % i\n",
    "\n",
    "for i in range(4):\n",
    "    num1 = thresholds[i]\n",
    "    num2 = thresholds[i + 1]\n",
    "    exp_files['snr%d_%d' % (num1, num2)] = '/lcrc/group/earthscience/rjackson/arming_the_edge/scripts/classifications/classification_trainsnrgt%d.000000snrgt%d.000000.nc' % (num1, num2)\n",
    "     \n",
    "for i in range(3):\n",
    "    num1 = thresholds[i]\n",
    "    num2 = thresholds[i + 1]\n",
    "    num3 = thresholds[i + 2]\n",
    "    exp_files['snr%d_%d_%d' % (num1, num2, num3)] = '/lcrc/group/earthscience/rjackson/arming_the_edge/scripts/classifications/classification_trainsnrgt%d.000000snrgt%d.000000snrgt%d.000000.nc' % (num1, num2, num3)\n",
    "    num1 = thresholds[i]\n",
    "    num2 = thresholds[i + 2]\n",
    "    exp_files['snr%d_%d' % (num1, num2)] = '/lcrc/group/earthscience/rjackson/arming_the_edge/scripts/classifications/classification_trainsnrgt%d.000000snrgt%d.000000.nc' % (num1, num2)\n",
    "  \n",
    "for i in range(2):\n",
    "    num1 = thresholds[i]\n",
    "    num2 = thresholds[i + 1]\n",
    "    num3 = thresholds[i + 2]\n",
    "    num4 = thresholds[i + 3]\n",
    "    exp_files['snr%d_%d_%d_%d' % (num1, num2, num3, num4)] = '/lcrc/group/earthscience/rjackson/arming_the_edge/scripts/classifications/classification_trainsnrgt%d.000000snrgt%d.000000snrgt%d.000000snrgt%d.000000.nc' % (num1, num2, num3, num4)\n",
    "exp_files['snr1_3_5_10_20'] = '/lcrc/group/earthscience/rjackson/arming_the_edge/scripts/classifications/classification_trainsnrgt1.000000snrgt3.000000snrgt5.000000snrgt10.000000snrgt20.000000.nc'"
   ]
  },
  {
   "cell_type": "code",
   "execution_count": 4,
   "metadata": {},
   "outputs": [],
   "source": [
    "exp_files = {'snr1': '/lcrc/group/earthscience/rjackson/arming_the_edge/scripts/classifications/classification_trainsnrgt1.000000.nc',\n",
    "             'snr1_3': '/lcrc/group/earthscience/rjackson/arming_the_edge/scripts/classifications/classification_trainsnrgt1.000000snrgt3.000000.nc',\n",
    "             'snr1_3_5': '/lcrc/group/earthscience/rjackson/arming_the_edge/scripts/classifications/classification_trainsnrgt1.000000snrgt3.000000snrgt5.000000.nc',\n",
    "             'snr1_3_5_10': '/lcrc/group/earthscience/rjackson/arming_the_edge/scripts/classifications/classification_trainsnrgt1.000000snrgt3.000000snrgt5.000000snrgt10.000000.nc',\n",
    "             'snr5': '/lcrc/group/earthscience/rjackson/arming_the_edge/scripts/classifications/classification_trainsnrgt5.000000.nc',\n",
    "             'snr10': '/lcrc/group/earthscience/rjackson/arming_the_edge/scripts/classifications/classification_trainsnrgt10.000000.nc',\n",
    "             'snr20': '/lcrc/group/earthscience/rjackson/arming_the_edge/scripts/classifications/classification_trainsnrgt20.000000.nc',\n",
    "             'snr3_5': '/lcrc/group/earthscience/rjackson/arming_the_edge/scripts/classifications/classification_trainsnrgt1.000000snrgt3.000000snrgt5.000000snrgt10.000000.nc',\n",
    "             'snr3_10': '/lcrc/group/earthscience/rjackson/arming_the_edge/scripts/classifications/classification_trainsnrgt3.000000snrgt10.000000.nc'}\n",
    "             'snr3_20': '/lcrc/group/earthscience/rjackson/arming_the_edge/scripts/classifications/classification_trainsnrgt3.000000snrgt20.000000.nc'} \n",
    "strings = {'snr1': '$P_{>1 \\ dB}$',\n",
    "             'snr1_3': '$P_{>1 \\ dB}$, \\n $P_{>2 \\ dB}$',\n",
    "             'snr1_3_5': '$P_{>1 \\ dB}$, \\n $P_{>3 \\ dB}$, \\n $P_{>5 \\ dB}$',\n",
    "             'snr1_3_5_10': '$P_{>1 \\ dB}$, $P_{>3 \\ dB}$, \\n $P_{>5 \\ dB}$, \\n $P_{>10 \\ dB}$',\n",
    "             'snr5': '$P_{>5 \\ dB}$',\n",
    "             'snr10': '$P_{>10 \\ dB}$',\n",
    "             'snr3_5': '$P_{>3 \\ dB}$, \\n $P_{>5 \\ dB}$',\n",
    "             'snr3_10': '$P_{>3 \\ dB}$, \\n $P_{>10 \\ dB}$'}"
   ]
  },
  {
   "cell_type": "code",
   "execution_count": 5,
   "metadata": {},
   "outputs": [
    {
     "name": "stderr",
     "output_type": "stream",
     "text": [
      "/home/rjackson/.conda/envs/pydda_env/lib/python3.9/site-packages/xarray/backends/plugins.py:61: RuntimeWarning: Engine 'cfgrib' loading failed:\n",
      "Cannot find the ecCodes library\n",
      "  warnings.warn(f\"Engine {name!r} loading failed:\\n{ex}\", RuntimeWarning)\n"
     ]
    },
    {
     "data": {
      "text/html": [
       "<div><svg style=\"position: absolute; width: 0; height: 0; overflow: hidden\">\n",
       "<defs>\n",
       "<symbol id=\"icon-database\" viewBox=\"0 0 32 32\">\n",
       "<path d=\"M16 0c-8.837 0-16 2.239-16 5v4c0 2.761 7.163 5 16 5s16-2.239 16-5v-4c0-2.761-7.163-5-16-5z\"></path>\n",
       "<path d=\"M16 17c-8.837 0-16-2.239-16-5v6c0 2.761 7.163 5 16 5s16-2.239 16-5v-6c0 2.761-7.163 5-16 5z\"></path>\n",
       "<path d=\"M16 26c-8.837 0-16-2.239-16-5v6c0 2.761 7.163 5 16 5s16-2.239 16-5v-6c0 2.761-7.163 5-16 5z\"></path>\n",
       "</symbol>\n",
       "<symbol id=\"icon-file-text2\" viewBox=\"0 0 32 32\">\n",
       "<path d=\"M28.681 7.159c-0.694-0.947-1.662-2.053-2.724-3.116s-2.169-2.030-3.116-2.724c-1.612-1.182-2.393-1.319-2.841-1.319h-15.5c-1.378 0-2.5 1.121-2.5 2.5v27c0 1.378 1.122 2.5 2.5 2.5h23c1.378 0 2.5-1.122 2.5-2.5v-19.5c0-0.448-0.137-1.23-1.319-2.841zM24.543 5.457c0.959 0.959 1.712 1.825 2.268 2.543h-4.811v-4.811c0.718 0.556 1.584 1.309 2.543 2.268zM28 29.5c0 0.271-0.229 0.5-0.5 0.5h-23c-0.271 0-0.5-0.229-0.5-0.5v-27c0-0.271 0.229-0.5 0.5-0.5 0 0 15.499-0 15.5 0v7c0 0.552 0.448 1 1 1h7v19.5z\"></path>\n",
       "<path d=\"M23 26h-14c-0.552 0-1-0.448-1-1s0.448-1 1-1h14c0.552 0 1 0.448 1 1s-0.448 1-1 1z\"></path>\n",
       "<path d=\"M23 22h-14c-0.552 0-1-0.448-1-1s0.448-1 1-1h14c0.552 0 1 0.448 1 1s-0.448 1-1 1z\"></path>\n",
       "<path d=\"M23 18h-14c-0.552 0-1-0.448-1-1s0.448-1 1-1h14c0.552 0 1 0.448 1 1s-0.448 1-1 1z\"></path>\n",
       "</symbol>\n",
       "</defs>\n",
       "</svg>\n",
       "<style>/* CSS stylesheet for displaying xarray objects in jupyterlab.\n",
       " *\n",
       " */\n",
       "\n",
       ":root {\n",
       "  --xr-font-color0: var(--jp-content-font-color0, rgba(0, 0, 0, 1));\n",
       "  --xr-font-color2: var(--jp-content-font-color2, rgba(0, 0, 0, 0.54));\n",
       "  --xr-font-color3: var(--jp-content-font-color3, rgba(0, 0, 0, 0.38));\n",
       "  --xr-border-color: var(--jp-border-color2, #e0e0e0);\n",
       "  --xr-disabled-color: var(--jp-layout-color3, #bdbdbd);\n",
       "  --xr-background-color: var(--jp-layout-color0, white);\n",
       "  --xr-background-color-row-even: var(--jp-layout-color1, white);\n",
       "  --xr-background-color-row-odd: var(--jp-layout-color2, #eeeeee);\n",
       "}\n",
       "\n",
       "html[theme=dark],\n",
       "body.vscode-dark {\n",
       "  --xr-font-color0: rgba(255, 255, 255, 1);\n",
       "  --xr-font-color2: rgba(255, 255, 255, 0.54);\n",
       "  --xr-font-color3: rgba(255, 255, 255, 0.38);\n",
       "  --xr-border-color: #1F1F1F;\n",
       "  --xr-disabled-color: #515151;\n",
       "  --xr-background-color: #111111;\n",
       "  --xr-background-color-row-even: #111111;\n",
       "  --xr-background-color-row-odd: #313131;\n",
       "}\n",
       "\n",
       ".xr-wrap {\n",
       "  display: block !important;\n",
       "  min-width: 300px;\n",
       "  max-width: 700px;\n",
       "}\n",
       "\n",
       ".xr-text-repr-fallback {\n",
       "  /* fallback to plain text repr when CSS is not injected (untrusted notebook) */\n",
       "  display: none;\n",
       "}\n",
       "\n",
       ".xr-header {\n",
       "  padding-top: 6px;\n",
       "  padding-bottom: 6px;\n",
       "  margin-bottom: 4px;\n",
       "  border-bottom: solid 1px var(--xr-border-color);\n",
       "}\n",
       "\n",
       ".xr-header > div,\n",
       ".xr-header > ul {\n",
       "  display: inline;\n",
       "  margin-top: 0;\n",
       "  margin-bottom: 0;\n",
       "}\n",
       "\n",
       ".xr-obj-type,\n",
       ".xr-array-name {\n",
       "  margin-left: 2px;\n",
       "  margin-right: 10px;\n",
       "}\n",
       "\n",
       ".xr-obj-type {\n",
       "  color: var(--xr-font-color2);\n",
       "}\n",
       "\n",
       ".xr-sections {\n",
       "  padding-left: 0 !important;\n",
       "  display: grid;\n",
       "  grid-template-columns: 150px auto auto 1fr 20px 20px;\n",
       "}\n",
       "\n",
       ".xr-section-item {\n",
       "  display: contents;\n",
       "}\n",
       "\n",
       ".xr-section-item input {\n",
       "  display: none;\n",
       "}\n",
       "\n",
       ".xr-section-item input + label {\n",
       "  color: var(--xr-disabled-color);\n",
       "}\n",
       "\n",
       ".xr-section-item input:enabled + label {\n",
       "  cursor: pointer;\n",
       "  color: var(--xr-font-color2);\n",
       "}\n",
       "\n",
       ".xr-section-item input:enabled + label:hover {\n",
       "  color: var(--xr-font-color0);\n",
       "}\n",
       "\n",
       ".xr-section-summary {\n",
       "  grid-column: 1;\n",
       "  color: var(--xr-font-color2);\n",
       "  font-weight: 500;\n",
       "}\n",
       "\n",
       ".xr-section-summary > span {\n",
       "  display: inline-block;\n",
       "  padding-left: 0.5em;\n",
       "}\n",
       "\n",
       ".xr-section-summary-in:disabled + label {\n",
       "  color: var(--xr-font-color2);\n",
       "}\n",
       "\n",
       ".xr-section-summary-in + label:before {\n",
       "  display: inline-block;\n",
       "  content: '►';\n",
       "  font-size: 11px;\n",
       "  width: 15px;\n",
       "  text-align: center;\n",
       "}\n",
       "\n",
       ".xr-section-summary-in:disabled + label:before {\n",
       "  color: var(--xr-disabled-color);\n",
       "}\n",
       "\n",
       ".xr-section-summary-in:checked + label:before {\n",
       "  content: '▼';\n",
       "}\n",
       "\n",
       ".xr-section-summary-in:checked + label > span {\n",
       "  display: none;\n",
       "}\n",
       "\n",
       ".xr-section-summary,\n",
       ".xr-section-inline-details {\n",
       "  padding-top: 4px;\n",
       "  padding-bottom: 4px;\n",
       "}\n",
       "\n",
       ".xr-section-inline-details {\n",
       "  grid-column: 2 / -1;\n",
       "}\n",
       "\n",
       ".xr-section-details {\n",
       "  display: none;\n",
       "  grid-column: 1 / -1;\n",
       "  margin-bottom: 5px;\n",
       "}\n",
       "\n",
       ".xr-section-summary-in:checked ~ .xr-section-details {\n",
       "  display: contents;\n",
       "}\n",
       "\n",
       ".xr-array-wrap {\n",
       "  grid-column: 1 / -1;\n",
       "  display: grid;\n",
       "  grid-template-columns: 20px auto;\n",
       "}\n",
       "\n",
       ".xr-array-wrap > label {\n",
       "  grid-column: 1;\n",
       "  vertical-align: top;\n",
       "}\n",
       "\n",
       ".xr-preview {\n",
       "  color: var(--xr-font-color3);\n",
       "}\n",
       "\n",
       ".xr-array-preview,\n",
       ".xr-array-data {\n",
       "  padding: 0 5px !important;\n",
       "  grid-column: 2;\n",
       "}\n",
       "\n",
       ".xr-array-data,\n",
       ".xr-array-in:checked ~ .xr-array-preview {\n",
       "  display: none;\n",
       "}\n",
       "\n",
       ".xr-array-in:checked ~ .xr-array-data,\n",
       ".xr-array-preview {\n",
       "  display: inline-block;\n",
       "}\n",
       "\n",
       ".xr-dim-list {\n",
       "  display: inline-block !important;\n",
       "  list-style: none;\n",
       "  padding: 0 !important;\n",
       "  margin: 0;\n",
       "}\n",
       "\n",
       ".xr-dim-list li {\n",
       "  display: inline-block;\n",
       "  padding: 0;\n",
       "  margin: 0;\n",
       "}\n",
       "\n",
       ".xr-dim-list:before {\n",
       "  content: '(';\n",
       "}\n",
       "\n",
       ".xr-dim-list:after {\n",
       "  content: ')';\n",
       "}\n",
       "\n",
       ".xr-dim-list li:not(:last-child):after {\n",
       "  content: ',';\n",
       "  padding-right: 5px;\n",
       "}\n",
       "\n",
       ".xr-has-index {\n",
       "  font-weight: bold;\n",
       "}\n",
       "\n",
       ".xr-var-list,\n",
       ".xr-var-item {\n",
       "  display: contents;\n",
       "}\n",
       "\n",
       ".xr-var-item > div,\n",
       ".xr-var-item label,\n",
       ".xr-var-item > .xr-var-name span {\n",
       "  background-color: var(--xr-background-color-row-even);\n",
       "  margin-bottom: 0;\n",
       "}\n",
       "\n",
       ".xr-var-item > .xr-var-name:hover span {\n",
       "  padding-right: 5px;\n",
       "}\n",
       "\n",
       ".xr-var-list > li:nth-child(odd) > div,\n",
       ".xr-var-list > li:nth-child(odd) > label,\n",
       ".xr-var-list > li:nth-child(odd) > .xr-var-name span {\n",
       "  background-color: var(--xr-background-color-row-odd);\n",
       "}\n",
       "\n",
       ".xr-var-name {\n",
       "  grid-column: 1;\n",
       "}\n",
       "\n",
       ".xr-var-dims {\n",
       "  grid-column: 2;\n",
       "}\n",
       "\n",
       ".xr-var-dtype {\n",
       "  grid-column: 3;\n",
       "  text-align: right;\n",
       "  color: var(--xr-font-color2);\n",
       "}\n",
       "\n",
       ".xr-var-preview {\n",
       "  grid-column: 4;\n",
       "}\n",
       "\n",
       ".xr-var-name,\n",
       ".xr-var-dims,\n",
       ".xr-var-dtype,\n",
       ".xr-preview,\n",
       ".xr-attrs dt {\n",
       "  white-space: nowrap;\n",
       "  overflow: hidden;\n",
       "  text-overflow: ellipsis;\n",
       "  padding-right: 10px;\n",
       "}\n",
       "\n",
       ".xr-var-name:hover,\n",
       ".xr-var-dims:hover,\n",
       ".xr-var-dtype:hover,\n",
       ".xr-attrs dt:hover {\n",
       "  overflow: visible;\n",
       "  width: auto;\n",
       "  z-index: 1;\n",
       "}\n",
       "\n",
       ".xr-var-attrs,\n",
       ".xr-var-data {\n",
       "  display: none;\n",
       "  background-color: var(--xr-background-color) !important;\n",
       "  padding-bottom: 5px !important;\n",
       "}\n",
       "\n",
       ".xr-var-attrs-in:checked ~ .xr-var-attrs,\n",
       ".xr-var-data-in:checked ~ .xr-var-data {\n",
       "  display: block;\n",
       "}\n",
       "\n",
       ".xr-var-data > table {\n",
       "  float: right;\n",
       "}\n",
       "\n",
       ".xr-var-name span,\n",
       ".xr-var-data,\n",
       ".xr-attrs {\n",
       "  padding-left: 25px !important;\n",
       "}\n",
       "\n",
       ".xr-attrs,\n",
       ".xr-var-attrs,\n",
       ".xr-var-data {\n",
       "  grid-column: 1 / -1;\n",
       "}\n",
       "\n",
       "dl.xr-attrs {\n",
       "  padding: 0;\n",
       "  margin: 0;\n",
       "  display: grid;\n",
       "  grid-template-columns: 125px auto;\n",
       "}\n",
       "\n",
       ".xr-attrs dt,\n",
       ".xr-attrs dd {\n",
       "  padding: 0;\n",
       "  margin: 0;\n",
       "  float: left;\n",
       "  padding-right: 10px;\n",
       "  width: auto;\n",
       "}\n",
       "\n",
       ".xr-attrs dt {\n",
       "  font-weight: normal;\n",
       "  grid-column: 1;\n",
       "}\n",
       "\n",
       ".xr-attrs dt:hover span {\n",
       "  display: inline-block;\n",
       "  background: var(--xr-background-color);\n",
       "  padding-right: 10px;\n",
       "}\n",
       "\n",
       ".xr-attrs dd {\n",
       "  grid-column: 2;\n",
       "  white-space: pre-wrap;\n",
       "  word-break: break-all;\n",
       "}\n",
       "\n",
       ".xr-icon-database,\n",
       ".xr-icon-file-text2 {\n",
       "  display: inline-block;\n",
       "  vertical-align: middle;\n",
       "  width: 1em;\n",
       "  height: 1.5em !important;\n",
       "  stroke-width: 0;\n",
       "  stroke: currentColor;\n",
       "  fill: currentColor;\n",
       "}\n",
       "</style><pre class='xr-text-repr-fallback'>&lt;xarray.Dataset&gt;\n",
       "Dimensions:           (label_true: 24228, label_pred: 24228,\n",
       "                       label_train_pred: 19382, label_test_pred: 4846,\n",
       "                       label_train: 19382, label_test: 4846)\n",
       "Coordinates:\n",
       "  * label_true        (label_true) int64 1 1 1 1 1 1 1 1 1 ... 1 1 1 1 0 1 1 1 1\n",
       "  * label_pred        (label_pred) float32 1.0 1.0 1.0 1.0 ... 1.0 1.0 1.0 1.0\n",
       "  * label_train_pred  (label_train_pred) float32 0.0 1.0 0.0 2.0 ... 1.0 2.0 1.0\n",
       "  * label_test_pred   (label_test_pred) float32 0.0 0.0 0.0 0.0 ... 0.0 0.0 1.0\n",
       "  * label_train       (label_train) int64 0 0 0 2 1 0 2 0 2 ... 0 0 1 0 1 1 1 1\n",
       "  * label_test        (label_test) int64 0 1 0 1 1 1 0 0 1 ... 1 0 0 0 1 0 0 0 0\n",
       "Data variables:\n",
       "    *empty*</pre><div class='xr-wrap' style='display:none'><div class='xr-header'><div class='xr-obj-type'>xarray.Dataset</div></div><ul class='xr-sections'><li class='xr-section-item'><input id='section-abdf0c7c-8331-4b9c-b263-6b7642ec9ce5' class='xr-section-summary-in' type='checkbox' disabled ><label for='section-abdf0c7c-8331-4b9c-b263-6b7642ec9ce5' class='xr-section-summary'  title='Expand/collapse section'>Dimensions:</label><div class='xr-section-inline-details'><ul class='xr-dim-list'><li><span class='xr-has-index'>label_true</span>: 24228</li><li><span class='xr-has-index'>label_pred</span>: 24228</li><li><span class='xr-has-index'>label_train_pred</span>: 19382</li><li><span class='xr-has-index'>label_test_pred</span>: 4846</li><li><span class='xr-has-index'>label_train</span>: 19382</li><li><span class='xr-has-index'>label_test</span>: 4846</li></ul></div><div class='xr-section-details'></div></li><li class='xr-section-item'><input id='section-75144477-71e1-4ccf-a6cf-7b867166e318' class='xr-section-summary-in' type='checkbox'  checked><label for='section-75144477-71e1-4ccf-a6cf-7b867166e318' class='xr-section-summary' >Coordinates: <span>(6)</span></label><div class='xr-section-inline-details'></div><div class='xr-section-details'><ul class='xr-var-list'><li class='xr-var-item'><div class='xr-var-name'><span class='xr-has-index'>label_true</span></div><div class='xr-var-dims'>(label_true)</div><div class='xr-var-dtype'>int64</div><div class='xr-var-preview xr-preview'>1 1 1 1 1 1 1 1 ... 1 1 1 0 1 1 1 1</div><input id='attrs-7e81da1b-b10e-451e-a60c-a9e7d897bff9' class='xr-var-attrs-in' type='checkbox' disabled><label for='attrs-7e81da1b-b10e-451e-a60c-a9e7d897bff9' title='Show/Hide attributes'><svg class='icon xr-icon-file-text2'><use xlink:href='#icon-file-text2'></use></svg></label><input id='data-6dce42d9-ab79-4bce-b69b-ba60a85a09f6' class='xr-var-data-in' type='checkbox'><label for='data-6dce42d9-ab79-4bce-b69b-ba60a85a09f6' title='Show/Hide data repr'><svg class='icon xr-icon-database'><use xlink:href='#icon-database'></use></svg></label><div class='xr-var-attrs'><dl class='xr-attrs'></dl></div><div class='xr-var-data'><pre>array([1, 1, 1, ..., 1, 1, 1])</pre></div></li><li class='xr-var-item'><div class='xr-var-name'><span class='xr-has-index'>label_pred</span></div><div class='xr-var-dims'>(label_pred)</div><div class='xr-var-dtype'>float32</div><div class='xr-var-preview xr-preview'>1.0 1.0 1.0 1.0 ... 1.0 1.0 1.0 1.0</div><input id='attrs-2a7ada95-33d1-464a-a616-9436d627df74' class='xr-var-attrs-in' type='checkbox' disabled><label for='attrs-2a7ada95-33d1-464a-a616-9436d627df74' title='Show/Hide attributes'><svg class='icon xr-icon-file-text2'><use xlink:href='#icon-file-text2'></use></svg></label><input id='data-b4bdaf7b-2e22-4ca7-ad3e-0c4d2a726afd' class='xr-var-data-in' type='checkbox'><label for='data-b4bdaf7b-2e22-4ca7-ad3e-0c4d2a726afd' title='Show/Hide data repr'><svg class='icon xr-icon-database'><use xlink:href='#icon-database'></use></svg></label><div class='xr-var-attrs'><dl class='xr-attrs'></dl></div><div class='xr-var-data'><pre>array([1., 1., 1., ..., 1., 1., 1.], dtype=float32)</pre></div></li><li class='xr-var-item'><div class='xr-var-name'><span class='xr-has-index'>label_train_pred</span></div><div class='xr-var-dims'>(label_train_pred)</div><div class='xr-var-dtype'>float32</div><div class='xr-var-preview xr-preview'>0.0 1.0 0.0 2.0 ... 1.0 1.0 2.0 1.0</div><input id='attrs-ee8c0301-78e8-4167-a46d-81a11bed5fab' class='xr-var-attrs-in' type='checkbox' disabled><label for='attrs-ee8c0301-78e8-4167-a46d-81a11bed5fab' title='Show/Hide attributes'><svg class='icon xr-icon-file-text2'><use xlink:href='#icon-file-text2'></use></svg></label><input id='data-64160177-5d06-4dc8-87cf-d21a3916222c' class='xr-var-data-in' type='checkbox'><label for='data-64160177-5d06-4dc8-87cf-d21a3916222c' title='Show/Hide data repr'><svg class='icon xr-icon-database'><use xlink:href='#icon-database'></use></svg></label><div class='xr-var-attrs'><dl class='xr-attrs'></dl></div><div class='xr-var-data'><pre>array([0., 1., 0., ..., 1., 2., 1.], dtype=float32)</pre></div></li><li class='xr-var-item'><div class='xr-var-name'><span class='xr-has-index'>label_test_pred</span></div><div class='xr-var-dims'>(label_test_pred)</div><div class='xr-var-dtype'>float32</div><div class='xr-var-preview xr-preview'>0.0 0.0 0.0 0.0 ... 0.0 0.0 0.0 1.0</div><input id='attrs-00e9ceee-3d40-4bce-90d9-0d13f00ec408' class='xr-var-attrs-in' type='checkbox' disabled><label for='attrs-00e9ceee-3d40-4bce-90d9-0d13f00ec408' title='Show/Hide attributes'><svg class='icon xr-icon-file-text2'><use xlink:href='#icon-file-text2'></use></svg></label><input id='data-6eb45c57-17eb-4c16-83bb-4dc4d54fc206' class='xr-var-data-in' type='checkbox'><label for='data-6eb45c57-17eb-4c16-83bb-4dc4d54fc206' title='Show/Hide data repr'><svg class='icon xr-icon-database'><use xlink:href='#icon-database'></use></svg></label><div class='xr-var-attrs'><dl class='xr-attrs'></dl></div><div class='xr-var-data'><pre>array([0., 0., 0., ..., 0., 0., 1.], dtype=float32)</pre></div></li><li class='xr-var-item'><div class='xr-var-name'><span class='xr-has-index'>label_train</span></div><div class='xr-var-dims'>(label_train)</div><div class='xr-var-dtype'>int64</div><div class='xr-var-preview xr-preview'>0 0 0 2 1 0 2 0 ... 0 0 1 0 1 1 1 1</div><input id='attrs-ac8545d4-22f0-420a-b781-77bce99e0594' class='xr-var-attrs-in' type='checkbox' disabled><label for='attrs-ac8545d4-22f0-420a-b781-77bce99e0594' title='Show/Hide attributes'><svg class='icon xr-icon-file-text2'><use xlink:href='#icon-file-text2'></use></svg></label><input id='data-6ca99c4a-a5ab-4516-91c8-b61a5aa5afff' class='xr-var-data-in' type='checkbox'><label for='data-6ca99c4a-a5ab-4516-91c8-b61a5aa5afff' title='Show/Hide data repr'><svg class='icon xr-icon-database'><use xlink:href='#icon-database'></use></svg></label><div class='xr-var-attrs'><dl class='xr-attrs'></dl></div><div class='xr-var-data'><pre>array([0, 0, 0, ..., 1, 1, 1])</pre></div></li><li class='xr-var-item'><div class='xr-var-name'><span class='xr-has-index'>label_test</span></div><div class='xr-var-dims'>(label_test)</div><div class='xr-var-dtype'>int64</div><div class='xr-var-preview xr-preview'>0 1 0 1 1 1 0 0 ... 0 0 0 1 0 0 0 0</div><input id='attrs-df2fccaa-c7e1-4e25-95b7-2e8aab92167b' class='xr-var-attrs-in' type='checkbox' disabled><label for='attrs-df2fccaa-c7e1-4e25-95b7-2e8aab92167b' title='Show/Hide attributes'><svg class='icon xr-icon-file-text2'><use xlink:href='#icon-file-text2'></use></svg></label><input id='data-3be44b5e-19c9-41ea-8f8e-873aec2e6249' class='xr-var-data-in' type='checkbox'><label for='data-3be44b5e-19c9-41ea-8f8e-873aec2e6249' title='Show/Hide data repr'><svg class='icon xr-icon-database'><use xlink:href='#icon-database'></use></svg></label><div class='xr-var-attrs'><dl class='xr-attrs'></dl></div><div class='xr-var-data'><pre>array([0, 1, 0, ..., 0, 0, 0])</pre></div></li></ul></div></li><li class='xr-section-item'><input id='section-1236eb25-5edc-453d-907c-01d19b4acf57' class='xr-section-summary-in' type='checkbox' disabled ><label for='section-1236eb25-5edc-453d-907c-01d19b4acf57' class='xr-section-summary'  title='Expand/collapse section'>Data variables: <span>(0)</span></label><div class='xr-section-inline-details'></div><div class='xr-section-details'><ul class='xr-var-list'></ul></div></li><li class='xr-section-item'><input id='section-33da9887-684b-4386-acae-0fe6b369f134' class='xr-section-summary-in' type='checkbox' disabled ><label for='section-33da9887-684b-4386-acae-0fe6b369f134' class='xr-section-summary'  title='Expand/collapse section'>Attributes: <span>(0)</span></label><div class='xr-section-inline-details'></div><div class='xr-section-details'><dl class='xr-attrs'></dl></div></li></ul></div></div>"
      ],
      "text/plain": [
       "<xarray.Dataset>\n",
       "Dimensions:           (label_true: 24228, label_pred: 24228,\n",
       "                       label_train_pred: 19382, label_test_pred: 4846,\n",
       "                       label_train: 19382, label_test: 4846)\n",
       "Coordinates:\n",
       "  * label_true        (label_true) int64 1 1 1 1 1 1 1 1 1 ... 1 1 1 1 0 1 1 1 1\n",
       "  * label_pred        (label_pred) float32 1.0 1.0 1.0 1.0 ... 1.0 1.0 1.0 1.0\n",
       "  * label_train_pred  (label_train_pred) float32 0.0 1.0 0.0 2.0 ... 1.0 2.0 1.0\n",
       "  * label_test_pred   (label_test_pred) float32 0.0 0.0 0.0 0.0 ... 0.0 0.0 1.0\n",
       "  * label_train       (label_train) int64 0 0 0 2 1 0 2 0 2 ... 0 0 1 0 1 1 1 1\n",
       "  * label_test        (label_test) int64 0 1 0 1 1 1 0 0 1 ... 1 0 0 0 1 0 0 0 0\n",
       "Data variables:\n",
       "    *empty*"
      ]
     },
     "execution_count": 5,
     "metadata": {},
     "output_type": "execute_result"
    }
   ],
   "source": [
    "ds = xr.open_dataset(exp_files['snr3_5'])\n",
    "ds"
   ]
  },
  {
   "cell_type": "code",
   "execution_count": 13,
   "metadata": {},
   "outputs": [],
   "source": [
    "positives = {}\n",
    "positives_true = {}\n",
    "negatives = {}\n",
    "negatives_true = {}\n",
    "true_pred = {}\n",
    "totals = {}\n",
    "for k in exp_files.keys():\n",
    "    ds = xr.open_dataset(exp_files[k])\n",
    "    positives[k] = ds.label_test_pred.values >= 1\n",
    "    positives_true[k] = ds.label_test.values >= 1\n",
    "    negatives[k] = ds.label_test_pred.values == 0\n",
    "    negatives_true[k] = ds.label_test.values == 0\n",
    "    totals[k] = len(ds.label_test.values)\n",
    "    true_pred[k] = np.sum(np.equal(ds.label_test.values, ds.label_test_pred))\n",
    "    ds.close()\n",
    "\n",
    "specificity = {}\n",
    "sensitivity = {}\n",
    "accuracy = {}\n",
    "for k in exp_files.keys():\n",
    "    specificity[k] = np.sum(np.logical_and(positives[k], positives_true[k])) / np.sum(positives_true[k]) * 100\n",
    "    sensitivity[k] = np.sum(np.logical_and(negatives[k], negatives_true[k])) / np.sum(negatives_true[k]) * 100\n",
    "    accuracy[k] = 100 * true_pred[k]/totals[k]"
   ]
  },
  {
   "cell_type": "code",
   "execution_count": 14,
   "metadata": {},
   "outputs": [
    {
     "name": "stdout",
     "output_type": "stream",
     "text": [
      "{'snr1': 81.90679256777338, 'snr3': 91.96072414851182, 'snr5': 95.13677811550151, 'snr10': 96.13643223664351, 'snr20': 98.05589307411907, 'snr1_3': 90.83533653846155, 'snr3_5': 80.63348416289593, 'snr5_10': 92.85285285285285, 'snr10_20': 98.046875, 'snr1_3_5': 85.65438754118, 'snr1_5': 83.18291215403129, 'snr3_5_10': 86.62576687116564, 'snr3_10': 84.0, 'snr5_10_20': 61.39393939393939, 'snr5_20': 75.6511205330103, 'snr1_3_5_10': 51.4595245260307, 'snr3_5_10_20': 92.188919164396, 'snr1_3_5_10_20': 79.65745192307693}\n"
     ]
    }
   ],
   "source": [
    "print(sensitivity)"
   ]
  },
  {
   "cell_type": "code",
   "execution_count": 38,
   "metadata": {},
   "outputs": [
    {
     "data": {
      "text/plain": [
       "(77.4, 92.2, 55.3)"
      ]
     },
     "execution_count": 38,
     "metadata": {},
     "output_type": "execute_result"
    }
   ],
   "source": [
    "key = 'snr3_5_10_20'\n",
    "(accuracy[key].values.round(1), sensitivity[key].round(1), specificity[key].round(1))"
   ]
  },
  {
   "cell_type": "code",
   "execution_count": 6,
   "metadata": {},
   "outputs": [
    {
     "data": {
      "image/png": "[encoded data removed]",
      "text/plain": [
       "<Figure size 864x216 with 1 Axes>"
      ]
     },
     "metadata": {
      "needs_background": "light"
     },
     "output_type": "display_data"
    }
   ],
   "source": [
    "x_labels = [x for x in specificity.keys()]\n",
    "spec = np.array([x for x in specificity.values()])\n",
    "sens = np.array([x for x in sensitivity.values()])\n",
    "accur = np.array([x for x in accuracy.values()])\n",
    "fig, ax = plt.subplots(1, 1, figsize=(12, 3))\n",
    "font = {'size'   : 12}\n",
    "\n",
    "matplotlib.rc('font', **font)\n",
    "ax.plot(spec, color='r', label='specificity')\n",
    "ax.plot(sens, color='g', label='sensitivity')\n",
    "ax.plot(accur, color='b', label='accuracy')\n",
    "ax.set_xticks(range(len(spec)))\n",
    "ax.set_xticklabels([x_labels for x_labels in strings.values()])\n",
    "ax.set_ylim([85, 100])\n",
    "ax.set_xlabel('Configurations')\n",
    "ax.set_ylabel('Percent')\n",
    "ax.legend()\n",
    "fig.savefig('accuracy_test.png', dpi=300, bbox_inches=\"tight\")"
   ]
  },
  {
   "cell_type": "code",
   "execution_count": 5,
   "metadata": {},
   "outputs": [
    {
     "ename": "NameError",
     "evalue": "name 'ds' is not defined",
     "output_type": "error",
     "traceback": [
      "\u001b[0;31m---------------------------------------------------------------------------\u001b[0m",
      "\u001b[0;31mNameError\u001b[0m                                 Traceback (most recent call last)",
      "\u001b[0;32m<ipython-input-5-6f4a4004dcca>\u001b[0m in \u001b[0;36m<module>\u001b[0;34m\u001b[0m\n\u001b[0;32m----> 1\u001b[0;31m \u001b[0mds\u001b[0m\u001b[0;34m\u001b[0m\u001b[0;34m\u001b[0m\u001b[0m\n\u001b[0m",
      "\u001b[0;31mNameError\u001b[0m: name 'ds' is not defined"
     ]
    }
   ],
   "source": [
    "ds"
   ]
  },
  {
   "cell_type": "code",
   "execution_count": 7,
   "metadata": {},
   "outputs": [
    {
     "name": "stdout",
     "output_type": "stream",
     "text": [
      "(array([16596.,  6562.,  1070.]), array([-0.5,  0.5,  1.5,  2.5]), <BarContainer object of 3 artists>)\n"
     ]
    },
    {
     "data": {
      "image/png": "[encoded data removed]",
      "text/plain": [
       "<Figure size 432x288 with 1 Axes>"
      ]
     },
     "metadata": {
      "needs_background": "light"
     },
     "output_type": "display_data"
    }
   ],
   "source": [
    "ds = xr.open_dataset(exp_files['snr1_3'])\n",
    "fig, ax = plt.subplots(1, 1)\n",
    "n = ax.hist(ds.label_true, bins=np.array([-0.5, 0.5, 1.5, 2.5]), rwidth=0.5)\n",
    "ax.set_xticks([0, 1, 2])\n",
    "ax.set_xticklabels(['Clear', 'Cloudy', 'Rainy'])\n",
    "ax.set_ylabel('Counts [5 min periods]')\n",
    "ax.set_xlabel('Classification')\n",
    "fig.savefig('dataset_summary.png', dpi=300)\n",
    "print(n)"
   ]
  },
  {
   "cell_type": "code",
   "execution_count": 10,
   "metadata": {},
   "outputs": [
    {
     "data": {
      "text/plain": [
       "array([0.73040845, 0.23724056, 0.03235099])"
      ]
     },
     "execution_count": 10,
     "metadata": {},
     "output_type": "execute_result"
    }
   ],
   "source": [
    "n[0]/n[0].sum()"
   ]
  },
  {
   "cell_type": "code",
   "execution_count": 8,
   "metadata": {},
   "outputs": [
    {
     "data": {
      "image/png": "[encoded data removed]",
      "text/plain": [
       "<Figure size 432x288 with 1 Axes>"
      ]
     },
     "metadata": {
      "needs_background": "light"
     },
     "output_type": "display_data"
    }
   ],
   "source": [
    "#ds = xr.open_dataset(exp_files['snr3_5'])\n",
    "label_pred = ds.label_test_pred.values\n",
    "label_true = ds.label_test.values\n",
    "matrix = confusion_matrix(label_pred, label_true)\n",
    "fig, ax = plt.subplots(1, 1)\n",
    "ax.matshow(matrix, cmap='Reds')\n",
    "for (i, j), z in np.ndenumerate(matrix):\n",
    "    ax.text(j, i, '{:d}'.format(z), ha='center', va='center', color='k', fontsize=16)\n",
    "\n",
    "ax.set_xticks([0, 1, 2])\n",
    "ax.set_yticks([0, 1, 2])\n",
    "ax.set_xticklabels(['Clear', 'Cloudy', 'Rain'])\n",
    "ax.set_yticklabels(['Clear', 'Cloudy', 'Rain'])\n",
    "fig.savefig('confusion_matrix_gbm.png', dpi=300)"
   ]
  },
  {
   "cell_type": "code",
   "execution_count": null,
   "metadata": {},
   "outputs": [],
   "source": []
  }
 ],
 "metadata": {
  "kernelspec": {
   "display_name": "Python 3 (ipykernel)",
   "language": "python",
   "name": "python3"
  },
  "language_info": {
   "codemirror_mode": {
    "name": "ipython",
    "version": 3
   },
   "file_extension": ".py",
   "mimetype": "text/x-python",
   "name": "python",
   "nbconvert_exporter": "python",
   "pygments_lexer": "ipython3",
   "version": "3.9.12"
  }
 },
 "nbformat": 4,
 "nbformat_minor": 4
}
