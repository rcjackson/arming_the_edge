{
 "cells": [
  {
   "cell_type": "code",
   "execution_count": 1,
   "metadata": {},
   "outputs": [],
   "source": [
    "## Lidar autocovariance function"
   ]
  },
  {
   "cell_type": "code",
   "execution_count": 148,
   "metadata": {},
   "outputs": [
    {
     "name": "stdout",
     "output_type": "stream",
     "text": [
      "Populating the interactive namespace from numpy and matplotlib\n"
     ]
    },
    {
     "name": "stderr",
     "output_type": "stream",
     "text": [
      "/home/rjackson/.conda/envs/spectra_env/lib/python3.7/site-packages/IPython/core/magics/pylab.py:160: UserWarning: pylab import has clobbered these variables: ['fft']\n",
      "`%matplotlib` prevents importing * from pylab and numpy\n",
      "  \"\\n`%matplotlib` prevents importing * from pylab and numpy\"\n"
     ]
    }
   ],
   "source": [
    "import xarray as xr\n",
    "import numpy as np\n",
    "from scipy.signal import periodogram\n",
    "%pylab inline"
   ]
  },
  {
   "cell_type": "code",
   "execution_count": 3,
   "metadata": {},
   "outputs": [],
   "source": [
    "acf_ds = xarray.open_dataset('sgpdlacfC1.a1.20170630.201048.nc.v0')"
   ]
  },
  {
   "cell_type": "code",
   "execution_count": 4,
   "metadata": {},
   "outputs": [
    {
     "data": {
      "text/plain": [
       "<xarray.Dataset>\n",
       "Dimensions:      (complex: 2, nlags: 20, nsamples: 4000, time: 169)\n",
       "Coordinates:\n",
       "  * time         (time) datetime64[ns] 2017-06-30T20:10:48.380000 ... 2017-06-30T20:16:01.580000\n",
       "  * complex      (complex) int16 1 2\n",
       "  * nlags        (nlags) int16 0 1 2 3 4 5 6 7 8 9 10 11 12 13 14 15 16 17 18 19\n",
       "Dimensions without coordinates: nsamples\n",
       "Data variables:\n",
       "    base_time    datetime64[ns] ...\n",
       "    time_offset  (time) datetime64[ns] ...\n",
       "    azimuth      (time) float32 ...\n",
       "    elevation    (time) float32 ...\n",
       "    acf_bkg      (nsamples, nlags, complex) float32 ...\n",
       "    acf          (time, nsamples, nlags, complex) float32 ...\n",
       "    lat          float32 ...\n",
       "    lon          float32 ...\n",
       "    alt          float32 ...\n",
       "Attributes:\n",
       "    command_line:          dlacf_ingest -s sgp -f C1 -D\n",
       "    Conventions:           ARM-1.2\n",
       "    process_version:       ingest-dlacf-1.0-0.el6\n",
       "    dod_version:           dlacf-a1-1.0\n",
       "    input_source:          /data/collection/sgp/sgpdlacfC1.00/aet_Stare_107_2...\n",
       "    site_id:               sgp\n",
       "    platform_id:           dlacf\n",
       "    facility_id:           C1\n",
       "    data_level:            a1\n",
       "    location_description:  Southern Great Plains (SGP), Lamont, Oklahoma\n",
       "    datastream:            sgpdlacfC1.a1\n",
       "    wavelength:            1548 nm\n",
       "    sample_rate:           50 MHz\n",
       "    doi:                   10.5439/1393859\n",
       "    dlat:                  36.60529\n",
       "    dlon:                  -97.48658\n",
       "    target_latitude:       36.60446\n",
       "    target_longitude:      -97.48515\n",
       "    target_altitude:       318\n",
       "    home_point_azimuth:    90.9\n",
       "    history:               created by user dsmgr on machine ruby at 2018-02-1..."
      ]
     },
     "execution_count": 4,
     "metadata": {},
     "output_type": "execute_result"
    }
   ],
   "source": [
    "acf_ds"
   ]
  },
  {
   "cell_type": "code",
   "execution_count": 5,
   "metadata": {},
   "outputs": [
    {
     "data": {
      "text/plain": [
       "<xarray.DataArray 'acf' (nsamples: 4000, nlags: 20, complex: 2)>\n",
       "[160000 values with dtype=float32]\n",
       "Coordinates:\n",
       "    time     datetime64[ns] 2017-06-30T20:10:48.380000\n",
       "  * complex  (complex) int16 1 2\n",
       "  * nlags    (nlags) int16 0 1 2 3 4 5 6 7 8 9 10 11 12 13 14 15 16 17 18 19\n",
       "Dimensions without coordinates: nsamples\n",
       "Attributes:\n",
       "    long_name:  Complex autocovariance function\n",
       "    units:      1"
      ]
     },
     "execution_count": 5,
     "metadata": {},
     "output_type": "execute_result"
    }
   ],
   "source": [
    "my_spectra = acf_ds['acf'].isel(time=0)\n",
    "my_spectra"
   ]
  },
  {
   "cell_type": "code",
   "execution_count": 6,
   "metadata": {},
   "outputs": [
    {
     "data": {
      "text/plain": [
       "<xarray.DataArray 'acf' (nsamples: 4000, nlags: 20, complex: 2)>\n",
       "[160000 values with dtype=float32]\n",
       "Coordinates:\n",
       "    time     datetime64[ns] 2017-06-30T20:10:48.380000\n",
       "  * complex  (complex) int16 1 2\n",
       "  * nlags    (nlags) int16 0 1 2 3 4 5 6 7 8 9 10 11 12 13 14 15 16 17 18 19\n",
       "Dimensions without coordinates: nsamples\n",
       "Attributes:\n",
       "    long_name:  Complex autocovariance function\n",
       "    units:      1"
      ]
     },
     "execution_count": 6,
     "metadata": {},
     "output_type": "execute_result"
    }
   ],
   "source": [
    "my_spectra"
   ]
  },
  {
   "cell_type": "code",
   "execution_count": 7,
   "metadata": {},
   "outputs": [],
   "source": [
    "np.fft.ifft?"
   ]
  },
  {
   "cell_type": "code",
   "execution_count": 161,
   "metadata": {},
   "outputs": [],
   "source": [
    "def get_psd(spectra):\n",
    "    complex_coeff = spectra['acf'].sel(complex=1).values + spectra['acf'].sel(complex=2).values * 1j\n",
    "    freq, power = periodogram(complex_coeff, axis=2, fs=50e6)\n",
    "    #fft =  np.fft.fft(complex_coeff, axis=2)\n",
    "    #freq = np.fft.fftfreq(20, d=1/(50.*1e6))\n",
    "    inds_sorted = np.argsort(freq)\n",
    "    #print(fft.shape)\n",
    "    spectra['power'] = xr.DataArray(power[:, :, inds_sorted], dims=(('time', 'nsamples', 'nlags')))\n",
    "    spectra['freq_bins'] = xr.DataArray(freq[inds_sorted], dims=['nlags'])\n",
    "    return spectra"
   ]
  },
  {
   "cell_type": "code",
   "execution_count": 162,
   "metadata": {},
   "outputs": [
    {
     "data": {
      "text/plain": [
       "array([-1.57079633e+08, -1.41371669e+08, -1.25663706e+08, -1.09955743e+08,\n",
       "       -9.42477796e+07, -7.85398163e+07, -6.28318531e+07, -4.71238898e+07,\n",
       "       -3.14159265e+07, -1.57079633e+07,  0.00000000e+00,  1.57079633e+07,\n",
       "        3.14159265e+07,  4.71238898e+07,  6.28318531e+07,  7.85398163e+07,\n",
       "        9.42477796e+07,  1.09955743e+08,  1.25663706e+08,  1.41371669e+08])"
      ]
     },
     "execution_count": 162,
     "metadata": {},
     "output_type": "execute_result"
    }
   ],
   "source": [
    "my_spectra = get_psd(acf_ds)\n",
    "coeff.shape\n",
    "tau_s = 1/(50*1e6)\n",
    "frequency = 2*np.pi*np.arange(-10, 10)/(20*tau_s)\n",
    "c = 299792458.\n",
    "frequency"
   ]
  },
  {
   "cell_type": "code",
   "execution_count": 168,
   "metadata": {},
   "outputs": [
    {
     "data": {
      "text/plain": [
       "[<matplotlib.lines.Line2D at 0x7f30b013c110>]"
      ]
     },
     "execution_count": 168,
     "metadata": {},
     "output_type": "execute_result"
    },
    {
     "data": {
      "image/png": "[encoded data removed]",
      "text/plain": [
       "<Figure size 432x288 with 1 Axes>"
      ]
     },
     "metadata": {
      "needs_background": "light"
     },
     "output_type": "display_data"
    }
   ],
   "source": [
    "plt.plot(my_spectra['freq_bins'], my_spectra['power'].isel(time=50, nsamples=310))"
   ]
  },
  {
   "cell_type": "code",
   "execution_count": 128,
   "metadata": {},
   "outputs": [
    {
     "data": {
      "text/plain": [
       "<xarray.DataArray 'fft' (time: 169, nsamples: 4000, nlags: 20)>\n",
       "array([[[ 4148978. ,  4099360. ,  3999872.2, ...,  4450910.5,\n",
       "          4379962. ,  4226745. ],\n",
       "        [ 3938983.2,  4010216. ,  4150323.2, ...,  3968207.8,\n",
       "          3823456.8,  3850719. ],\n",
       "        [ 4278446. ,  4179834.2,  3998567. , ...,  3784558. ,\n",
       "          4128969.5,  4320687. ],\n",
       "        ...,\n",
       "        [68258720. , 60806428. , 58962496. , ..., 61330576. ,\n",
       "         59493744. , 62045864. ],\n",
       "        [68189120. , 56757812. , 57331380. , ..., 59036620. ,\n",
       "         59591412. , 64339440. ],\n",
       "        [72035210. , 59557588. , 57999660. , ..., 56431896. ,\n",
       "         59243428. , 65296864. ]],\n",
       "\n",
       "       [[ 4460633. ,  4462012. ,  4618914.5, ...,  4871949. ,\n",
       "          4793800.5,  4637354.5],\n",
       "        [ 4173476.5,  4115621. ,  3880289.2, ...,  4485458. ,\n",
       "          4115519.8,  4033849.5],\n",
       "        [ 4256487. ,  4365199. ,  4583067. , ...,  3437130.5,\n",
       "          3934703.2,  4281293. ],\n",
       "        ...,\n",
       "        [67542750. , 58743820. , 58419040. , ..., 61492044. ,\n",
       "         58297150. , 59706468. ],\n",
       "        [66858016. , 60682304. , 57994732. , ..., 58534948. ,\n",
       "         58696692. , 61192508. ],\n",
       "        [70551920. , 59279736. , 58918548. , ..., 56318300. ,\n",
       "         61390708. , 61490696. ]],\n",
       "\n",
       "       [[ 4396717. ,  4695792.5,  5251653.5, ...,  4308077. ,\n",
       "          4608325.5,  4660169.5],\n",
       "        [ 3636027.5,  3059830.8,  2669482.5, ...,  4426704. ,\n",
       "          3903964.5,  3545303.8],\n",
       "        [ 3574922. ,  4402124.5,  4243181. , ...,  2950487. ,\n",
       "          3029780. ,  3523825.5],\n",
       "        ...,\n",
       "        [70752550. , 58372896. , 56402764. , ..., 61787370. ,\n",
       "         60085108. , 62322670. ],\n",
       "        [70990410. , 59396656. , 60206460. , ..., 64508164. ,\n",
       "         57438324. , 64783224. ],\n",
       "        [70664024. , 58788036. , 55792464. , ..., 58889996. ,\n",
       "         59810016. , 60167784. ]],\n",
       "\n",
       "       ...,\n",
       "\n",
       "       [[ 4358483. ,  4518981.5,  4914765. , ...,  4523624.5,\n",
       "          4600629. ,  4489963.5],\n",
       "        [ 3839724. ,  3552078.5,  3241108.2, ...,  4476003. ,\n",
       "          3991348.2,  3835298.2],\n",
       "        [ 4014565.2,  4394469. ,  4383050. , ...,  3109471.2,\n",
       "          3479215.8,  3860134.2],\n",
       "        ...,\n",
       "        [67691050. , 60737120. , 61160890. , ..., 58674692. ,\n",
       "         63404270. , 61312388. ],\n",
       "        [70766696. , 60424708. , 58925236. , ..., 60058124. ,\n",
       "         60465196. , 64281370. ],\n",
       "        [70752136. , 62259170. , 54764856. , ..., 60350844. ,\n",
       "         61542000. , 62248650. ]],\n",
       "\n",
       "       [[ 4975988. ,  5242089. ,  5473626.5, ...,  3703883. ,\n",
       "          4253624.5,  4550809. ],\n",
       "        [ 2861034.2,  2515029.8,  2919897.2, ...,  4734291.5,\n",
       "          4124257.2,  3452874. ],\n",
       "        [ 4741291. ,  5064333.5,  3826794. , ...,  3172777. ,\n",
       "          3101924. ,  3932914.5],\n",
       "        ...,\n",
       "        [72516590. , 59247676. , 54677670. , ..., 56425468. ,\n",
       "         59502310. , 63382304. ],\n",
       "        [71921050. , 61277240. , 58257456. , ..., 60217104. ,\n",
       "         64159030. , 63914176. ],\n",
       "        [68983330. , 59848124. , 56357468. , ..., 61137890. ,\n",
       "         55476068. , 63782384. ]],\n",
       "\n",
       "       [[ 5027596. ,  5277259. ,  5499322. , ...,  3676271. ,\n",
       "          4250493. ,  4580540.5],\n",
       "        [ 2829325.8,  2492242.2,  2914337. , ...,  4696892.5,\n",
       "          4174006.5,  3452793. ],\n",
       "        [ 4774628.5,  5091468. ,  3824462.8, ...,  3250169.5,\n",
       "          3043716.2,  3922162. ],\n",
       "        ...,\n",
       "        [71949810. , 59790556. , 58067550. , ..., 58930084. ,\n",
       "         61987600. , 61682224. ],\n",
       "        [70721430. , 56373440. , 55402596. , ..., 57940310. ,\n",
       "         57406988. , 63311220. ],\n",
       "        [70616170. , 61103270. , 59022452. , ..., 59808604. ,\n",
       "         59611324. , 63853492. ]]], dtype=float32)\n",
       "Coordinates:\n",
       "  * nlags    (nlags) int64 0 1 2 3 4 5 6 7 8 9 10 11 12 13 14 15 16 17 18 19\n",
       "  * time     (time) datetime64[ns] 2017-06-30T20:10:48.380000 ... 2017-06-30T20:16:01.580000\n",
       "Dimensions without coordinates: nsamples"
      ]
     },
     "execution_count": 128,
     "metadata": {},
     "output_type": "execute_result"
    }
   ],
   "source": [
    "my_spectra['fft'].real"
   ]
  },
  {
   "cell_type": "code",
   "execution_count": null,
   "metadata": {},
   "outputs": [],
   "source": []
  }
 ],
 "metadata": {
  "kernelspec": {
   "display_name": "Python 3",
   "language": "python",
   "name": "python3"
  },
  "language_info": {
   "codemirror_mode": {
    "name": "ipython",
    "version": 3
   },
   "file_extension": ".py",
   "mimetype": "text/x-python",
   "name": "python",
   "nbconvert_exporter": "python",
   "pygments_lexer": "ipython3",
   "version": "3.7.4"
  }
 },
 "nbformat": 4,
 "nbformat_minor": 2
}
