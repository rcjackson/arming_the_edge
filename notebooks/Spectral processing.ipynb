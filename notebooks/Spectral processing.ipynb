{
 "cells": [
  {
   "cell_type": "code",
   "execution_count": 1,
   "metadata": {},
   "outputs": [],
   "source": [
    "## Lidar autocovariance function"
   ]
  },
  {
   "cell_type": "code",
   "execution_count": 2,
   "metadata": {},
   "outputs": [
    {
     "name": "stdout",
     "output_type": "stream",
     "text": [
      "\n",
      "## You are using the Python ARM Radar Toolkit (Py-ART), an open source\n",
      "## library for working with weather radar data. Py-ART is partly\n",
      "## supported by the U.S. Department of Energy as part of the Atmospheric\n",
      "## Radiation Measurement (ARM) Climate Research Facility, an Office of\n",
      "## Science user facility.\n",
      "##\n",
      "## If you use this software to prepare a publication, please cite:\n",
      "##\n",
      "##     JJ Helmus and SM Collis, JORS 2016, doi: 10.5334/jors.119\n",
      "\n",
      "Populating the interactive namespace from numpy and matplotlib\n"
     ]
    },
    {
     "name": "stderr",
     "output_type": "stream",
     "text": [
      "/home/rjackson/.conda/envs/spectra_env/lib/python3.7/site-packages/IPython/core/magics/pylab.py:160: UserWarning: pylab import has clobbered these variables: ['trapz']\n",
      "`%matplotlib` prevents importing * from pylab and numpy\n",
      "  \"\\n`%matplotlib` prevents importing * from pylab and numpy\"\n"
     ]
    }
   ],
   "source": [
    "import xarray as xr\n",
    "import numpy as np\n",
    "from scipy.signal import periodogram\n",
    "from scipy.integrate import trapz\n",
    "import pyart\n",
    "%pylab inline"
   ]
  },
  {
   "cell_type": "code",
   "execution_count": 3,
   "metadata": {},
   "outputs": [],
   "source": [
    "acf_ds = xr.open_dataset('sgpdlacfC1.a1.20170630.201048.nc.v0')"
   ]
  },
  {
   "cell_type": "code",
   "execution_count": 4,
   "metadata": {},
   "outputs": [
    {
     "data": {
      "text/plain": [
       "<xarray.Dataset>\n",
       "Dimensions:      (complex: 2, nlags: 20, nsamples: 4000, time: 169)\n",
       "Coordinates:\n",
       "  * time         (time) datetime64[ns] 2017-06-30T20:10:48.380000 ... 2017-06-30T20:16:01.580000\n",
       "  * complex      (complex) int16 1 2\n",
       "  * nlags        (nlags) int16 0 1 2 3 4 5 6 7 8 9 10 11 12 13 14 15 16 17 18 19\n",
       "Dimensions without coordinates: nsamples\n",
       "Data variables:\n",
       "    base_time    datetime64[ns] ...\n",
       "    time_offset  (time) datetime64[ns] ...\n",
       "    azimuth      (time) float32 ...\n",
       "    elevation    (time) float32 ...\n",
       "    acf_bkg      (nsamples, nlags, complex) float32 ...\n",
       "    acf          (time, nsamples, nlags, complex) float32 ...\n",
       "    lat          float32 ...\n",
       "    lon          float32 ...\n",
       "    alt          float32 ...\n",
       "Attributes:\n",
       "    command_line:          dlacf_ingest -s sgp -f C1 -D\n",
       "    Conventions:           ARM-1.2\n",
       "    process_version:       ingest-dlacf-1.0-0.el6\n",
       "    dod_version:           dlacf-a1-1.0\n",
       "    input_source:          /data/collection/sgp/sgpdlacfC1.00/aet_Stare_107_2...\n",
       "    site_id:               sgp\n",
       "    platform_id:           dlacf\n",
       "    facility_id:           C1\n",
       "    data_level:            a1\n",
       "    location_description:  Southern Great Plains (SGP), Lamont, Oklahoma\n",
       "    datastream:            sgpdlacfC1.a1\n",
       "    wavelength:            1548 nm\n",
       "    sample_rate:           50 MHz\n",
       "    doi:                   10.5439/1393859\n",
       "    dlat:                  36.60529\n",
       "    dlon:                  -97.48658\n",
       "    target_latitude:       36.60446\n",
       "    target_longitude:      -97.48515\n",
       "    target_altitude:       318\n",
       "    home_point_azimuth:    90.9\n",
       "    history:               created by user dsmgr on machine ruby at 2018-02-1..."
      ]
     },
     "execution_count": 4,
     "metadata": {},
     "output_type": "execute_result"
    }
   ],
   "source": [
    "acf_ds"
   ]
  },
  {
   "cell_type": "code",
   "execution_count": 5,
   "metadata": {},
   "outputs": [
    {
     "data": {
      "text/plain": [
       "<xarray.DataArray 'time' (time: 169)>\n",
       "array(['2017-06-30T20:10:48.380000000', '2017-06-30T20:10:49.930000000',\n",
       "       '2017-06-30T20:10:51.470000000', '2017-06-30T20:10:53.020000000',\n",
       "       '2017-06-30T20:10:54.560000000', '2017-06-30T20:10:56.100000000',\n",
       "       '2017-06-30T20:10:57.650000000', '2017-06-30T20:10:59.190000000',\n",
       "       '2017-06-30T20:11:00.730000000', '2017-06-30T20:11:02.280000000',\n",
       "       '2017-06-30T20:11:03.820000000', '2017-06-30T20:11:05.360000000',\n",
       "       '2017-06-30T20:11:06.910000000', '2017-06-30T20:11:08.450000000',\n",
       "       '2017-06-30T20:11:09.990000000', '2017-06-30T20:11:11.530000000',\n",
       "       '2017-06-30T20:11:13.080000000', '2017-06-30T20:11:14.620000000',\n",
       "       '2017-06-30T20:11:16.160000000', '2017-06-30T20:11:17.700000000',\n",
       "       '2017-06-30T20:11:19.240000000', '2017-06-30T20:11:20.780000000',\n",
       "       '2017-06-30T20:11:22.330000000', '2017-06-30T20:11:23.870000000',\n",
       "       '2017-06-30T20:11:25.410000000', '2017-06-30T20:11:26.960000000',\n",
       "       '2017-06-30T20:11:28.500000000', '2017-06-30T20:11:30.040000000',\n",
       "       '2017-06-30T20:11:31.580000000', '2017-06-30T20:11:33.129999000',\n",
       "       '2017-06-30T20:11:34.670000000', '2017-06-30T20:11:36.210000000',\n",
       "       '2017-06-30T20:11:37.750000000', '2017-06-30T20:11:39.310000000',\n",
       "       '2017-06-30T20:11:40.850000000', '2017-06-30T20:11:42.390000000',\n",
       "       '2017-06-30T20:11:43.930000000', '2017-06-30T20:11:45.470000000',\n",
       "       '2017-06-30T20:11:47.010000000', '2017-06-30T20:11:48.550000000',\n",
       "       '2017-06-30T20:11:50.090000000', '2017-06-30T20:11:51.630000000',\n",
       "       '2017-06-30T20:11:53.170000000', '2017-06-30T20:11:54.710000000',\n",
       "       '2017-06-30T20:11:56.250000000', '2017-06-30T20:11:57.790000000',\n",
       "       '2017-06-30T20:11:59.330000000', '2017-06-30T20:12:00.870000000',\n",
       "       '2017-06-30T20:12:02.410000000', '2017-06-30T20:12:03.950000000',\n",
       "       '2017-06-30T20:12:05.490000000', '2017-06-30T20:12:07.030000000',\n",
       "       '2017-06-30T20:12:08.570000000', '2017-06-30T20:12:10.110000000',\n",
       "       '2017-06-30T20:12:11.650000000', '2017-06-30T20:12:13.200000000',\n",
       "       '2017-06-30T20:12:14.740000000', '2017-06-30T20:12:16.280000000',\n",
       "       '2017-06-30T20:12:17.820000000', '2017-06-30T20:12:19.360000000',\n",
       "       '2017-06-30T20:12:20.900000000', '2017-06-30T20:12:22.440000000',\n",
       "       '2017-06-30T20:12:23.980000000', '2017-06-30T20:12:25.519999000',\n",
       "       '2017-06-30T20:12:27.060000000', '2017-06-30T20:12:28.600000000',\n",
       "       '2017-06-30T20:12:30.140000000', '2017-06-30T20:12:31.680000000',\n",
       "       '2017-06-30T20:12:33.220000000', '2017-06-30T20:12:34.760000000',\n",
       "       '2017-06-30T20:12:36.300000000', '2017-06-30T20:12:37.840000000',\n",
       "       '2017-06-30T20:12:39.380000000', '2017-06-30T20:12:40.960000000',\n",
       "       '2017-06-30T20:12:42.500000000', '2017-06-30T20:12:44.040000000',\n",
       "       '2017-06-30T20:12:45.580000000', '2017-06-30T20:12:47.120000000',\n",
       "       '2017-06-30T20:12:48.660000000', '2017-06-30T20:12:50.210000000',\n",
       "       '2017-06-30T20:12:51.750000000', '2017-06-30T20:12:53.320000000',\n",
       "       '2017-06-30T20:12:54.860000000', '2017-06-30T20:12:56.410000000',\n",
       "       '2017-06-30T20:12:57.950000000', '2017-06-30T20:12:59.490000000',\n",
       "       '2017-06-30T20:13:01.030000000', '2017-06-30T20:13:02.570000000',\n",
       "       '2017-06-30T20:13:04.110000000', '2017-06-30T20:13:05.650000000',\n",
       "       '2017-06-30T20:13:07.190000000', '2017-06-30T20:13:08.730000000',\n",
       "       '2017-06-30T20:13:10.270000000', '2017-06-30T20:13:11.820000000',\n",
       "       '2017-06-30T20:13:13.360000000', '2017-06-30T20:13:14.900000000',\n",
       "       '2017-06-30T20:13:16.440000000', '2017-06-30T20:13:17.980000000',\n",
       "       '2017-06-30T20:13:19.519999000', '2017-06-30T20:13:21.060000000',\n",
       "       '2017-06-30T20:13:22.600000000', '2017-06-30T20:13:24.140000000',\n",
       "       '2017-06-30T20:13:25.680000000', '2017-06-30T20:13:27.220000000',\n",
       "       '2017-06-30T20:13:28.760000000', '2017-06-30T20:13:30.300000000',\n",
       "       '2017-06-30T20:13:31.850000000', '2017-06-30T20:13:33.390000000',\n",
       "       '2017-06-30T20:13:34.930000000', '2017-06-30T20:13:36.470000000',\n",
       "       '2017-06-30T20:13:38.010000000', '2017-06-30T20:13:39.550000000',\n",
       "       '2017-06-30T20:13:41.090000000', '2017-06-30T20:13:42.630000000',\n",
       "       '2017-06-30T20:13:44.170000000', '2017-06-30T20:13:45.710000000',\n",
       "       '2017-06-30T20:13:47.250000000', '2017-06-30T20:13:48.790000000',\n",
       "       '2017-06-30T20:13:50.330000000', '2017-06-30T20:13:51.870000000',\n",
       "       '2017-06-30T20:13:53.420000000', '2017-06-30T20:13:54.960000000',\n",
       "       '2017-06-30T20:13:56.500000000', '2017-06-30T20:13:58.030000000',\n",
       "       '2017-06-30T20:13:59.580000000', '2017-06-30T20:14:01.120000000',\n",
       "       '2017-06-30T20:14:02.660000000', '2017-06-30T20:14:04.200000000',\n",
       "       '2017-06-30T20:14:05.740000000', '2017-06-30T20:14:07.280000000',\n",
       "       '2017-06-30T20:14:08.820000000', '2017-06-30T20:14:10.360000000',\n",
       "       '2017-06-30T20:14:11.900000000', '2017-06-30T20:14:13.440000000',\n",
       "       '2017-06-30T20:14:14.980000000', '2017-06-30T20:14:16.519999000',\n",
       "       '2017-06-30T20:14:18.060000000', '2017-06-30T20:14:19.600000000',\n",
       "       '2017-06-30T20:14:21.140000000', '2017-06-30T20:14:22.680000000',\n",
       "       '2017-06-30T20:14:24.220000000', '2017-06-30T20:14:25.760000000',\n",
       "       '2017-06-30T20:14:27.300000000', '2017-06-30T20:14:28.840000000',\n",
       "       '2017-06-30T20:14:30.380000000', '2017-06-30T20:14:31.920000000',\n",
       "       '2017-06-30T20:14:33.460000000', '2017-06-30T20:14:35.000000000',\n",
       "       '2017-06-30T20:14:36.540000000', '2017-06-30T20:14:38.080000000',\n",
       "       '2017-06-30T20:14:39.620000000', '2017-06-30T20:14:41.210000000',\n",
       "       '2017-06-30T20:14:42.750000000', '2017-06-30T20:14:44.290000000',\n",
       "       '2017-06-30T20:14:45.830000000', '2017-06-30T20:14:47.370000000',\n",
       "       '2017-06-30T20:14:48.920000000', '2017-06-30T20:14:50.460000000',\n",
       "       '2017-06-30T20:14:52.000000000', '2017-06-30T20:14:53.540000000',\n",
       "       '2017-06-30T20:14:55.080000000', '2017-06-30T20:14:56.620000000',\n",
       "       '2017-06-30T20:14:58.160000000', '2017-06-30T20:14:59.700000000',\n",
       "       '2017-06-30T20:15:55.400000000', '2017-06-30T20:15:56.940000000',\n",
       "       '2017-06-30T20:15:58.490000000', '2017-06-30T20:16:00.040000000',\n",
       "       '2017-06-30T20:16:01.580000000'], dtype='datetime64[ns]')\n",
       "Coordinates:\n",
       "  * time     (time) datetime64[ns] 2017-06-30T20:10:48.380000 ... 2017-06-30T20:16:01.580000\n",
       "Attributes:\n",
       "    long_name:      Time offset from midnight\n",
       "    standard_name:  time"
      ]
     },
     "execution_count": 5,
     "metadata": {},
     "output_type": "execute_result"
    }
   ],
   "source": [
    "acf_ds['time']"
   ]
  },
  {
   "cell_type": "code",
   "execution_count": null,
   "metadata": {},
   "outputs": [],
   "source": [
    "my_spectra['acf_bkg']"
   ]
  },
  {
   "cell_type": "code",
   "execution_count": null,
   "metadata": {},
   "outputs": [],
   "source": [
    "np.fft.ifft?"
   ]
  },
  {
   "cell_type": "code",
   "execution_count": 6,
   "metadata": {},
   "outputs": [],
   "source": [
    "def get_psd(spectra):\n",
    "    complex_coeff = spectra['acf'].sel(complex=1).values + spectra['acf'].sel(complex=2).values * 1j\n",
    "    freq, power = periodogram(complex_coeff, axis=2, fs=50e6)\n",
    "    inds_sorted = np.argsort(freq)\n",
    "    spectra['power'] = xr.DataArray(power[:, :, inds_sorted], dims=(('time', 'nsamples', 'nlags')))\n",
    "    spectra['freq_bins'] = xr.DataArray(freq[inds_sorted], dims=['nlags'])   \n",
    "    complex_coeff = spectra['acf_bkg'].sel(complex=1).values + spectra['acf_bkg'].sel(complex=2).values * 1j\n",
    "    freq, power = periodogram(complex_coeff, axis=1, fs=50e6)\n",
    "    inds_sorted = np.argsort(freq)\n",
    "    spectra['power_bkg'] = xr.DataArray(power[:, inds_sorted], dims=(('nsamples', 'nlags')))\n",
    "    spectra.attrs['nyquist_velocity'] = 1548e-9/(4*1/50e6)\n",
    "    return spectra"
   ]
  },
  {
   "cell_type": "code",
   "execution_count": 10,
   "metadata": {},
   "outputs": [
    {
     "name": "stdout",
     "output_type": "stream",
     "text": [
      "CPU times: user 1.89 s, sys: 118 ms, total: 2.01 s\n",
      "Wall time: 1.32 s\n"
     ]
    }
   ],
   "source": [
    "%time my_spectra = get_psd(acf_ds)"
   ]
  },
  {
   "cell_type": "code",
   "execution_count": 11,
   "metadata": {},
   "outputs": [],
   "source": [
    "def get_power_and_velocity(spectra):\n",
    "    power = trapz(my_spectra['power'], axis=2, x=my_spectra['freq_bins'].values)\n",
    "    freq_bins_tiled = np.tile(my_spectra['freq_bins'], (power.shape[0], power.shape[1], 1))\n",
    "    print(freq_bins_tiled[2])\n",
    "    frequency = 1/power*trapz(freq_bins_tiled*my_spectra['power'], x=my_spectra['freq_bins'].values, axis=2)\n",
    "    power_bkg = trapz(my_spectra['power_bkg'], axis=1, x=my_spectra['freq_bins'])\n",
    "    my_spectra['mean_power'] = xr.DataArray(power, dims=('time', 'nsamples'))\n",
    "    my_spectra['mean_frequency'] = xr.DataArray(frequency, dims=('time', 'nsamples'))\n",
    "    my_spectra['mean_velocity'] = 1548e-9*my_spectra['mean_frequency']\n",
    "    my_spectra['mean_power_bkg'] = xr.DataArray(power_bkg, dims=('nsamples'))\n",
    "    return power"
   ]
  },
  {
   "cell_type": "code",
   "execution_count": 13,
   "metadata": {},
   "outputs": [
    {
     "name": "stdout",
     "output_type": "stream",
     "text": [
      "[[-25000000. -22500000. -20000000. ...  17500000.  20000000.  22500000.]\n",
      " [-25000000. -22500000. -20000000. ...  17500000.  20000000.  22500000.]\n",
      " [-25000000. -22500000. -20000000. ...  17500000.  20000000.  22500000.]\n",
      " ...\n",
      " [-25000000. -22500000. -20000000. ...  17500000.  20000000.  22500000.]\n",
      " [-25000000. -22500000. -20000000. ...  17500000.  20000000.  22500000.]\n",
      " [-25000000. -22500000. -20000000. ...  17500000.  20000000.  22500000.]]\n",
      "CPU times: user 663 ms, sys: 40.2 ms, total: 703 ms\n",
      "Wall time: 180 ms\n"
     ]
    }
   ],
   "source": [
    "%time power = get_power_and_velocity(my_spectra)"
   ]
  },
  {
   "cell_type": "code",
   "execution_count": 63,
   "metadata": {},
   "outputs": [],
   "source": [
    "def get_velocity_and_snr(spectra_ds, gate_resolution=60):\n",
    "    num_samples = int(gate_resolution/3)\n",
    "    sorts = np.argsort(my_spectra['mean_velocity'][0])\n",
    "    vel_bins = np.linspace(\n",
    "        -my_spectra.attrs['nyquist_velocity'], my_spectra.attrs['nyquist_velocity'], 40)\n",
    "    vbins = (vel_bins[:-1]+vel_bins[1:])/2\n",
    "    lin_power = my_spectra['mean_power']\n",
    "    lin_power = np.reshape(\n",
    "        lin_power.values, (int(lin_power.shape[0]), int(lin_power.shape[1]/num_samples), num_samples))\n",
    "    velocity = np.reshape(my_spectra['mean_velocity'].values, lin_power.shape)\n",
    "    power_spectra = np.zeros((lin_power.shape[0], lin_power.shape[1], len(vel_bins)-1))\n",
    "    mean_vel = np.nan*np.ones((power_spectra.shape[0], power_spectra.shape[1]))\n",
    "    power_bkg = np.reshape(my_spectra['mean_power_bkg'].values, (lin_power.shape[1], lin_power.shape[2]))\n",
    "    power_bkg = np.tile(power_bkg, (lin_power.shape[0], 1, 1))\n",
    "    power_weights = lin_power/power_bkg\n",
    "    log_power = np.log10(power_weights)*10\n",
    "    power_weights = np.where(log_power > 10, power_weights, 0)\n",
    "    snr = np.zeros_like(mean_vel)\n",
    "    for i in range(lin_power.shape[0]):\n",
    "        for j in range(lin_power.shape[1]):\n",
    "            power_spectra[i, j], bins = np.histogram(\n",
    "                velocity[i, j],\n",
    "                density=True, bins=vel_bins, weights=power_weights[i,j])\n",
    "            if(np.any(power_weights[i,j] > 0)):\n",
    "                 mean_vel[i,j] = vbins[np.argmax(power_spectra[i, j])]\n",
    "            else:\n",
    "                 mean_vel[i,j] = np.nan\n",
    "    \n",
    "    snr = log_power.mean(axis = 2)     \n",
    "    spectra_ds['range'] = xr.DataArray(gate_resolution*np.arange(int(lin_power.shape[1])),\n",
    "                                       dims=('range'))\n",
    "    spectra_ds['bins'] = xr.DataArray(vbins, dims=('bins'))\n",
    "    spectra_ds['doppler_velocity'] = xr.DataArray(mean_vel, dims=('time', 'range'))\n",
    "    spectra_ds['snr'] = xr.DataArray(snr, dims=('time', 'range'))\n",
    "    spectra_ds['power_spectral_density'] = xr.DataArray(power_spectra, dims=('time', 'range', 'bins'))\n",
    "    return spectra_ds"
   ]
  },
  {
   "cell_type": "code",
   "execution_count": 64,
   "metadata": {},
   "outputs": [
    {
     "name": "stdout",
     "output_type": "stream",
     "text": [
      "CPU times: user 2.5 s, sys: 11.7 ms, total: 2.51 s\n",
      "Wall time: 1.9 s\n"
     ]
    }
   ],
   "source": [
    "%time spectra_ds = get_velocity_and_snr(my_spectra)"
   ]
  },
  {
   "cell_type": "code",
   "execution_count": 38,
   "metadata": {},
   "outputs": [
    {
     "data": {
      "image/png": "[encoded data removed]",
      "text/plain": [
       "<Figure size 432x288 with 2 Axes>"
      ]
     },
     "metadata": {
      "needs_background": "light"
     },
     "output_type": "display_data"
    }
   ],
   "source": [
    "vbins = new_spectra_ds['bins']\n",
    "x, y = np.meshgrid(new_spectra_ds['range'], vbins)\n",
    "plt.pcolormesh(x, y, new_spectra_ds['power_spectral_density'][90].T*100)\n",
    "plt.ylabel(\"Doppler velocity [m/s]\")\n",
    "ax = plt.colorbar()\n",
    "ax.set_label(\"Power spectral density\")"
   ]
  },
  {
   "cell_type": "code",
   "execution_count": 39,
   "metadata": {},
   "outputs": [
    {
     "data": {
      "text/plain": [
       "<xarray.DataArray 'doppler_velocity' (time: 169, range: 200)>\n",
       "array([[nan, nan, nan, ..., nan, nan, nan],\n",
       "       [nan, nan, nan, ..., nan, nan, nan],\n",
       "       [nan, nan, nan, ..., nan, nan, nan],\n",
       "       ...,\n",
       "       [nan, nan, nan, ..., nan, nan, nan],\n",
       "       [nan, nan, nan, ..., nan, nan, nan],\n",
       "       [nan, nan, nan, ..., nan, nan, nan]])\n",
       "Coordinates:\n",
       "  * range    (range) int64 0 60 120 180 240 ... 11700 11760 11820 11880 11940\n",
       "  * time     (time) datetime64[ns] 2017-06-30T20:10:48.380000 ... 2017-06-30T20:16:01.580000"
      ]
     },
     "execution_count": 39,
     "metadata": {},
     "output_type": "execute_result"
    }
   ],
   "source": [
    "new_spectra_ds['doppler_velocity']"
   ]
  },
  {
   "cell_type": "code",
   "execution_count": 65,
   "metadata": {},
   "outputs": [
    {
     "data": {
      "text/plain": [
       "(0, 3000)"
      ]
     },
     "execution_count": 65,
     "metadata": {},
     "output_type": "execute_result"
    },
    {
     "data": {
      "image/png": "[encoded data removed]",
      "text/plain": [
       "<Figure size 432x288 with 2 Axes>"
      ]
     },
     "metadata": {
      "needs_background": "light"
     },
     "output_type": "display_data"
    }
   ],
   "source": [
    "x, y = np.meshgrid(np.arange(new_spectra_ds['doppler_velocity'].values.shape[0]), new_spectra_ds['range'])\n",
    "plt.pcolormesh(x, y, new_spectra_ds['doppler_velocity'].values.T , vmin=-19, vmax=19)\n",
    "plt.colorbar(label='Doppler Velocity')\n",
    "plt.ylim([0, 3000])"
   ]
  },
  {
   "cell_type": "code",
   "execution_count": 66,
   "metadata": {},
   "outputs": [
    {
     "data": {
      "text/plain": [
       "(0, 3000)"
      ]
     },
     "execution_count": 66,
     "metadata": {},
     "output_type": "execute_result"
    },
    {
     "data": {
      "image/png": "[encoded data removed]",
      "text/plain": [
       "<Figure size 432x288 with 2 Axes>"
      ]
     },
     "metadata": {
      "needs_background": "light"
     },
     "output_type": "display_data"
    }
   ],
   "source": [
    "height_bins = 60*np.arange(new_spectra_ds['doppler_velocity'].values.shape[1])\n",
    "x, y = np.meshgrid(np.arange(new_spectra_ds['doppler_velocity'].values.shape[0]), height_bins)\n",
    "plt.pcolormesh(x, y, spectra_ds['snr'].values.T, vmin=0, vmax=30, cmap='pyart_HomeyerRainbow')\n",
    "plt.colorbar(label='SNR [dB]')\n",
    "plt.ylim([0, 3000])"
   ]
  },
  {
   "cell_type": "code",
   "execution_count": 52,
   "metadata": {},
   "outputs": [
    {
     "data": {
      "text/plain": [
       "array([0., 0., 0., 0., 0., 0., 0., 0., 0., 0., 0., 0., 0., 0., 0., 0., 0.,\n",
       "       0., 0., 0., 0., 0., 0., 0., 0., 0., 0., 0., 0., 0., 0., 0., 0., 0.,\n",
       "       0., 0., 0., 0., 0., 0., 0., 0., 0., 0., 0., 0., 0., 0., 0., 0., 0.,\n",
       "       0., 0., 0., 0., 0., 0., 0., 0., 0., 0., 0., 0., 0., 0., 0., 0., 0.,\n",
       "       0., 0., 0., 0., 0., 0., 0., 0., 0., 0., 0., 0., 0., 0., 0., 0., 0.,\n",
       "       0., 0., 0., 0., 0., 0., 0., 0., 0., 0., 0., 0., 0., 0., 0., 0., 0.,\n",
       "       0., 0., 0., 0., 0., 0., 0., 0., 0., 0., 0., 0., 0., 0., 0., 0., 0.,\n",
       "       0., 0., 0., 0., 0., 0., 0., 0., 0., 0., 0., 0., 0., 0., 0., 0., 0.,\n",
       "       0., 0., 0., 0., 0., 0., 0., 0., 0., 0., 0., 0., 0., 0., 0., 0., 0.,\n",
       "       0., 0., 0., 0., 0., 0., 0., 0., 0., 0., 0., 0., 0., 0., 0., 0.])"
      ]
     },
     "execution_count": 52,
     "metadata": {},
     "output_type": "execute_result"
    }
   ],
   "source": [
    "new_spectra_ds['snr'].values.T[70]"
   ]
  },
  {
   "cell_type": "code",
   "execution_count": 645,
   "metadata": {},
   "outputs": [
    {
     "data": {
      "text/plain": [
       "<xarray.Dataset>\n",
       "Dimensions:         (complex: 2, nlags: 20, nsamples: 4000, time: 169)\n",
       "Coordinates:\n",
       "  * time            (time) datetime64[ns] 2017-06-30T20:10:48.380000 ... 2017-06-30T20:16:01.580000\n",
       "  * nlags           (nlags) int64 0 1 2 3 4 5 6 7 8 ... 12 13 14 15 16 17 18 19\n",
       "  * complex         (complex) int16 1 2\n",
       "Dimensions without coordinates: nsamples\n",
       "Data variables:\n",
       "    base_time       datetime64[ns] ...\n",
       "    time_offset     (time) datetime64[ns] ...\n",
       "    azimuth         (time) float32 20.90088 20.90088 ... 20.900162 20.900162\n",
       "    elevation       (time) float32 90.00288 90.0 90.0 ... 90.0 90.0 90.00144\n",
       "    acf_bkg         (nsamples, nlags, complex) float32 ...\n",
       "    acf             (time, nsamples, nlags, complex) float32 ...\n",
       "    lat             float32 ...\n",
       "    lon             float32 ...\n",
       "    alt             float32 ...\n",
       "    fft             (time, nsamples, nlags) complex64 (4148978+62272.375j) ... (63853492+6530590j)\n",
       "    freq_bins       (nlags) float64 -2.5e+07 -2.25e+07 -2e+07 ... 2e+07 2.25e+07\n",
       "    power           (time, nsamples, nlags) float32 17217.893 ... 4119917.2\n",
       "    power_bkg       (nsamples) float64 6.791e+12 8.296e+12 ... 1.581e+14\n",
       "    mean_power      (time, nsamples) float64 8.017e+12 9.623e+12 ... 1.635e+14\n",
       "    mean_frequency  (time, nsamples) float64 2.102e+06 1.511e+06 ... -1.34e+06\n",
       "    mean_velocity   (time, nsamples) float64 3.254 2.339 1.653 ... -1.87 -2.074\n",
       "Attributes:\n",
       "    command_line:          dlacf_ingest -s sgp -f C1 -D\n",
       "    Conventions:           ARM-1.2\n",
       "    process_version:       ingest-dlacf-1.0-0.el6\n",
       "    dod_version:           dlacf-a1-1.0\n",
       "    input_source:          /data/collection/sgp/sgpdlacfC1.00/aet_Stare_107_2...\n",
       "    site_id:               sgp\n",
       "    platform_id:           dlacf\n",
       "    facility_id:           C1\n",
       "    data_level:            a1\n",
       "    location_description:  Southern Great Plains (SGP), Lamont, Oklahoma\n",
       "    datastream:            sgpdlacfC1.a1\n",
       "    wavelength:            1548 nm\n",
       "    sample_rate:           50 MHz\n",
       "    doi:                   10.5439/1393859\n",
       "    dlat:                  36.60529\n",
       "    dlon:                  -97.48658\n",
       "    target_latitude:       36.60446\n",
       "    target_longitude:      -97.48515\n",
       "    target_altitude:       318\n",
       "    home_point_azimuth:    90.9\n",
       "    history:               created by user dsmgr on machine ruby at 2018-02-1...\n",
       "    nyquist_velocity:      19.35"
      ]
     },
     "execution_count": 645,
     "metadata": {},
     "output_type": "execute_result"
    }
   ],
   "source": [
    "my_spectra"
   ]
  },
  {
   "cell_type": "code",
   "execution_count": 632,
   "metadata": {},
   "outputs": [
    {
     "data": {
      "text/plain": [
       "array([[ 0.        , -1.98461538, -1.98461538, ..., -1.98461538,\n",
       "        -1.98461538, -1.98461538],\n",
       "       [ 0.        , -1.98461538, -1.98461538, ..., -1.98461538,\n",
       "        -1.98461538, -1.98461538],\n",
       "       [-0.99230769, -1.98461538, -1.98461538, ..., -1.98461538,\n",
       "        -1.98461538, -1.98461538],\n",
       "       ...,\n",
       "       [-0.99230769, -1.98461538, -1.98461538, ..., -1.98461538,\n",
       "        -1.98461538, -1.98461538],\n",
       "       [-0.99230769, -1.98461538, -1.98461538, ..., -1.98461538,\n",
       "        -1.98461538, -1.98461538],\n",
       "       [-0.99230769, -1.98461538, -1.98461538, ..., -1.98461538,\n",
       "        -1.98461538, -1.98461538]])"
      ]
     },
     "execution_count": 632,
     "metadata": {},
     "output_type": "execute_result"
    }
   ],
   "source": [
    "mean_vel"
   ]
  },
  {
   "cell_type": "code",
   "execution_count": null,
   "metadata": {},
   "outputs": [],
   "source": []
  }
 ],
 "metadata": {
  "kernelspec": {
   "display_name": "Python [conda env:.conda-spectra_env] *",
   "language": "python",
   "name": "conda-env-.conda-spectra_env-py"
  },
  "language_info": {
   "codemirror_mode": {
    "name": "ipython",
    "version": 3
   },
   "file_extension": ".py",
   "mimetype": "text/x-python",
   "name": "python",
   "nbconvert_exporter": "python",
   "pygments_lexer": "ipython3",
   "version": "3.7.4"
  }
 },
 "nbformat": 4,
 "nbformat_minor": 2
}
