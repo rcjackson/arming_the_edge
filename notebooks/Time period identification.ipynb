{
 "cells": [
  {
   "cell_type": "code",
   "execution_count": null,
   "metadata": {},
   "outputs": [],
   "source": [
    "## Image classification"
   ]
  },
  {
   "cell_type": "code",
   "execution_count": 1,
   "metadata": {},
   "outputs": [
    {
     "ename": "ModuleNotFoundError",
     "evalue": "No module named 'tensorflow_addons'",
     "output_type": "error",
     "traceback": [
      "\u001b[0;31m---------------------------------------------------------------------------\u001b[0m",
      "\u001b[0;31mModuleNotFoundError\u001b[0m                       Traceback (most recent call last)",
      "\u001b[0;32m<ipython-input-1-0291b12e27b6>\u001b[0m in \u001b[0;36m<module>\u001b[0;34m\u001b[0m\n\u001b[1;32m      2\u001b[0m \u001b[0;32mimport\u001b[0m \u001b[0mxarray\u001b[0m \u001b[0;32mas\u001b[0m \u001b[0mxr\u001b[0m\u001b[0;34m\u001b[0m\u001b[0;34m\u001b[0m\u001b[0m\n\u001b[1;32m      3\u001b[0m \u001b[0;32mimport\u001b[0m \u001b[0mtensorflow\u001b[0m \u001b[0;32mas\u001b[0m \u001b[0mtf\u001b[0m\u001b[0;34m\u001b[0m\u001b[0;34m\u001b[0m\u001b[0m\n\u001b[0;32m----> 4\u001b[0;31m \u001b[0;32mimport\u001b[0m \u001b[0mtensorflow_addons\u001b[0m \u001b[0;32mas\u001b[0m \u001b[0mtfa\u001b[0m\u001b[0;34m\u001b[0m\u001b[0;34m\u001b[0m\u001b[0m\n\u001b[0m\u001b[1;32m      5\u001b[0m \u001b[0;34m\u001b[0m\u001b[0m\n\u001b[1;32m      6\u001b[0m \u001b[0;32mfrom\u001b[0m \u001b[0mdatetime\u001b[0m \u001b[0;32mimport\u001b[0m \u001b[0mdatetime\u001b[0m\u001b[0;34m\u001b[0m\u001b[0;34m\u001b[0m\u001b[0m\n",
      "\u001b[0;31mModuleNotFoundError\u001b[0m: No module named 'tensorflow_addons'"
     ]
    }
   ],
   "source": [
    "import pandas as pd\n",
    "import xarray as xr\n",
    "import tensorflow as tf\n",
    "import tensorflow_addons as tfa\n",
    "\n",
    "from datetime import datetime\n",
    "from glob import glob\n",
    "from sklearn.model_selection import train_test_split\n",
    "from tensorflow.keras.layers import Input, Dense, Conv2D, Conv2DTranspose, BatchNormalization, Activation\n",
    "from tensorflow.keras.layers import Cropping2D, MaxPooling2D, UpSampling2D, ZeroPadding2D, GlobalMaxPooling2D\n",
    "from tensorflow.keras.layers import GlobalAveragePooling2D\n",
    "from tensorflow.keras.layers import AveragePooling2D, Flatten, Add\n",
    "from tensorflow.keras.models import Model, load_model, Sequential\n",
    "from tensorflow.keras.utils import Sequence, to_categorical\n",
    "from tensorflow.keras.callbacks import ModelCheckpoint, EarlyStopping, ReduceLROnPlateau\n",
    "from tensorflow.keras.regularizers import l2\n",
    "from tensorflow.keras.optimizers import Adam\n",
    "\n",
    "%pylab inline"
   ]
  },
  {
   "cell_type": "code",
   "execution_count": 145,
   "metadata": {},
   "outputs": [
    {
     "data": {
      "text/html": [
       "<div>\n",
       "<style scoped>\n",
       "    .dataframe tbody tr th:only-of-type {\n",
       "        vertical-align: middle;\n",
       "    }\n",
       "\n",
       "    .dataframe tbody tr th {\n",
       "        vertical-align: top;\n",
       "    }\n",
       "\n",
       "    .dataframe thead th {\n",
       "        text-align: right;\n",
       "    }\n",
       "</style>\n",
       "<table border=\"1\" class=\"dataframe\">\n",
       "  <thead>\n",
       "    <tr style=\"text-align: right;\">\n",
       "      <th></th>\n",
       "      <th>Date</th>\n",
       "      <th>Time</th>\n",
       "      <th>Label</th>\n",
       "    </tr>\n",
       "  </thead>\n",
       "  <tbody>\n",
       "    <tr>\n",
       "      <th>0</th>\n",
       "      <td>2017-06-30</td>\n",
       "      <td>2011-2016</td>\n",
       "      <td>cloudy</td>\n",
       "    </tr>\n",
       "    <tr>\n",
       "      <th>1</th>\n",
       "      <td>2017-07-31</td>\n",
       "      <td>1745-1746</td>\n",
       "      <td>clear</td>\n",
       "    </tr>\n",
       "    <tr>\n",
       "      <th>2</th>\n",
       "      <td>2017-07-31</td>\n",
       "      <td>1746-0000</td>\n",
       "      <td>cloudy</td>\n",
       "    </tr>\n",
       "    <tr>\n",
       "      <th>3</th>\n",
       "      <td>2017-08-01</td>\n",
       "      <td>0000-0314</td>\n",
       "      <td>cloudy</td>\n",
       "    </tr>\n",
       "    <tr>\n",
       "      <th>4</th>\n",
       "      <td>2017-08-01</td>\n",
       "      <td>0314-0330</td>\n",
       "      <td>rain</td>\n",
       "    </tr>\n",
       "    <tr>\n",
       "      <th>...</th>\n",
       "      <td>...</td>\n",
       "      <td>...</td>\n",
       "      <td>...</td>\n",
       "    </tr>\n",
       "    <tr>\n",
       "      <th>2153</th>\n",
       "      <td>2017-09-30</td>\n",
       "      <td>2332-2334</td>\n",
       "      <td>clear</td>\n",
       "    </tr>\n",
       "    <tr>\n",
       "      <th>2154</th>\n",
       "      <td>2017-09-30</td>\n",
       "      <td>2334-2340</td>\n",
       "      <td>cloudy</td>\n",
       "    </tr>\n",
       "    <tr>\n",
       "      <th>2155</th>\n",
       "      <td>2017-09-30</td>\n",
       "      <td>2340-2342</td>\n",
       "      <td>clear</td>\n",
       "    </tr>\n",
       "    <tr>\n",
       "      <th>2156</th>\n",
       "      <td>2017-09-30</td>\n",
       "      <td>2342-2358</td>\n",
       "      <td>cloudy</td>\n",
       "    </tr>\n",
       "    <tr>\n",
       "      <th>2157</th>\n",
       "      <td>2017-09-30</td>\n",
       "      <td>2358-2359</td>\n",
       "      <td>clear</td>\n",
       "    </tr>\n",
       "  </tbody>\n",
       "</table>\n",
       "<p>2158 rows × 3 columns</p>\n",
       "</div>"
      ],
      "text/plain": [
       "            Date       Time   Label\n",
       "0     2017-06-30  2011-2016  cloudy\n",
       "1     2017-07-31  1745-1746   clear\n",
       "2     2017-07-31  1746-0000  cloudy\n",
       "3     2017-08-01  0000-0314  cloudy\n",
       "4     2017-08-01  0314-0330    rain\n",
       "...          ...        ...     ...\n",
       "2153  2017-09-30  2332-2334   clear\n",
       "2154  2017-09-30  2334-2340  cloudy\n",
       "2155  2017-09-30  2340-2342   clear\n",
       "2156  2017-09-30  2342-2358  cloudy\n",
       "2157  2017-09-30  2358-2359   clear\n",
       "\n",
       "[2158 rows x 3 columns]"
      ]
     },
     "execution_count": 145,
     "metadata": {},
     "output_type": "execute_result"
    }
   ],
   "source": [
    "label_df = pd.read_csv('lidar_labels.csv')\n",
    "label_df"
   ]
  },
  {
   "cell_type": "code",
   "execution_count": 216,
   "metadata": {},
   "outputs": [],
   "source": [
    "date_list = np.array([datetime.datetime.strptime(x, '%Y-%m-%d').date() for x in label_df[\"Date\"].values])\n",
    "start_time_list = np.array([datetime.datetime.strptime(x[0:4], '%H%M').time() for x in label_df[\"Time\"].values])\n",
    "end_time_list = np.array([datetime.datetime.strptime(x[5:], '%H%M').time() for x in label_df[\"Time\"].values])\n",
    "\n",
    "def get_label(dt):\n",
    "    label_ind = np.where(np.logical_and.reduce(\n",
    "        (date_list == dt.date(), start_time_list <= dt.time(), end_time_list > dt.time())))\n",
    "    if not label_ind[0].size:\n",
    "        return np.nan\n",
    "    my_string = label_df[\"Label\"].values[label_ind][0]\n",
    "        \n",
    "    if my_string.lower() == 'clear':\n",
    "        return 0\n",
    "    elif my_string.lower() == 'cloudy' or my_string.lower() == \"cloud\":\n",
    "        return 1\n",
    "    elif my_string.lower() == 'rain':\n",
    "        return 2\n",
    "    \n",
    "    raise ValueError(\"Invalid value %s for label\" % my_string)\n",
    "    \n",
    "def dt64_to_dt(dt):\n",
    "    ts = (dt - np.datetime64('1970-01-01T00:00:00Z')) / np.timedelta64(1, 's')\n",
    "    return datetime.datetime.utcfromtimestamp(ts)"
   ]
  },
  {
   "cell_type": "code",
   "execution_count": null,
   "metadata": {},
   "outputs": [],
   "source": [
    "plt.plot(date_list)"
   ]
  },
  {
   "cell_type": "code",
   "execution_count": null,
   "metadata": {},
   "outputs": [],
   "source": [
    "start_time_list = [datetime.datetime.strptime(x[0:4], '%H%M').time() for x in label_df[\"Time\"].values]\n",
    "end_time_list = [datetime.datetime.strptime(x[5:], '%H%M').time() for x in label_df[\"Time\"].values]"
   ]
  },
  {
   "cell_type": "code",
   "execution_count": null,
   "metadata": {},
   "outputs": [],
   "source": [
    "start_time_list"
   ]
  },
  {
   "cell_type": "code",
   "execution_count": null,
   "metadata": {},
   "outputs": [],
   "source": [
    "get_label(datetime.datetime(2017,8,2,3,41))"
   ]
  },
  {
   "cell_type": "code",
   "execution_count": null,
   "metadata": {},
   "outputs": [],
   "source": [
    "file_list = glob(\"/run/user/7920/gvfs/sftp:host=bebop.lcrc.anl.gov/lcrc/group/earthscience/rjackson/sgp_lidar/processed_moments/sgpdlacfC1.a1.*moments.nc\")"
   ]
  },
  {
   "cell_type": "code",
   "execution_count": null,
   "metadata": {},
   "outputs": [],
   "source": [
    "my_ds = xr.open_mfdataset(\"/run/user/7920/gvfs/sftp:host=bebop.lcrc.anl.gov/lcrc/group/earthscience/rjackson/sgp_lidar/processed_moments/sgpdlacfC1.a1.20170818*moments.nc\")"
   ]
  },
  {
   "cell_type": "code",
   "execution_count": null,
   "metadata": {},
   "outputs": [],
   "source": [
    "my_ds"
   ]
  },
  {
   "cell_type": "code",
   "execution_count": null,
   "metadata": {},
   "outputs": [],
   "source": [
    "dts = np.array([dt64_to_dt(x) for x in my_ds.time.values])"
   ]
  },
  {
   "cell_type": "code",
   "execution_count": null,
   "metadata": {},
   "outputs": [],
   "source": [
    "my_ds.snr.max().values"
   ]
  },
  {
   "cell_type": "code",
   "execution_count": null,
   "metadata": {},
   "outputs": [],
   "source": [
    "my_ds.snr.isel(time=0).values"
   ]
  },
  {
   "cell_type": "markdown",
   "metadata": {},
   "source": [
    "## Encoder for lidar data"
   ]
  },
  {
   "cell_type": "code",
   "execution_count": 268,
   "metadata": {},
   "outputs": [],
   "source": [
    "tfrecords_path = '/nfs/gce/projects/digr/lidar_tfrecords/5min/*.tfrecord'\n",
    "is_training = True\n",
    "shuffle = False\n",
    "my_shape = ()\n",
    "def input_fn():\n",
    "    def parse_record(record):\n",
    "        feature={'width': tf.io.FixedLenFeature([], tf.int64, default_value=0),\n",
    "                 'height': tf.io.FixedLenFeature([], tf.int64, default_value=0),\n",
    "                 'image_raw': tf.io.FixedLenFeature([], tf.string, default_value=\"\"),\n",
    "                 'start_time': tf.io.FixedLenFeature([], tf.float32, default_value=0),\n",
    "                 'end_time': tf.io.FixedLenFeature([], tf.float32, default_value=0)\n",
    "                 }\n",
    "        features = tf.io.parse_single_example(record, feature)\n",
    "        my_shape = (features['width'], features['height'], 1)\n",
    "        features['image_raw'] = tf.io.decode_raw(features['image_raw'], tf.float64)\n",
    "\n",
    "        features['image_raw'] = tf.reshape(features['image_raw'], shape=list(my_shape))\n",
    "             \n",
    "        return {'input': features['image_raw'], 'width': features['width'], 'height': features['height'],\n",
    "                'start_time': features['start_time'],\n",
    "                'end_time': features['end_time']}\n",
    "\n",
    "    def rotate90(record):\n",
    "        record['input'] = tf.image.rot90(record['input'], k=1)\n",
    "        record['input'] = tf.transpose(record['input'], perm=[1, 0, 2])\n",
    "        return record\n",
    "    \n",
    "    def rotate180(record):\n",
    "        record['input'] = tf.image.rot90(record['input'], k=2)\n",
    "        #record['input'] = tf.transpose(record['input'])\n",
    "        return record\n",
    "    \n",
    "    def get_label_rec(record):\n",
    "        print(record['start_time'])\n",
    "        record['output'] = get_label(dt64_to_dt(record['start_time']))\n",
    "        return record\n",
    "        \n",
    "    file_list = sorted(glob(tfrecords_path))\n",
    "    dataset = tf.data.TFRecordDataset(file_list)\n",
    "\n",
    "    dataset = dataset.map(parse_record, num_parallel_calls=4)\n",
    "    dataset = dataset.map(get_label_rec)\n",
    "    #dataset = dataset.concatenate(dataset.map(rotate180))\n",
    "    #dataset = dataset.concatenate(dataset.map(rotate90))\n",
    "    #rotate45 = lambda x: rotate_input(x, np.pi/4)\n",
    "    #dataset = dataset.concatenate(dataset.map(rotate45))\n",
    "    #rotatem45 = lambda x: rotate_input(x, -np.pi/4)\n",
    "    #dataset = dataset.concatenate(dataset.map(rotatem45))\n",
    "    #rotate135 = lambda x: rotate_input(x, 3*np.pi/4)\n",
    "    #dataset = dataset.concatenate(dataset.map(rotate135))\n",
    "    #rotatem135 = lambda x: rotate_input(x, -3*np.pi/4)\n",
    "    #dataset = dataset.concatenate(dataset.map(rotatem135))\n",
    "    #rotate270 = lambda x: rotate_input(x, 3*np.pi)\n",
    "    #dataset = dataset.concatenate(dataset.map(rotate270))\n",
    "    # add rotated images\n",
    "    \n",
    "    dataset = dataset.shuffle(20)\n",
    "    dataset = dataset.batch(20)\n",
    "    dataset = tf.data.Dataset.zip((dataset))\n",
    "    \n",
    "    return dataset\n",
    "\n",
    "def _int64_feature(value):\n",
    "    \"\"\"Creates a tf.Train.Feature from an int64 value.\"\"\"\n",
    "    if value is None:\n",
    "        value = []\n",
    "    if not isinstance(value, list):\n",
    "        value = [value]\n",
    "    return tf.train.Feature(int64_list=tf.train.Int64List(value=value))\n",
    "\n",
    "\n",
    "def _bytes_feature(value):\n",
    "    \"\"\"Creates a tf.Train.Feature from a bytes value.\"\"\"\n",
    "    if value is None:\n",
    "        value = []\n",
    "    if isinstance(value, np.ndarray):\n",
    "        value = value.reshape(-1)\n",
    "        value = bytes(value)\n",
    "    if not isinstance(value, list):\n",
    "        value = [value]\n",
    "    return tf.train.Feature(bytes_list=tf.train.BytesList(value=value))\n",
    "\n",
    "def _float_feature(value):\n",
    "    \"\"\"Creates a tf.Train.Feature from a bytes value.\"\"\"\n",
    "    if value is None:\n",
    "        value = []\n",
    "    if isinstance(value, np.ndarray):\n",
    "        value = value.reshape(-1)\n",
    "        value = bytes(value)\n",
    "    if not isinstance(value, list):\n",
    "        value = [value]\n",
    "    return tf.train.Feature(float_list=tf.train.FloatList(value=value))"
   ]
  },
  {
   "cell_type": "code",
   "execution_count": 267,
   "metadata": {},
   "outputs": [
    {
     "name": "stdout",
     "output_type": "stream",
     "text": [
      "Tensor(\"args_3:0\", shape=(), dtype=float32)\n"
     ]
    },
    {
     "ename": "AttributeError",
     "evalue": "in user code:\n\n    <ipython-input-266-fe94e21095c4>:35 get_label_rec  *\n        record['output'] = get_label(dt64_to_dt(record['start_time'].numpy()))\n\n    AttributeError: 'Tensor' object has no attribute 'numpy'\n",
     "output_type": "error",
     "traceback": [
      "\u001b[0;31m---------------------------------------------------------------------------\u001b[0m",
      "\u001b[0;31mAttributeError\u001b[0m                            Traceback (most recent call last)",
      "\u001b[0;32m<ipython-input-267-c6f28182ec8e>\u001b[0m in \u001b[0;36m<module>\u001b[0;34m\u001b[0m\n\u001b[0;32m----> 1\u001b[0;31m \u001b[0mdataset\u001b[0m \u001b[0;34m=\u001b[0m \u001b[0minput_fn\u001b[0m\u001b[0;34m(\u001b[0m\u001b[0;34m)\u001b[0m\u001b[0;34m\u001b[0m\u001b[0;34m\u001b[0m\u001b[0m\n\u001b[0m",
      "\u001b[0;32m<ipython-input-266-fe94e21095c4>\u001b[0m in \u001b[0;36minput_fn\u001b[0;34m()\u001b[0m\n\u001b[1;32m     40\u001b[0m \u001b[0;34m\u001b[0m\u001b[0m\n\u001b[1;32m     41\u001b[0m     \u001b[0mdataset\u001b[0m \u001b[0;34m=\u001b[0m \u001b[0mdataset\u001b[0m\u001b[0;34m.\u001b[0m\u001b[0mmap\u001b[0m\u001b[0;34m(\u001b[0m\u001b[0mparse_record\u001b[0m\u001b[0;34m,\u001b[0m \u001b[0mnum_parallel_calls\u001b[0m\u001b[0;34m=\u001b[0m\u001b[0;36m4\u001b[0m\u001b[0;34m)\u001b[0m\u001b[0;34m\u001b[0m\u001b[0;34m\u001b[0m\u001b[0m\n\u001b[0;32m---> 42\u001b[0;31m     \u001b[0mdataset\u001b[0m \u001b[0;34m=\u001b[0m \u001b[0mdataset\u001b[0m\u001b[0;34m.\u001b[0m\u001b[0mmap\u001b[0m\u001b[0;34m(\u001b[0m\u001b[0mget_label_rec\u001b[0m\u001b[0;34m)\u001b[0m\u001b[0;34m\u001b[0m\u001b[0;34m\u001b[0m\u001b[0m\n\u001b[0m\u001b[1;32m     43\u001b[0m     \u001b[0;31m#dataset = dataset.concatenate(dataset.map(rotate180))\u001b[0m\u001b[0;34m\u001b[0m\u001b[0;34m\u001b[0m\u001b[0;34m\u001b[0m\u001b[0m\n\u001b[1;32m     44\u001b[0m     \u001b[0;31m#dataset = dataset.concatenate(dataset.map(rotate90))\u001b[0m\u001b[0;34m\u001b[0m\u001b[0;34m\u001b[0m\u001b[0;34m\u001b[0m\u001b[0m\n",
      "\u001b[0;32m~/.conda/envs/tensorflow_env/lib/python3.7/site-packages/tensorflow_core/python/data/ops/dataset_ops.py\u001b[0m in \u001b[0;36mmap\u001b[0;34m(self, map_func, num_parallel_calls)\u001b[0m\n\u001b[1;32m   1591\u001b[0m     \"\"\"\n\u001b[1;32m   1592\u001b[0m     \u001b[0;32mif\u001b[0m \u001b[0mnum_parallel_calls\u001b[0m \u001b[0;32mis\u001b[0m \u001b[0;32mNone\u001b[0m\u001b[0;34m:\u001b[0m\u001b[0;34m\u001b[0m\u001b[0;34m\u001b[0m\u001b[0m\n\u001b[0;32m-> 1593\u001b[0;31m       \u001b[0;32mreturn\u001b[0m \u001b[0mMapDataset\u001b[0m\u001b[0;34m(\u001b[0m\u001b[0mself\u001b[0m\u001b[0;34m,\u001b[0m \u001b[0mmap_func\u001b[0m\u001b[0;34m,\u001b[0m \u001b[0mpreserve_cardinality\u001b[0m\u001b[0;34m=\u001b[0m\u001b[0;32mTrue\u001b[0m\u001b[0;34m)\u001b[0m\u001b[0;34m\u001b[0m\u001b[0;34m\u001b[0m\u001b[0m\n\u001b[0m\u001b[1;32m   1594\u001b[0m     \u001b[0;32melse\u001b[0m\u001b[0;34m:\u001b[0m\u001b[0;34m\u001b[0m\u001b[0;34m\u001b[0m\u001b[0m\n\u001b[1;32m   1595\u001b[0m       return ParallelMapDataset(\n",
      "\u001b[0;32m~/.conda/envs/tensorflow_env/lib/python3.7/site-packages/tensorflow_core/python/data/ops/dataset_ops.py\u001b[0m in \u001b[0;36m__init__\u001b[0;34m(self, input_dataset, map_func, use_inter_op_parallelism, preserve_cardinality, use_legacy_function)\u001b[0m\n\u001b[1;32m   3906\u001b[0m         \u001b[0mself\u001b[0m\u001b[0;34m.\u001b[0m\u001b[0m_transformation_name\u001b[0m\u001b[0;34m(\u001b[0m\u001b[0;34m)\u001b[0m\u001b[0;34m,\u001b[0m\u001b[0;34m\u001b[0m\u001b[0;34m\u001b[0m\u001b[0m\n\u001b[1;32m   3907\u001b[0m         \u001b[0mdataset\u001b[0m\u001b[0;34m=\u001b[0m\u001b[0minput_dataset\u001b[0m\u001b[0;34m,\u001b[0m\u001b[0;34m\u001b[0m\u001b[0;34m\u001b[0m\u001b[0m\n\u001b[0;32m-> 3908\u001b[0;31m         use_legacy_function=use_legacy_function)\n\u001b[0m\u001b[1;32m   3909\u001b[0m     variant_tensor = gen_dataset_ops.map_dataset(\n\u001b[1;32m   3910\u001b[0m         \u001b[0minput_dataset\u001b[0m\u001b[0;34m.\u001b[0m\u001b[0m_variant_tensor\u001b[0m\u001b[0;34m,\u001b[0m  \u001b[0;31m# pylint: disable=protected-access\u001b[0m\u001b[0;34m\u001b[0m\u001b[0;34m\u001b[0m\u001b[0m\n",
      "\u001b[0;32m~/.conda/envs/tensorflow_env/lib/python3.7/site-packages/tensorflow_core/python/data/ops/dataset_ops.py\u001b[0m in \u001b[0;36m__init__\u001b[0;34m(self, func, transformation_name, dataset, input_classes, input_shapes, input_types, input_structure, add_to_graph, use_legacy_function, defun_kwargs)\u001b[0m\n\u001b[1;32m   3159\u001b[0m       \u001b[0;32mwith\u001b[0m \u001b[0mtracking\u001b[0m\u001b[0;34m.\u001b[0m\u001b[0mresource_tracker_scope\u001b[0m\u001b[0;34m(\u001b[0m\u001b[0mresource_tracker\u001b[0m\u001b[0;34m)\u001b[0m\u001b[0;34m:\u001b[0m\u001b[0;34m\u001b[0m\u001b[0;34m\u001b[0m\u001b[0m\n\u001b[1;32m   3160\u001b[0m         \u001b[0;31m# TODO(b/141462134): Switch to using garbage collection.\u001b[0m\u001b[0;34m\u001b[0m\u001b[0;34m\u001b[0m\u001b[0;34m\u001b[0m\u001b[0m\n\u001b[0;32m-> 3161\u001b[0;31m         \u001b[0mself\u001b[0m\u001b[0;34m.\u001b[0m\u001b[0m_function\u001b[0m \u001b[0;34m=\u001b[0m \u001b[0mwrapper_fn\u001b[0m\u001b[0;34m.\u001b[0m\u001b[0mget_concrete_function\u001b[0m\u001b[0;34m(\u001b[0m\u001b[0;34m)\u001b[0m\u001b[0;34m\u001b[0m\u001b[0;34m\u001b[0m\u001b[0m\n\u001b[0m\u001b[1;32m   3162\u001b[0m \u001b[0;34m\u001b[0m\u001b[0m\n\u001b[1;32m   3163\u001b[0m         \u001b[0;32mif\u001b[0m \u001b[0madd_to_graph\u001b[0m\u001b[0;34m:\u001b[0m\u001b[0;34m\u001b[0m\u001b[0;34m\u001b[0m\u001b[0m\n",
      "\u001b[0;32m~/.conda/envs/tensorflow_env/lib/python3.7/site-packages/tensorflow_core/python/eager/function.py\u001b[0m in \u001b[0;36mget_concrete_function\u001b[0;34m(self, *args, **kwargs)\u001b[0m\n\u001b[1;32m   2524\u001b[0m     \"\"\"\n\u001b[1;32m   2525\u001b[0m     graph_function = self._get_concrete_function_garbage_collected(\n\u001b[0;32m-> 2526\u001b[0;31m         *args, **kwargs)\n\u001b[0m\u001b[1;32m   2527\u001b[0m     \u001b[0mgraph_function\u001b[0m\u001b[0;34m.\u001b[0m\u001b[0m_garbage_collector\u001b[0m\u001b[0;34m.\u001b[0m\u001b[0mrelease\u001b[0m\u001b[0;34m(\u001b[0m\u001b[0;34m)\u001b[0m  \u001b[0;31m# pylint: disable=protected-access\u001b[0m\u001b[0;34m\u001b[0m\u001b[0;34m\u001b[0m\u001b[0m\n\u001b[1;32m   2528\u001b[0m     \u001b[0;32mreturn\u001b[0m \u001b[0mgraph_function\u001b[0m\u001b[0;34m\u001b[0m\u001b[0;34m\u001b[0m\u001b[0m\n",
      "\u001b[0;32m~/.conda/envs/tensorflow_env/lib/python3.7/site-packages/tensorflow_core/python/eager/function.py\u001b[0m in \u001b[0;36m_get_concrete_function_garbage_collected\u001b[0;34m(self, *args, **kwargs)\u001b[0m\n\u001b[1;32m   2488\u001b[0m       \u001b[0margs\u001b[0m\u001b[0;34m,\u001b[0m \u001b[0mkwargs\u001b[0m \u001b[0;34m=\u001b[0m \u001b[0;32mNone\u001b[0m\u001b[0;34m,\u001b[0m \u001b[0;32mNone\u001b[0m\u001b[0;34m\u001b[0m\u001b[0;34m\u001b[0m\u001b[0m\n\u001b[1;32m   2489\u001b[0m     \u001b[0;32mwith\u001b[0m \u001b[0mself\u001b[0m\u001b[0;34m.\u001b[0m\u001b[0m_lock\u001b[0m\u001b[0;34m:\u001b[0m\u001b[0;34m\u001b[0m\u001b[0;34m\u001b[0m\u001b[0m\n\u001b[0;32m-> 2490\u001b[0;31m       \u001b[0mgraph_function\u001b[0m\u001b[0;34m,\u001b[0m \u001b[0margs\u001b[0m\u001b[0;34m,\u001b[0m \u001b[0mkwargs\u001b[0m \u001b[0;34m=\u001b[0m \u001b[0mself\u001b[0m\u001b[0;34m.\u001b[0m\u001b[0m_maybe_define_function\u001b[0m\u001b[0;34m(\u001b[0m\u001b[0margs\u001b[0m\u001b[0;34m,\u001b[0m \u001b[0mkwargs\u001b[0m\u001b[0;34m)\u001b[0m\u001b[0;34m\u001b[0m\u001b[0;34m\u001b[0m\u001b[0m\n\u001b[0m\u001b[1;32m   2491\u001b[0m       \u001b[0;32mif\u001b[0m \u001b[0mself\u001b[0m\u001b[0;34m.\u001b[0m\u001b[0minput_signature\u001b[0m\u001b[0;34m:\u001b[0m\u001b[0;34m\u001b[0m\u001b[0;34m\u001b[0m\u001b[0m\n\u001b[1;32m   2492\u001b[0m         \u001b[0margs\u001b[0m \u001b[0;34m=\u001b[0m \u001b[0mself\u001b[0m\u001b[0;34m.\u001b[0m\u001b[0minput_signature\u001b[0m\u001b[0;34m\u001b[0m\u001b[0;34m\u001b[0m\u001b[0m\n",
      "\u001b[0;32m~/.conda/envs/tensorflow_env/lib/python3.7/site-packages/tensorflow_core/python/eager/function.py\u001b[0m in \u001b[0;36m_maybe_define_function\u001b[0;34m(self, args, kwargs)\u001b[0m\n\u001b[1;32m   2769\u001b[0m \u001b[0;34m\u001b[0m\u001b[0m\n\u001b[1;32m   2770\u001b[0m       \u001b[0mself\u001b[0m\u001b[0;34m.\u001b[0m\u001b[0m_function_cache\u001b[0m\u001b[0;34m.\u001b[0m\u001b[0mmissed\u001b[0m\u001b[0;34m.\u001b[0m\u001b[0madd\u001b[0m\u001b[0;34m(\u001b[0m\u001b[0mcall_context_key\u001b[0m\u001b[0;34m)\u001b[0m\u001b[0;34m\u001b[0m\u001b[0;34m\u001b[0m\u001b[0m\n\u001b[0;32m-> 2771\u001b[0;31m       \u001b[0mgraph_function\u001b[0m \u001b[0;34m=\u001b[0m \u001b[0mself\u001b[0m\u001b[0;34m.\u001b[0m\u001b[0m_create_graph_function\u001b[0m\u001b[0;34m(\u001b[0m\u001b[0margs\u001b[0m\u001b[0;34m,\u001b[0m \u001b[0mkwargs\u001b[0m\u001b[0;34m)\u001b[0m\u001b[0;34m\u001b[0m\u001b[0;34m\u001b[0m\u001b[0m\n\u001b[0m\u001b[1;32m   2772\u001b[0m       \u001b[0mself\u001b[0m\u001b[0;34m.\u001b[0m\u001b[0m_function_cache\u001b[0m\u001b[0;34m.\u001b[0m\u001b[0mprimary\u001b[0m\u001b[0;34m[\u001b[0m\u001b[0mcache_key\u001b[0m\u001b[0;34m]\u001b[0m \u001b[0;34m=\u001b[0m \u001b[0mgraph_function\u001b[0m\u001b[0;34m\u001b[0m\u001b[0;34m\u001b[0m\u001b[0m\n\u001b[1;32m   2773\u001b[0m       \u001b[0;32mreturn\u001b[0m \u001b[0mgraph_function\u001b[0m\u001b[0;34m,\u001b[0m \u001b[0margs\u001b[0m\u001b[0;34m,\u001b[0m \u001b[0mkwargs\u001b[0m\u001b[0;34m\u001b[0m\u001b[0;34m\u001b[0m\u001b[0m\n",
      "\u001b[0;32m~/.conda/envs/tensorflow_env/lib/python3.7/site-packages/tensorflow_core/python/eager/function.py\u001b[0m in \u001b[0;36m_create_graph_function\u001b[0;34m(self, args, kwargs, override_flat_arg_shapes)\u001b[0m\n\u001b[1;32m   2659\u001b[0m             \u001b[0marg_names\u001b[0m\u001b[0;34m=\u001b[0m\u001b[0marg_names\u001b[0m\u001b[0;34m,\u001b[0m\u001b[0;34m\u001b[0m\u001b[0;34m\u001b[0m\u001b[0m\n\u001b[1;32m   2660\u001b[0m             \u001b[0moverride_flat_arg_shapes\u001b[0m\u001b[0;34m=\u001b[0m\u001b[0moverride_flat_arg_shapes\u001b[0m\u001b[0;34m,\u001b[0m\u001b[0;34m\u001b[0m\u001b[0;34m\u001b[0m\u001b[0m\n\u001b[0;32m-> 2661\u001b[0;31m             capture_by_value=self._capture_by_value),\n\u001b[0m\u001b[1;32m   2662\u001b[0m         \u001b[0mself\u001b[0m\u001b[0;34m.\u001b[0m\u001b[0m_function_attributes\u001b[0m\u001b[0;34m,\u001b[0m\u001b[0;34m\u001b[0m\u001b[0;34m\u001b[0m\u001b[0m\n\u001b[1;32m   2663\u001b[0m         \u001b[0;31m# Tell the ConcreteFunction to clean up its graph once it goes out of\u001b[0m\u001b[0;34m\u001b[0m\u001b[0;34m\u001b[0m\u001b[0;34m\u001b[0m\u001b[0m\n",
      "\u001b[0;32m~/.conda/envs/tensorflow_env/lib/python3.7/site-packages/tensorflow_core/python/framework/func_graph.py\u001b[0m in \u001b[0;36mfunc_graph_from_py_func\u001b[0;34m(name, python_func, args, kwargs, signature, func_graph, autograph, autograph_options, add_control_dependencies, arg_names, op_return_value, collections, capture_by_value, override_flat_arg_shapes)\u001b[0m\n\u001b[1;32m    979\u001b[0m         \u001b[0m_\u001b[0m\u001b[0;34m,\u001b[0m \u001b[0moriginal_func\u001b[0m \u001b[0;34m=\u001b[0m \u001b[0mtf_decorator\u001b[0m\u001b[0;34m.\u001b[0m\u001b[0munwrap\u001b[0m\u001b[0;34m(\u001b[0m\u001b[0mpython_func\u001b[0m\u001b[0;34m)\u001b[0m\u001b[0;34m\u001b[0m\u001b[0;34m\u001b[0m\u001b[0m\n\u001b[1;32m    980\u001b[0m \u001b[0;34m\u001b[0m\u001b[0m\n\u001b[0;32m--> 981\u001b[0;31m       \u001b[0mfunc_outputs\u001b[0m \u001b[0;34m=\u001b[0m \u001b[0mpython_func\u001b[0m\u001b[0;34m(\u001b[0m\u001b[0;34m*\u001b[0m\u001b[0mfunc_args\u001b[0m\u001b[0;34m,\u001b[0m \u001b[0;34m**\u001b[0m\u001b[0mfunc_kwargs\u001b[0m\u001b[0;34m)\u001b[0m\u001b[0;34m\u001b[0m\u001b[0;34m\u001b[0m\u001b[0m\n\u001b[0m\u001b[1;32m    982\u001b[0m \u001b[0;34m\u001b[0m\u001b[0m\n\u001b[1;32m    983\u001b[0m       \u001b[0;31m# invariant: `func_outputs` contains only Tensors, CompositeTensors,\u001b[0m\u001b[0;34m\u001b[0m\u001b[0;34m\u001b[0m\u001b[0;34m\u001b[0m\u001b[0m\n",
      "\u001b[0;32m~/.conda/envs/tensorflow_env/lib/python3.7/site-packages/tensorflow_core/python/data/ops/dataset_ops.py\u001b[0m in \u001b[0;36mwrapper_fn\u001b[0;34m(*args)\u001b[0m\n\u001b[1;32m   3152\u001b[0m           attributes=defun_kwargs)\n\u001b[1;32m   3153\u001b[0m       \u001b[0;32mdef\u001b[0m \u001b[0mwrapper_fn\u001b[0m\u001b[0;34m(\u001b[0m\u001b[0;34m*\u001b[0m\u001b[0margs\u001b[0m\u001b[0;34m)\u001b[0m\u001b[0;34m:\u001b[0m  \u001b[0;31m# pylint: disable=missing-docstring\u001b[0m\u001b[0;34m\u001b[0m\u001b[0;34m\u001b[0m\u001b[0m\n\u001b[0;32m-> 3154\u001b[0;31m         \u001b[0mret\u001b[0m \u001b[0;34m=\u001b[0m \u001b[0m_wrapper_helper\u001b[0m\u001b[0;34m(\u001b[0m\u001b[0;34m*\u001b[0m\u001b[0margs\u001b[0m\u001b[0;34m)\u001b[0m\u001b[0;34m\u001b[0m\u001b[0;34m\u001b[0m\u001b[0m\n\u001b[0m\u001b[1;32m   3155\u001b[0m         \u001b[0mret\u001b[0m \u001b[0;34m=\u001b[0m \u001b[0mstructure\u001b[0m\u001b[0;34m.\u001b[0m\u001b[0mto_tensor_list\u001b[0m\u001b[0;34m(\u001b[0m\u001b[0mself\u001b[0m\u001b[0;34m.\u001b[0m\u001b[0m_output_structure\u001b[0m\u001b[0;34m,\u001b[0m \u001b[0mret\u001b[0m\u001b[0;34m)\u001b[0m\u001b[0;34m\u001b[0m\u001b[0;34m\u001b[0m\u001b[0m\n\u001b[1;32m   3156\u001b[0m         \u001b[0;32mreturn\u001b[0m \u001b[0;34m[\u001b[0m\u001b[0mops\u001b[0m\u001b[0;34m.\u001b[0m\u001b[0mconvert_to_tensor\u001b[0m\u001b[0;34m(\u001b[0m\u001b[0mt\u001b[0m\u001b[0;34m)\u001b[0m \u001b[0;32mfor\u001b[0m \u001b[0mt\u001b[0m \u001b[0;32min\u001b[0m \u001b[0mret\u001b[0m\u001b[0;34m]\u001b[0m\u001b[0;34m\u001b[0m\u001b[0;34m\u001b[0m\u001b[0m\n",
      "\u001b[0;32m~/.conda/envs/tensorflow_env/lib/python3.7/site-packages/tensorflow_core/python/data/ops/dataset_ops.py\u001b[0m in \u001b[0;36m_wrapper_helper\u001b[0;34m(*args)\u001b[0m\n\u001b[1;32m   3094\u001b[0m         \u001b[0mnested_args\u001b[0m \u001b[0;34m=\u001b[0m \u001b[0;34m(\u001b[0m\u001b[0mnested_args\u001b[0m\u001b[0;34m,\u001b[0m\u001b[0;34m)\u001b[0m\u001b[0;34m\u001b[0m\u001b[0;34m\u001b[0m\u001b[0m\n\u001b[1;32m   3095\u001b[0m \u001b[0;34m\u001b[0m\u001b[0m\n\u001b[0;32m-> 3096\u001b[0;31m       \u001b[0mret\u001b[0m \u001b[0;34m=\u001b[0m \u001b[0mautograph\u001b[0m\u001b[0;34m.\u001b[0m\u001b[0mtf_convert\u001b[0m\u001b[0;34m(\u001b[0m\u001b[0mfunc\u001b[0m\u001b[0;34m,\u001b[0m \u001b[0mag_ctx\u001b[0m\u001b[0;34m)\u001b[0m\u001b[0;34m(\u001b[0m\u001b[0;34m*\u001b[0m\u001b[0mnested_args\u001b[0m\u001b[0;34m)\u001b[0m\u001b[0;34m\u001b[0m\u001b[0;34m\u001b[0m\u001b[0m\n\u001b[0m\u001b[1;32m   3097\u001b[0m       \u001b[0;31m# If `func` returns a list of tensors, `nest.flatten()` and\u001b[0m\u001b[0;34m\u001b[0m\u001b[0;34m\u001b[0m\u001b[0;34m\u001b[0m\u001b[0m\n\u001b[1;32m   3098\u001b[0m       \u001b[0;31m# `ops.convert_to_tensor()` would conspire to attempt to stack\u001b[0m\u001b[0;34m\u001b[0m\u001b[0;34m\u001b[0m\u001b[0;34m\u001b[0m\u001b[0m\n",
      "\u001b[0;32m~/.conda/envs/tensorflow_env/lib/python3.7/site-packages/tensorflow_core/python/autograph/impl/api.py\u001b[0m in \u001b[0;36mwrapper\u001b[0;34m(*args, **kwargs)\u001b[0m\n\u001b[1;32m    262\u001b[0m       \u001b[0;32mexcept\u001b[0m \u001b[0mException\u001b[0m \u001b[0;32mas\u001b[0m \u001b[0me\u001b[0m\u001b[0;34m:\u001b[0m  \u001b[0;31m# pylint:disable=broad-except\u001b[0m\u001b[0;34m\u001b[0m\u001b[0;34m\u001b[0m\u001b[0m\n\u001b[1;32m    263\u001b[0m         \u001b[0;32mif\u001b[0m \u001b[0mhasattr\u001b[0m\u001b[0;34m(\u001b[0m\u001b[0me\u001b[0m\u001b[0;34m,\u001b[0m \u001b[0;34m'ag_error_metadata'\u001b[0m\u001b[0;34m)\u001b[0m\u001b[0;34m:\u001b[0m\u001b[0;34m\u001b[0m\u001b[0;34m\u001b[0m\u001b[0m\n\u001b[0;32m--> 264\u001b[0;31m           \u001b[0;32mraise\u001b[0m \u001b[0me\u001b[0m\u001b[0;34m.\u001b[0m\u001b[0mag_error_metadata\u001b[0m\u001b[0;34m.\u001b[0m\u001b[0mto_exception\u001b[0m\u001b[0;34m(\u001b[0m\u001b[0me\u001b[0m\u001b[0;34m)\u001b[0m\u001b[0;34m\u001b[0m\u001b[0;34m\u001b[0m\u001b[0m\n\u001b[0m\u001b[1;32m    265\u001b[0m         \u001b[0;32melse\u001b[0m\u001b[0;34m:\u001b[0m\u001b[0;34m\u001b[0m\u001b[0;34m\u001b[0m\u001b[0m\n\u001b[1;32m    266\u001b[0m           \u001b[0;32mraise\u001b[0m\u001b[0;34m\u001b[0m\u001b[0;34m\u001b[0m\u001b[0m\n",
      "\u001b[0;31mAttributeError\u001b[0m: in user code:\n\n    <ipython-input-266-fe94e21095c4>:35 get_label_rec  *\n        record['output'] = get_label(dt64_to_dt(record['start_time'].numpy()))\n\n    AttributeError: 'Tensor' object has no attribute 'numpy'\n"
     ]
    }
   ],
   "source": [
    "dataset = input_fn()"
   ]
  },
  {
   "cell_type": "code",
   "execution_count": 99,
   "metadata": {},
   "outputs": [],
   "source": [
    "rotated_data = dataset.skip(500)\n",
    "x_rot = [x for x in rotated_data.take(1)]"
   ]
  },
  {
   "cell_type": "code",
   "execution_count": 270,
   "metadata": {},
   "outputs": [],
   "source": [
    "x_rot = [x for x in dataset.take(1)]"
   ]
  },
  {
   "cell_type": "code",
   "execution_count": 277,
   "metadata": {},
   "outputs": [
    {
     "data": {
      "text/plain": [
       "{'input': <tf.Tensor: shape=(20, 195, 400, 1), dtype=float64, numpy=\n",
       " array([[[[-7.07665545e-03],\n",
       "          [ 3.20573900e-02],\n",
       "          [ 1.60170102e-01],\n",
       "          ...,\n",
       "          [-3.02990223e-04],\n",
       "          [ 5.42627531e-04],\n",
       "          [ 1.03630283e-03]],\n",
       " \n",
       "         [[-4.37500683e-03],\n",
       "          [ 2.89576237e-02],\n",
       "          [ 1.66647497e-01],\n",
       "          ...,\n",
       "          [-1.22612831e-03],\n",
       "          [ 5.54300231e-04],\n",
       "          [ 6.13254771e-04]],\n",
       " \n",
       "         [[ 1.69536266e-02],\n",
       "          [ 1.71680185e-02],\n",
       "          [ 1.63064742e-01],\n",
       "          ...,\n",
       "          [ 1.10567224e-03],\n",
       "          [ 1.01822362e-03],\n",
       "          [ 1.66556002e-03]],\n",
       " \n",
       "         ...,\n",
       " \n",
       "         [[-6.02130735e-03],\n",
       "          [ 3.03764359e-02],\n",
       "          [ 1.20386309e-01],\n",
       "          ...,\n",
       "          [ 4.18517602e-05],\n",
       "          [ 9.88029684e-04],\n",
       "          [ 8.44585275e-04]],\n",
       " \n",
       "         [[-6.26230386e-03],\n",
       "          [ 3.17704074e-02],\n",
       "          [ 1.19746147e-01],\n",
       "          ...,\n",
       "          [ 2.07690174e-03],\n",
       "          [-7.55936824e-04],\n",
       "          [ 2.10940763e-03]],\n",
       " \n",
       "         [[ 0.00000000e+00],\n",
       "          [ 0.00000000e+00],\n",
       "          [ 0.00000000e+00],\n",
       "          ...,\n",
       "          [ 0.00000000e+00],\n",
       "          [ 0.00000000e+00],\n",
       "          [ 0.00000000e+00]]],\n",
       " \n",
       " \n",
       "        [[[-3.46961851e-01],\n",
       "          [-3.76920705e-01],\n",
       "          [ 1.96080641e-01],\n",
       "          ...,\n",
       "          [-4.66903219e-05],\n",
       "          [ 2.60993360e-04],\n",
       "          [ 1.57863146e-03]],\n",
       " \n",
       "         [[-4.07517487e-02],\n",
       "          [-5.68722254e-02],\n",
       "          [ 1.88838676e-01],\n",
       "          ...,\n",
       "          [-3.33565252e-04],\n",
       "          [-5.42633405e-04],\n",
       "          [-1.46025074e-04]],\n",
       " \n",
       "         [[-2.76533624e-04],\n",
       "          [ 3.17638960e-03],\n",
       "          [ 1.77297700e-01],\n",
       "          ...,\n",
       "          [ 2.11448797e-04],\n",
       "          [ 5.58225253e-04],\n",
       "          [-6.63897292e-04]],\n",
       " \n",
       "         ...,\n",
       " \n",
       "         [[ 0.00000000e+00],\n",
       "          [ 0.00000000e+00],\n",
       "          [ 0.00000000e+00],\n",
       "          ...,\n",
       "          [ 0.00000000e+00],\n",
       "          [ 0.00000000e+00],\n",
       "          [ 0.00000000e+00]],\n",
       " \n",
       "         [[ 0.00000000e+00],\n",
       "          [ 0.00000000e+00],\n",
       "          [ 0.00000000e+00],\n",
       "          ...,\n",
       "          [ 0.00000000e+00],\n",
       "          [ 0.00000000e+00],\n",
       "          [ 0.00000000e+00]],\n",
       " \n",
       "         [[ 0.00000000e+00],\n",
       "          [ 0.00000000e+00],\n",
       "          [ 0.00000000e+00],\n",
       "          ...,\n",
       "          [ 0.00000000e+00],\n",
       "          [ 0.00000000e+00],\n",
       "          [ 0.00000000e+00]]],\n",
       " \n",
       " \n",
       "        [[[-2.24932697e-02],\n",
       "          [-4.76197359e-02],\n",
       "          [ 2.08031917e-01],\n",
       "          ...,\n",
       "          [ 6.52214659e-04],\n",
       "          [ 5.55979026e-04],\n",
       "          [-2.83732008e-04]],\n",
       " \n",
       "         [[-5.23833730e-02],\n",
       "          [-9.31074177e-02],\n",
       "          [ 2.22853459e-01],\n",
       "          ...,\n",
       "          [ 4.31508112e-04],\n",
       "          [-5.24187246e-04],\n",
       "          [ 3.79729964e-04]],\n",
       " \n",
       "         [[-2.79779396e-02],\n",
       "          [-5.70105593e-02],\n",
       "          [ 2.24415084e-01],\n",
       "          ...,\n",
       "          [-1.09214361e-04],\n",
       "          [-6.21690063e-04],\n",
       "          [ 7.98040070e-04]],\n",
       " \n",
       "         ...,\n",
       " \n",
       "         [[-4.53356223e-02],\n",
       "          [-6.21736397e-02],\n",
       "          [ 1.87098974e-01],\n",
       "          ...,\n",
       "          [ 1.05050943e-03],\n",
       "          [-1.63660628e-03],\n",
       "          [ 1.84298285e-04]],\n",
       " \n",
       "         [[-1.05975273e-02],\n",
       "          [-1.89316088e-02],\n",
       "          [ 1.87570460e-01],\n",
       "          ...,\n",
       "          [-6.66091124e-04],\n",
       "          [ 5.46916920e-04],\n",
       "          [ 1.12213605e-03]],\n",
       " \n",
       "         [[ 0.00000000e+00],\n",
       "          [ 0.00000000e+00],\n",
       "          [ 0.00000000e+00],\n",
       "          ...,\n",
       "          [ 0.00000000e+00],\n",
       "          [ 0.00000000e+00],\n",
       "          [ 0.00000000e+00]]],\n",
       " \n",
       " \n",
       "        ...,\n",
       " \n",
       " \n",
       "        [[[ 1.05994194e-02],\n",
       "          [ 1.05252622e-03],\n",
       "          [ 1.33098689e-01],\n",
       "          ...,\n",
       "          [ 3.17226472e-04],\n",
       "          [-1.88035566e-03],\n",
       "          [-1.09184547e-04]],\n",
       " \n",
       "         [[ 8.25979026e-03],\n",
       "          [-3.11035114e-03],\n",
       "          [ 1.32279201e-01],\n",
       "          ...,\n",
       "          [ 4.31115687e-04],\n",
       "          [ 3.17053230e-05],\n",
       "          [ 2.04288512e-04]],\n",
       " \n",
       "         [[-2.29519535e-02],\n",
       "          [-3.34720801e-02],\n",
       "          [ 1.36108078e-01],\n",
       "          ...,\n",
       "          [ 3.99958258e-04],\n",
       "          [-4.87990388e-04],\n",
       "          [ 4.11620541e-04]],\n",
       " \n",
       "         ...,\n",
       " \n",
       "         [[-3.08109832e-02],\n",
       "          [-4.74587981e-02],\n",
       "          [ 1.37888265e-01],\n",
       "          ...,\n",
       "          [-7.99063228e-04],\n",
       "          [ 3.91765416e-04],\n",
       "          [ 1.24539874e-03]],\n",
       " \n",
       "         [[ 0.00000000e+00],\n",
       "          [ 0.00000000e+00],\n",
       "          [ 0.00000000e+00],\n",
       "          ...,\n",
       "          [ 0.00000000e+00],\n",
       "          [ 0.00000000e+00],\n",
       "          [ 0.00000000e+00]],\n",
       " \n",
       "         [[ 0.00000000e+00],\n",
       "          [ 0.00000000e+00],\n",
       "          [ 0.00000000e+00],\n",
       "          ...,\n",
       "          [ 0.00000000e+00],\n",
       "          [ 0.00000000e+00],\n",
       "          [ 0.00000000e+00]]],\n",
       " \n",
       " \n",
       "        [[[ 1.66975638e-02],\n",
       "          [ 1.54413625e-02],\n",
       "          [ 1.19154157e-01],\n",
       "          ...,\n",
       "          [ 5.48517242e-04],\n",
       "          [-5.70350377e-04],\n",
       "          [ 1.37125281e-03]],\n",
       " \n",
       "         [[-1.55490520e-03],\n",
       "          [ 2.52586361e-02],\n",
       "          [ 1.19535372e-01],\n",
       "          ...,\n",
       "          [-3.93572412e-04],\n",
       "          [ 1.82570699e-03],\n",
       "          [ 6.95591870e-04]],\n",
       " \n",
       "         [[-5.47756920e-03],\n",
       "          [ 2.72493973e-02],\n",
       "          [ 1.17653572e-01],\n",
       "          ...,\n",
       "          [-7.36268961e-04],\n",
       "          [ 6.73301756e-07],\n",
       "          [ 1.47400749e-03]],\n",
       " \n",
       "         ...,\n",
       " \n",
       "         [[ 0.00000000e+00],\n",
       "          [ 0.00000000e+00],\n",
       "          [ 0.00000000e+00],\n",
       "          ...,\n",
       "          [ 0.00000000e+00],\n",
       "          [ 0.00000000e+00],\n",
       "          [ 0.00000000e+00]],\n",
       " \n",
       "         [[ 0.00000000e+00],\n",
       "          [ 0.00000000e+00],\n",
       "          [ 0.00000000e+00],\n",
       "          ...,\n",
       "          [ 0.00000000e+00],\n",
       "          [ 0.00000000e+00],\n",
       "          [ 0.00000000e+00]],\n",
       " \n",
       "         [[ 0.00000000e+00],\n",
       "          [ 0.00000000e+00],\n",
       "          [ 0.00000000e+00],\n",
       "          ...,\n",
       "          [ 0.00000000e+00],\n",
       "          [ 0.00000000e+00],\n",
       "          [ 0.00000000e+00]]],\n",
       " \n",
       " \n",
       "        [[[-6.81348698e-03],\n",
       "          [ 4.22395330e-04],\n",
       "          [ 2.63308191e-01],\n",
       "          ...,\n",
       "          [ 4.93113194e-04],\n",
       "          [-8.58280247e-04],\n",
       "          [-1.88516682e-04]],\n",
       " \n",
       "         [[-1.66042221e-02],\n",
       "          [ 1.18854673e-02],\n",
       "          [ 2.68952857e-01],\n",
       "          ...,\n",
       "          [ 3.52032059e-04],\n",
       "          [ 3.86553247e-04],\n",
       "          [ 7.38203798e-04]],\n",
       " \n",
       "         [[-1.41150585e-02],\n",
       "          [ 8.04302363e-03],\n",
       "          [ 2.71880497e-01],\n",
       "          ...,\n",
       "          [ 2.18895785e-03],\n",
       "          [-1.01105354e-03],\n",
       "          [ 2.57786537e-05]],\n",
       " \n",
       "         ...,\n",
       " \n",
       "         [[-4.07391819e-03],\n",
       "          [ 7.67521662e-04],\n",
       "          [ 1.83344030e-01],\n",
       "          ...,\n",
       "          [-6.35900713e-05],\n",
       "          [ 5.75942715e-04],\n",
       "          [ 1.64633746e-03]],\n",
       " \n",
       "         [[-2.25654195e-03],\n",
       "          [ 1.98786897e-03],\n",
       "          [ 1.81194970e-01],\n",
       "          ...,\n",
       "          [-4.99489728e-04],\n",
       "          [-4.94372154e-05],\n",
       "          [-1.14418411e-04]],\n",
       " \n",
       "         [[ 0.00000000e+00],\n",
       "          [ 0.00000000e+00],\n",
       "          [ 0.00000000e+00],\n",
       "          ...,\n",
       "          [ 0.00000000e+00],\n",
       "          [ 0.00000000e+00],\n",
       "          [ 0.00000000e+00]]]])>,\n",
       " 'width': <tf.Tensor: shape=(20,), dtype=int64, numpy=\n",
       " array([195, 195, 195, 195, 195, 195, 195, 195, 195, 195, 195, 195, 195,\n",
       "        195, 195, 195, 195, 195, 195, 195])>,\n",
       " 'height': <tf.Tensor: shape=(20,), dtype=int64, numpy=\n",
       " array([400, 400, 400, 400, 400, 400, 400, 400, 400, 400, 400, 400, 400,\n",
       "        400, 400, 400, 400, 400, 400, 400])>,\n",
       " 'output': <tf.Tensor: shape=(20, 195, 400, 1), dtype=float64, numpy=\n",
       " array([[[[-7.07665545e-03],\n",
       "          [ 3.20573900e-02],\n",
       "          [ 1.60170102e-01],\n",
       "          ...,\n",
       "          [-3.02990223e-04],\n",
       "          [ 5.42627531e-04],\n",
       "          [ 1.03630283e-03]],\n",
       " \n",
       "         [[-4.37500683e-03],\n",
       "          [ 2.89576237e-02],\n",
       "          [ 1.66647497e-01],\n",
       "          ...,\n",
       "          [-1.22612831e-03],\n",
       "          [ 5.54300231e-04],\n",
       "          [ 6.13254771e-04]],\n",
       " \n",
       "         [[ 1.69536266e-02],\n",
       "          [ 1.71680185e-02],\n",
       "          [ 1.63064742e-01],\n",
       "          ...,\n",
       "          [ 1.10567224e-03],\n",
       "          [ 1.01822362e-03],\n",
       "          [ 1.66556002e-03]],\n",
       " \n",
       "         ...,\n",
       " \n",
       "         [[-6.02130735e-03],\n",
       "          [ 3.03764359e-02],\n",
       "          [ 1.20386309e-01],\n",
       "          ...,\n",
       "          [ 4.18517602e-05],\n",
       "          [ 9.88029684e-04],\n",
       "          [ 8.44585275e-04]],\n",
       " \n",
       "         [[-6.26230386e-03],\n",
       "          [ 3.17704074e-02],\n",
       "          [ 1.19746147e-01],\n",
       "          ...,\n",
       "          [ 2.07690174e-03],\n",
       "          [-7.55936824e-04],\n",
       "          [ 2.10940763e-03]],\n",
       " \n",
       "         [[ 0.00000000e+00],\n",
       "          [ 0.00000000e+00],\n",
       "          [ 0.00000000e+00],\n",
       "          ...,\n",
       "          [ 0.00000000e+00],\n",
       "          [ 0.00000000e+00],\n",
       "          [ 0.00000000e+00]]],\n",
       " \n",
       " \n",
       "        [[[-3.46961851e-01],\n",
       "          [-3.76920705e-01],\n",
       "          [ 1.96080641e-01],\n",
       "          ...,\n",
       "          [-4.66903219e-05],\n",
       "          [ 2.60993360e-04],\n",
       "          [ 1.57863146e-03]],\n",
       " \n",
       "         [[-4.07517487e-02],\n",
       "          [-5.68722254e-02],\n",
       "          [ 1.88838676e-01],\n",
       "          ...,\n",
       "          [-3.33565252e-04],\n",
       "          [-5.42633405e-04],\n",
       "          [-1.46025074e-04]],\n",
       " \n",
       "         [[-2.76533624e-04],\n",
       "          [ 3.17638960e-03],\n",
       "          [ 1.77297700e-01],\n",
       "          ...,\n",
       "          [ 2.11448797e-04],\n",
       "          [ 5.58225253e-04],\n",
       "          [-6.63897292e-04]],\n",
       " \n",
       "         ...,\n",
       " \n",
       "         [[ 0.00000000e+00],\n",
       "          [ 0.00000000e+00],\n",
       "          [ 0.00000000e+00],\n",
       "          ...,\n",
       "          [ 0.00000000e+00],\n",
       "          [ 0.00000000e+00],\n",
       "          [ 0.00000000e+00]],\n",
       " \n",
       "         [[ 0.00000000e+00],\n",
       "          [ 0.00000000e+00],\n",
       "          [ 0.00000000e+00],\n",
       "          ...,\n",
       "          [ 0.00000000e+00],\n",
       "          [ 0.00000000e+00],\n",
       "          [ 0.00000000e+00]],\n",
       " \n",
       "         [[ 0.00000000e+00],\n",
       "          [ 0.00000000e+00],\n",
       "          [ 0.00000000e+00],\n",
       "          ...,\n",
       "          [ 0.00000000e+00],\n",
       "          [ 0.00000000e+00],\n",
       "          [ 0.00000000e+00]]],\n",
       " \n",
       " \n",
       "        [[[-2.24932697e-02],\n",
       "          [-4.76197359e-02],\n",
       "          [ 2.08031917e-01],\n",
       "          ...,\n",
       "          [ 6.52214659e-04],\n",
       "          [ 5.55979026e-04],\n",
       "          [-2.83732008e-04]],\n",
       " \n",
       "         [[-5.23833730e-02],\n",
       "          [-9.31074177e-02],\n",
       "          [ 2.22853459e-01],\n",
       "          ...,\n",
       "          [ 4.31508112e-04],\n",
       "          [-5.24187246e-04],\n",
       "          [ 3.79729964e-04]],\n",
       " \n",
       "         [[-2.79779396e-02],\n",
       "          [-5.70105593e-02],\n",
       "          [ 2.24415084e-01],\n",
       "          ...,\n",
       "          [-1.09214361e-04],\n",
       "          [-6.21690063e-04],\n",
       "          [ 7.98040070e-04]],\n",
       " \n",
       "         ...,\n",
       " \n",
       "         [[-4.53356223e-02],\n",
       "          [-6.21736397e-02],\n",
       "          [ 1.87098974e-01],\n",
       "          ...,\n",
       "          [ 1.05050943e-03],\n",
       "          [-1.63660628e-03],\n",
       "          [ 1.84298285e-04]],\n",
       " \n",
       "         [[-1.05975273e-02],\n",
       "          [-1.89316088e-02],\n",
       "          [ 1.87570460e-01],\n",
       "          ...,\n",
       "          [-6.66091124e-04],\n",
       "          [ 5.46916920e-04],\n",
       "          [ 1.12213605e-03]],\n",
       " \n",
       "         [[ 0.00000000e+00],\n",
       "          [ 0.00000000e+00],\n",
       "          [ 0.00000000e+00],\n",
       "          ...,\n",
       "          [ 0.00000000e+00],\n",
       "          [ 0.00000000e+00],\n",
       "          [ 0.00000000e+00]]],\n",
       " \n",
       " \n",
       "        ...,\n",
       " \n",
       " \n",
       "        [[[ 1.05994194e-02],\n",
       "          [ 1.05252622e-03],\n",
       "          [ 1.33098689e-01],\n",
       "          ...,\n",
       "          [ 3.17226472e-04],\n",
       "          [-1.88035566e-03],\n",
       "          [-1.09184547e-04]],\n",
       " \n",
       "         [[ 8.25979026e-03],\n",
       "          [-3.11035114e-03],\n",
       "          [ 1.32279201e-01],\n",
       "          ...,\n",
       "          [ 4.31115687e-04],\n",
       "          [ 3.17053230e-05],\n",
       "          [ 2.04288512e-04]],\n",
       " \n",
       "         [[-2.29519535e-02],\n",
       "          [-3.34720801e-02],\n",
       "          [ 1.36108078e-01],\n",
       "          ...,\n",
       "          [ 3.99958258e-04],\n",
       "          [-4.87990388e-04],\n",
       "          [ 4.11620541e-04]],\n",
       " \n",
       "         ...,\n",
       " \n",
       "         [[-3.08109832e-02],\n",
       "          [-4.74587981e-02],\n",
       "          [ 1.37888265e-01],\n",
       "          ...,\n",
       "          [-7.99063228e-04],\n",
       "          [ 3.91765416e-04],\n",
       "          [ 1.24539874e-03]],\n",
       " \n",
       "         [[ 0.00000000e+00],\n",
       "          [ 0.00000000e+00],\n",
       "          [ 0.00000000e+00],\n",
       "          ...,\n",
       "          [ 0.00000000e+00],\n",
       "          [ 0.00000000e+00],\n",
       "          [ 0.00000000e+00]],\n",
       " \n",
       "         [[ 0.00000000e+00],\n",
       "          [ 0.00000000e+00],\n",
       "          [ 0.00000000e+00],\n",
       "          ...,\n",
       "          [ 0.00000000e+00],\n",
       "          [ 0.00000000e+00],\n",
       "          [ 0.00000000e+00]]],\n",
       " \n",
       " \n",
       "        [[[ 1.66975638e-02],\n",
       "          [ 1.54413625e-02],\n",
       "          [ 1.19154157e-01],\n",
       "          ...,\n",
       "          [ 5.48517242e-04],\n",
       "          [-5.70350377e-04],\n",
       "          [ 1.37125281e-03]],\n",
       " \n",
       "         [[-1.55490520e-03],\n",
       "          [ 2.52586361e-02],\n",
       "          [ 1.19535372e-01],\n",
       "          ...,\n",
       "          [-3.93572412e-04],\n",
       "          [ 1.82570699e-03],\n",
       "          [ 6.95591870e-04]],\n",
       " \n",
       "         [[-5.47756920e-03],\n",
       "          [ 2.72493973e-02],\n",
       "          [ 1.17653572e-01],\n",
       "          ...,\n",
       "          [-7.36268961e-04],\n",
       "          [ 6.73301756e-07],\n",
       "          [ 1.47400749e-03]],\n",
       " \n",
       "         ...,\n",
       " \n",
       "         [[ 0.00000000e+00],\n",
       "          [ 0.00000000e+00],\n",
       "          [ 0.00000000e+00],\n",
       "          ...,\n",
       "          [ 0.00000000e+00],\n",
       "          [ 0.00000000e+00],\n",
       "          [ 0.00000000e+00]],\n",
       " \n",
       "         [[ 0.00000000e+00],\n",
       "          [ 0.00000000e+00],\n",
       "          [ 0.00000000e+00],\n",
       "          ...,\n",
       "          [ 0.00000000e+00],\n",
       "          [ 0.00000000e+00],\n",
       "          [ 0.00000000e+00]],\n",
       " \n",
       "         [[ 0.00000000e+00],\n",
       "          [ 0.00000000e+00],\n",
       "          [ 0.00000000e+00],\n",
       "          ...,\n",
       "          [ 0.00000000e+00],\n",
       "          [ 0.00000000e+00],\n",
       "          [ 0.00000000e+00]]],\n",
       " \n",
       " \n",
       "        [[[-6.81348698e-03],\n",
       "          [ 4.22395330e-04],\n",
       "          [ 2.63308191e-01],\n",
       "          ...,\n",
       "          [ 4.93113194e-04],\n",
       "          [-8.58280247e-04],\n",
       "          [-1.88516682e-04]],\n",
       " \n",
       "         [[-1.66042221e-02],\n",
       "          [ 1.18854673e-02],\n",
       "          [ 2.68952857e-01],\n",
       "          ...,\n",
       "          [ 3.52032059e-04],\n",
       "          [ 3.86553247e-04],\n",
       "          [ 7.38203798e-04]],\n",
       " \n",
       "         [[-1.41150585e-02],\n",
       "          [ 8.04302363e-03],\n",
       "          [ 2.71880497e-01],\n",
       "          ...,\n",
       "          [ 2.18895785e-03],\n",
       "          [-1.01105354e-03],\n",
       "          [ 2.57786537e-05]],\n",
       " \n",
       "         ...,\n",
       " \n",
       "         [[-4.07391819e-03],\n",
       "          [ 7.67521662e-04],\n",
       "          [ 1.83344030e-01],\n",
       "          ...,\n",
       "          [-6.35900713e-05],\n",
       "          [ 5.75942715e-04],\n",
       "          [ 1.64633746e-03]],\n",
       " \n",
       "         [[-2.25654195e-03],\n",
       "          [ 1.98786897e-03],\n",
       "          [ 1.81194970e-01],\n",
       "          ...,\n",
       "          [-4.99489728e-04],\n",
       "          [-4.94372154e-05],\n",
       "          [-1.14418411e-04]],\n",
       " \n",
       "         [[ 0.00000000e+00],\n",
       "          [ 0.00000000e+00],\n",
       "          [ 0.00000000e+00],\n",
       "          ...,\n",
       "          [ 0.00000000e+00],\n",
       "          [ 0.00000000e+00],\n",
       "          [ 0.00000000e+00]]]])>,\n",
       " 'start_time': <tf.Tensor: shape=(20,), dtype=float32, numpy=\n",
       " array([1.5015277e+18, 1.5015255e+18, 1.5015250e+18, 1.5015230e+18,\n",
       "        1.5015241e+18, 1.5015244e+18, 1.5015259e+18, 1.5015307e+18,\n",
       "        1.5015247e+18, 1.4988537e+18, 1.5015237e+18, 1.5015270e+18,\n",
       "        1.5015262e+18, 1.5015316e+18, 1.5015252e+18, 1.5015274e+18,\n",
       "        1.5015265e+18, 1.5015285e+18, 1.5015283e+18, 1.5015268e+18],\n",
       "       dtype=float32)>,\n",
       " 'end_time': <tf.Tensor: shape=(20,), dtype=float32, numpy=\n",
       " array([1.5015280e+18, 1.5015259e+18, 1.5015252e+18, 1.5015233e+18,\n",
       "        1.5015244e+18, 1.5015247e+18, 1.5015262e+18, 1.5015310e+18,\n",
       "        1.5015250e+18, 1.4988537e+18, 1.5015240e+18, 1.5015274e+18,\n",
       "        1.5015265e+18, 1.5015318e+18, 1.5015255e+18, 1.5015276e+18,\n",
       "        1.5015268e+18, 1.5015288e+18, 1.5015285e+18, 1.5015270e+18],\n",
       "       dtype=float32)>}"
      ]
     },
     "execution_count": 277,
     "metadata": {},
     "output_type": "execute_result"
    }
   ],
   "source": [
    "x_rot[0][0]"
   ]
  },
  {
   "cell_type": "code",
   "execution_count": 100,
   "metadata": {},
   "outputs": [
    {
     "data": {
      "text/plain": [
       "<matplotlib.image.AxesImage at 0x7ff8f84d5250>"
      ]
     },
     "execution_count": 100,
     "metadata": {},
     "output_type": "execute_result"
    },
    {
     "data": {
      "image/png": "[encoded data removed]",
      "text/plain": [
       "<Figure size 432x288 with 1 Axes>"
      ]
     },
     "metadata": {
      "needs_background": "light"
     },
     "output_type": "display_data"
    }
   ],
   "source": [
    "plt.imshow(x_rot[0][0]['input'].numpy()[8,:,:,0], vmin=0, vmax=1)"
   ]
  },
  {
   "cell_type": "code",
   "execution_count": 111,
   "metadata": {},
   "outputs": [
    {
     "data": {
      "text/plain": [
       "(20, 390, 400, 1)"
      ]
     },
     "execution_count": 111,
     "metadata": {},
     "output_type": "execute_result"
    }
   ],
   "source": [
    "x_rot[99][0]['input'].numpy().shape"
   ]
  },
  {
   "cell_type": "code",
   "execution_count": 166,
   "metadata": {},
   "outputs": [],
   "source": [
    "trainset = dataset.skip(100)\n",
    "testset = dataset.take(100)"
   ]
  },
  {
   "cell_type": "code",
   "execution_count": 167,
   "metadata": {},
   "outputs": [],
   "source": [
    "x = [x for x in trainset.take(1)]"
   ]
  },
  {
   "cell_type": "code",
   "execution_count": 7,
   "metadata": {},
   "outputs": [
    {
     "ename": "NameError",
     "evalue": "name 'get_label' is not defined",
     "output_type": "error",
     "traceback": [
      "\u001b[0;31m---------------------------------------------------------------------------\u001b[0m",
      "\u001b[0;31mNameError\u001b[0m                                 Traceback (most recent call last)",
      "\u001b[0;32m<ipython-input-7-af7f564bd2fd>\u001b[0m in \u001b[0;36m<module>\u001b[0;34m\u001b[0m\n\u001b[1;32m      1\u001b[0m \u001b[0mtimes\u001b[0m \u001b[0;34m=\u001b[0m \u001b[0mx\u001b[0m\u001b[0;34m[\u001b[0m\u001b[0;36m0\u001b[0m\u001b[0;34m]\u001b[0m\u001b[0;34m[\u001b[0m\u001b[0;36m0\u001b[0m\u001b[0;34m]\u001b[0m\u001b[0;34m[\u001b[0m\u001b[0;34m\"start_time\"\u001b[0m\u001b[0;34m]\u001b[0m\u001b[0;34m\u001b[0m\u001b[0;34m\u001b[0m\u001b[0m\n\u001b[0;32m----> 2\u001b[0;31m \u001b[0mlabels\u001b[0m \u001b[0;34m=\u001b[0m \u001b[0mnp\u001b[0m\u001b[0;34m.\u001b[0m\u001b[0marray\u001b[0m\u001b[0;34m(\u001b[0m\u001b[0;34m[\u001b[0m\u001b[0mget_label\u001b[0m\u001b[0;34m(\u001b[0m\u001b[0my\u001b[0m\u001b[0;34m)\u001b[0m \u001b[0;32mfor\u001b[0m \u001b[0my\u001b[0m \u001b[0;32min\u001b[0m \u001b[0mpd\u001b[0m\u001b[0;34m.\u001b[0m\u001b[0mto_datetime\u001b[0m\u001b[0;34m(\u001b[0m\u001b[0mtimes\u001b[0m\u001b[0;34m.\u001b[0m\u001b[0mnumpy\u001b[0m\u001b[0;34m(\u001b[0m\u001b[0;34m)\u001b[0m\u001b[0;34m)\u001b[0m\u001b[0;34m]\u001b[0m\u001b[0;34m)\u001b[0m\u001b[0;34m\u001b[0m\u001b[0;34m\u001b[0m\u001b[0m\n\u001b[0m\u001b[1;32m      3\u001b[0m \u001b[0mlabels\u001b[0m\u001b[0;34m.\u001b[0m\u001b[0mshape\u001b[0m\u001b[0;34m\u001b[0m\u001b[0;34m\u001b[0m\u001b[0m\n",
      "\u001b[0;32m<ipython-input-7-af7f564bd2fd>\u001b[0m in \u001b[0;36m<listcomp>\u001b[0;34m(.0)\u001b[0m\n\u001b[1;32m      1\u001b[0m \u001b[0mtimes\u001b[0m \u001b[0;34m=\u001b[0m \u001b[0mx\u001b[0m\u001b[0;34m[\u001b[0m\u001b[0;36m0\u001b[0m\u001b[0;34m]\u001b[0m\u001b[0;34m[\u001b[0m\u001b[0;36m0\u001b[0m\u001b[0;34m]\u001b[0m\u001b[0;34m[\u001b[0m\u001b[0;34m\"start_time\"\u001b[0m\u001b[0;34m]\u001b[0m\u001b[0;34m\u001b[0m\u001b[0;34m\u001b[0m\u001b[0m\n\u001b[0;32m----> 2\u001b[0;31m \u001b[0mlabels\u001b[0m \u001b[0;34m=\u001b[0m \u001b[0mnp\u001b[0m\u001b[0;34m.\u001b[0m\u001b[0marray\u001b[0m\u001b[0;34m(\u001b[0m\u001b[0;34m[\u001b[0m\u001b[0mget_label\u001b[0m\u001b[0;34m(\u001b[0m\u001b[0my\u001b[0m\u001b[0;34m)\u001b[0m \u001b[0;32mfor\u001b[0m \u001b[0my\u001b[0m \u001b[0;32min\u001b[0m \u001b[0mpd\u001b[0m\u001b[0;34m.\u001b[0m\u001b[0mto_datetime\u001b[0m\u001b[0;34m(\u001b[0m\u001b[0mtimes\u001b[0m\u001b[0;34m.\u001b[0m\u001b[0mnumpy\u001b[0m\u001b[0;34m(\u001b[0m\u001b[0;34m)\u001b[0m\u001b[0;34m)\u001b[0m\u001b[0;34m]\u001b[0m\u001b[0;34m)\u001b[0m\u001b[0;34m\u001b[0m\u001b[0;34m\u001b[0m\u001b[0m\n\u001b[0m\u001b[1;32m      3\u001b[0m \u001b[0mlabels\u001b[0m\u001b[0;34m.\u001b[0m\u001b[0mshape\u001b[0m\u001b[0;34m\u001b[0m\u001b[0;34m\u001b[0m\u001b[0m\n",
      "\u001b[0;31mNameError\u001b[0m: name 'get_label' is not defined"
     ]
    }
   ],
   "source": [
    "times = x[0][0][\"start_time\"]\n",
    "labels = np.array([get_label(y) for y in pd.to_datetime(times.numpy())])\n",
    "labels.shape"
   ]
  },
  {
   "cell_type": "code",
   "execution_count": 11,
   "metadata": {},
   "outputs": [
    {
     "ename": "ValueError",
     "evalue": "The last dimension of the inputs to `Dense` should be defined. Found `None`.",
     "output_type": "error",
     "traceback": [
      "\u001b[0;31m---------------------------------------------------------------------------\u001b[0m",
      "\u001b[0;31mValueError\u001b[0m                                Traceback (most recent call last)",
      "\u001b[0;32m<ipython-input-11-878d642a8ecf>\u001b[0m in \u001b[0;36m<module>\u001b[0;34m\u001b[0m\n\u001b[0;32m----> 1\u001b[0;31m \u001b[0mmodel\u001b[0m \u001b[0;34m=\u001b[0m \u001b[0mresnet_v1\u001b[0m\u001b[0;34m(\u001b[0m\u001b[0;34m(\u001b[0m\u001b[0;32mNone\u001b[0m\u001b[0;34m,\u001b[0m \u001b[0;32mNone\u001b[0m\u001b[0;34m,\u001b[0m \u001b[0;36m1\u001b[0m\u001b[0;34m)\u001b[0m\u001b[0;34m,\u001b[0m \u001b[0;36m20\u001b[0m\u001b[0;34m,\u001b[0m \u001b[0mnum_classes\u001b[0m\u001b[0;34m=\u001b[0m\u001b[0;36m10\u001b[0m\u001b[0;34m)\u001b[0m\u001b[0;34m\u001b[0m\u001b[0;34m\u001b[0m\u001b[0m\n\u001b[0m",
      "\u001b[0;32m<ipython-input-8-6279a480d417>\u001b[0m in \u001b[0;36mresnet_v1\u001b[0;34m(input_shape, depth, num_classes)\u001b[0m\n\u001b[1;32m    111\u001b[0m     outputs = Dense(num_classes,\n\u001b[1;32m    112\u001b[0m                     \u001b[0mactivation\u001b[0m\u001b[0;34m=\u001b[0m\u001b[0;34m'softmax'\u001b[0m\u001b[0;34m,\u001b[0m\u001b[0;34m\u001b[0m\u001b[0;34m\u001b[0m\u001b[0m\n\u001b[0;32m--> 113\u001b[0;31m                     kernel_initializer='he_normal')(y)\n\u001b[0m\u001b[1;32m    114\u001b[0m \u001b[0;34m\u001b[0m\u001b[0m\n\u001b[1;32m    115\u001b[0m     \u001b[0;31m# Instantiate model.\u001b[0m\u001b[0;34m\u001b[0m\u001b[0;34m\u001b[0m\u001b[0;34m\u001b[0m\u001b[0m\n",
      "\u001b[0;32m~/.conda/envs/tensorflow_env/lib/python3.7/site-packages/tensorflow_core/python/keras/engine/base_layer.py\u001b[0m in \u001b[0;36m__call__\u001b[0;34m(self, *args, **kwargs)\u001b[0m\n\u001b[1;32m    760\u001b[0m           \u001b[0;31m# Build layer if applicable (if the `build` method has been\u001b[0m\u001b[0;34m\u001b[0m\u001b[0;34m\u001b[0m\u001b[0;34m\u001b[0m\u001b[0m\n\u001b[1;32m    761\u001b[0m           \u001b[0;31m# overridden).\u001b[0m\u001b[0;34m\u001b[0m\u001b[0;34m\u001b[0m\u001b[0;34m\u001b[0m\u001b[0m\n\u001b[0;32m--> 762\u001b[0;31m           \u001b[0mself\u001b[0m\u001b[0;34m.\u001b[0m\u001b[0m_maybe_build\u001b[0m\u001b[0;34m(\u001b[0m\u001b[0minputs\u001b[0m\u001b[0;34m)\u001b[0m\u001b[0;34m\u001b[0m\u001b[0;34m\u001b[0m\u001b[0m\n\u001b[0m\u001b[1;32m    763\u001b[0m           \u001b[0mcast_inputs\u001b[0m \u001b[0;34m=\u001b[0m \u001b[0mself\u001b[0m\u001b[0;34m.\u001b[0m\u001b[0m_maybe_cast_inputs\u001b[0m\u001b[0;34m(\u001b[0m\u001b[0minputs\u001b[0m\u001b[0;34m)\u001b[0m\u001b[0;34m\u001b[0m\u001b[0;34m\u001b[0m\u001b[0m\n\u001b[1;32m    764\u001b[0m \u001b[0;34m\u001b[0m\u001b[0m\n",
      "\u001b[0;32m~/.conda/envs/tensorflow_env/lib/python3.7/site-packages/tensorflow_core/python/keras/engine/base_layer.py\u001b[0m in \u001b[0;36m_maybe_build\u001b[0;34m(self, inputs)\u001b[0m\n\u001b[1;32m   2194\u001b[0m         \u001b[0;31m# operations.\u001b[0m\u001b[0;34m\u001b[0m\u001b[0;34m\u001b[0m\u001b[0;34m\u001b[0m\u001b[0m\n\u001b[1;32m   2195\u001b[0m         \u001b[0;32mwith\u001b[0m \u001b[0mtf_utils\u001b[0m\u001b[0;34m.\u001b[0m\u001b[0mmaybe_init_scope\u001b[0m\u001b[0;34m(\u001b[0m\u001b[0mself\u001b[0m\u001b[0;34m)\u001b[0m\u001b[0;34m:\u001b[0m\u001b[0;34m\u001b[0m\u001b[0;34m\u001b[0m\u001b[0m\n\u001b[0;32m-> 2196\u001b[0;31m           \u001b[0mself\u001b[0m\u001b[0;34m.\u001b[0m\u001b[0mbuild\u001b[0m\u001b[0;34m(\u001b[0m\u001b[0minput_shapes\u001b[0m\u001b[0;34m)\u001b[0m\u001b[0;34m\u001b[0m\u001b[0;34m\u001b[0m\u001b[0m\n\u001b[0m\u001b[1;32m   2197\u001b[0m       \u001b[0;31m# We must set self.built since user defined build functions are not\u001b[0m\u001b[0;34m\u001b[0m\u001b[0;34m\u001b[0m\u001b[0;34m\u001b[0m\u001b[0m\n\u001b[1;32m   2198\u001b[0m       \u001b[0;31m# constrained to set self.built.\u001b[0m\u001b[0;34m\u001b[0m\u001b[0;34m\u001b[0m\u001b[0;34m\u001b[0m\u001b[0m\n",
      "\u001b[0;32m~/.conda/envs/tensorflow_env/lib/python3.7/site-packages/tensorflow_core/python/keras/layers/core.py\u001b[0m in \u001b[0;36mbuild\u001b[0;34m(self, input_shape)\u001b[0m\n\u001b[1;32m   1115\u001b[0m     \u001b[0minput_shape\u001b[0m \u001b[0;34m=\u001b[0m \u001b[0mtensor_shape\u001b[0m\u001b[0;34m.\u001b[0m\u001b[0mTensorShape\u001b[0m\u001b[0;34m(\u001b[0m\u001b[0minput_shape\u001b[0m\u001b[0;34m)\u001b[0m\u001b[0;34m\u001b[0m\u001b[0;34m\u001b[0m\u001b[0m\n\u001b[1;32m   1116\u001b[0m     \u001b[0;32mif\u001b[0m \u001b[0mtensor_shape\u001b[0m\u001b[0;34m.\u001b[0m\u001b[0mdimension_value\u001b[0m\u001b[0;34m(\u001b[0m\u001b[0minput_shape\u001b[0m\u001b[0;34m[\u001b[0m\u001b[0;34m-\u001b[0m\u001b[0;36m1\u001b[0m\u001b[0;34m]\u001b[0m\u001b[0;34m)\u001b[0m \u001b[0;32mis\u001b[0m \u001b[0;32mNone\u001b[0m\u001b[0;34m:\u001b[0m\u001b[0;34m\u001b[0m\u001b[0;34m\u001b[0m\u001b[0m\n\u001b[0;32m-> 1117\u001b[0;31m       raise ValueError('The last dimension of the inputs to `Dense` '\n\u001b[0m\u001b[1;32m   1118\u001b[0m                        'should be defined. Found `None`.')\n\u001b[1;32m   1119\u001b[0m     \u001b[0mlast_dim\u001b[0m \u001b[0;34m=\u001b[0m \u001b[0mtensor_shape\u001b[0m\u001b[0;34m.\u001b[0m\u001b[0mdimension_value\u001b[0m\u001b[0;34m(\u001b[0m\u001b[0minput_shape\u001b[0m\u001b[0;34m[\u001b[0m\u001b[0;34m-\u001b[0m\u001b[0;36m1\u001b[0m\u001b[0;34m]\u001b[0m\u001b[0;34m)\u001b[0m\u001b[0;34m\u001b[0m\u001b[0;34m\u001b[0m\u001b[0m\n",
      "\u001b[0;31mValueError\u001b[0m: The last dimension of the inputs to `Dense` should be defined. Found `None`."
     ]
    }
   ],
   "source": [
    "model = resnet_v1((None, None, 1), 20, num_classes=10)"
   ]
  },
  {
   "cell_type": "code",
   "execution_count": 244,
   "metadata": {},
   "outputs": [],
   "source": [
    "def conv_net(dset_list, downscale_level=2, num_levels=4, num_filters=8):\n",
    "    res_reduce = downscale_level**num_levels\n",
    "    # Pad the initial input layer\n",
    "    pad_x = np.ceil(dset_list[0][0]['width'].numpy()[0] / res_reduce) * res_reduce - dset_list[0][0]['width'].numpy()[0]\n",
    "    pad_y = np.ceil(dset_list[0][0]['height'].numpy()[0] / res_reduce) * res_reduce - dset_list[0][0]['height'].numpy()[0] \n",
    "    num_x = dset_list[0][0]['width'].numpy()[0]\n",
    "    num_y = dset_list[0][0]['height'].numpy()[0]\n",
    "    input_shape = (num_x, num_y, 1)\n",
    "    inp = Input(shape=input_shape, name=\"input\")\n",
    "    encoder_layers = []\n",
    "    x = inp\n",
    "    for i in range(num_levels):\n",
    "        if i == 0:\n",
    "            x = ZeroPadding2D(((0, int(pad_x)), (0, int(pad_y))))(x)\n",
    "        x = Conv2D(num_filters**(i + 1), kernel_size=(1, 1), padding='same')(x)\n",
    "        x = BatchNormalization(axis=3)(x)\n",
    "        x = Activation('relu')(x)\n",
    "        x = Conv2D(num_filters**(i + 1), kernel_size=(3, 3), padding='same')(x)\n",
    "        x = BatchNormalization(axis=3)(x)\n",
    "        x = Activation('relu')(x)\n",
    "        x = Conv2D(num_filters**(i + 1), kernel_size=(1, 1), padding='same')(x)\n",
    "        x = BatchNormalization(axis=3)(x)\n",
    "        x = Activation('relu')(x)\n",
    "        x = MaxPooling2D((downscale_level, downscale_level))(x)\n",
    "        \n",
    "    x = Flatten()(x)\n",
    "    x = Dense(1, activation='softmax', name=\"output\")(x)\n",
    "    \n",
    "    return Model(inp, x)\n",
    "    \n",
    "def unet(dset_list, downscale_level=2, num_levels=4, num_filters=8):\n",
    "    res_reduce = downscale_level**num_levels\n",
    "    # Pad the initial input layer\n",
    "    pad_x = np.ceil(dset_list[0][0]['width'].numpy()[0] / res_reduce) * res_reduce - dset_list[0][0]['width'].numpy()[0]\n",
    "    pad_y = np.ceil(dset_list[0][0]['height'].numpy()[0] / res_reduce) * res_reduce - dset_list[0][0]['height'].numpy()[0] \n",
    "    num_x = dset_list[0][0]['width'].numpy()[0]\n",
    "    num_y = dset_list[0][0]['height'].numpy()[0]\n",
    "    input_shape = (num_x, num_y, 1)\n",
    "    inp = Input(shape=input_shape, name=\"input\")\n",
    "    encoder_layers = []\n",
    "    x = inp\n",
    "    for i in range(num_levels):\n",
    "        if i == 0:\n",
    "            x = ZeroPadding2D(((0, int(pad_x)), (0, int(pad_y))))(x)\n",
    "        x = Conv2D(num_filters**(i + 1), kernel_size=(1, 1), padding='same')(x)\n",
    "        x = BatchNormalization(axis=3)(x)\n",
    "        x = Activation('relu')(x)\n",
    "        x = Conv2D(num_filters**(i + 1), kernel_size=(3, 3), padding='same')(x)\n",
    "        x = BatchNormalization(axis=3)(x)\n",
    "        x = Activation('relu')(x)\n",
    "        x = Conv2D(num_filters**(i + 1), kernel_size=(1, 1), padding='same')(x)\n",
    "        x = BatchNormalization(axis=3)(x)\n",
    "        encoder_layers.append(x)\n",
    "        x = Activation('relu')(x)\n",
    "        x = MaxPooling2D((downscale_level, downscale_level))(x)\n",
    "        \n",
    "                \n",
    "    encoder = x\n",
    "    for i in range(num_levels):\n",
    "        if i == 0:\n",
    "            x = Conv2D(num_filters**(num_levels - i + 1), kernel_size=(1, 1), padding='same')(encoder)\n",
    "            x = BatchNormalization(axis=3)(x)\n",
    "            x = Activation('relu')(x)\n",
    "            x = Conv2D(num_filters**(num_levels - i + 1), kernel_size=(3, 3), padding='same')(x)\n",
    "            x = BatchNormalization(axis=3)(x)\n",
    "            x = Activation('relu')(x)\n",
    "            x = Conv2D(num_filters**(num_levels - i + 1), kernel_size=(1, 1), padding='same')(x)\n",
    "            x = BatchNormalization(axis=3)(x)\n",
    "            x = Activation('relu')(x)\n",
    "            x = UpSampling2D((downscale_level, downscale_level))(x)\n",
    "        else:\n",
    "            x = Conv2D(num_filters**(num_levels - i + 1), kernel_size=(1, 1), padding='same')(x)\n",
    "            x = BatchNormalization(axis=3)(x)\n",
    "            x = Activation('relu')(x)\n",
    "            x = Conv2D(num_filters**(num_levels - i + 1), kernel_size=(3, 3), padding='same')(x)\n",
    "            x = BatchNormalization(axis=3)(x)\n",
    "            x = Activation('relu')(x)\n",
    "            x = Conv2D(num_filters**(num_levels - i + 1), kernel_size=(1, 1), padding='same')(x)\n",
    "            x = BatchNormalization(axis=3)(x)\n",
    "            x_shortcut = encoder_layers[num_levels - i]\n",
    "            my_shape = x_shortcut.shape\n",
    "            crop_x = 0\n",
    "            crop_y = 0\n",
    "            if my_shape[1] > x.shape[1]:\n",
    "                crop_x = my_shape[1] - x.shape[1]\n",
    "            if my_shape[2] > x.shape[2]:\n",
    "                crop_x = my_shape[2] - x.shape[2]\n",
    "            x_shortcut = Cropping2D(((0, crop_y), (0, crop_x)))(x_shortcut)\n",
    "            x = Add()([x, x_shortcut])\n",
    "            x = Activation('relu')(x)\n",
    "            x = UpSampling2D((downscale_level, downscale_level))(x)\n",
    "    \n",
    "    x = Cropping2D(((0, int(pad_x)), (0, int(pad_y))))(x)\n",
    "    decoder = Conv2D(1, kernel_size=(3, 3), activation='relu', padding='same', name=\"output\")(x)\n",
    "    model = Model(inp, decoder)\n",
    "    return encoder, decoder, model"
   ]
  },
  {
   "cell_type": "code",
   "execution_count": 222,
   "metadata": {},
   "outputs": [],
   "source": [
    "encoder, decoder, model = unet(x, num_levels=4, num_filters=2, downscale_level=2)"
   ]
  },
  {
   "cell_type": "code",
   "execution_count": 245,
   "metadata": {},
   "outputs": [],
   "source": [
    "model = conv_net(x, num_levels=4, num_filters=2, downscale_level=2)"
   ]
  },
  {
   "cell_type": "code",
   "execution_count": 13,
   "metadata": {},
   "outputs": [
    {
     "data": {
      "text/plain": [
       "<SkipDataset shapes: ({input: (None, None, None, 1), width: (None,), height: (None,), output: (None, None, None, 1), start_time: (None,), end_time: (None,)}, {input: (None, None, None, 1), width: (None,), height: (None,), output: (None, None, None, 1), start_time: (None,), end_time: (None,)}), types: ({input: tf.float64, width: tf.int64, height: tf.int64, output: tf.float64, start_time: tf.float32, end_time: tf.float32}, {input: tf.float64, width: tf.int64, height: tf.int64, output: tf.float64, start_time: tf.float32, end_time: tf.float32})>"
      ]
     },
     "execution_count": 13,
     "metadata": {},
     "output_type": "execute_result"
    }
   ],
   "source": [
    "trainset"
   ]
  },
  {
   "cell_type": "code",
   "execution_count": 246,
   "metadata": {},
   "outputs": [
    {
     "name": "stdout",
     "output_type": "stream",
     "text": [
      "Model: \"model_22\"\n",
      "_________________________________________________________________\n",
      "Layer (type)                 Output Shape              Param #   \n",
      "=================================================================\n",
      "input (InputLayer)           [(None, 195, 400, 1)]     0         \n",
      "_________________________________________________________________\n",
      "zero_padding2d_27 (ZeroPaddi (None, 208, 400, 1)       0         \n",
      "_________________________________________________________________\n",
      "conv2d_462 (Conv2D)          (None, 208, 400, 2)       4         \n",
      "_________________________________________________________________\n",
      "batch_normalization_330 (Bat (None, 208, 400, 2)       8         \n",
      "_________________________________________________________________\n",
      "activation_460 (Activation)  (None, 208, 400, 2)       0         \n",
      "_________________________________________________________________\n",
      "conv2d_463 (Conv2D)          (None, 208, 400, 2)       38        \n",
      "_________________________________________________________________\n",
      "batch_normalization_331 (Bat (None, 208, 400, 2)       8         \n",
      "_________________________________________________________________\n",
      "activation_461 (Activation)  (None, 208, 400, 2)       0         \n",
      "_________________________________________________________________\n",
      "conv2d_464 (Conv2D)          (None, 208, 400, 2)       6         \n",
      "_________________________________________________________________\n",
      "batch_normalization_332 (Bat (None, 208, 400, 2)       8         \n",
      "_________________________________________________________________\n",
      "activation_462 (Activation)  (None, 208, 400, 2)       0         \n",
      "_________________________________________________________________\n",
      "max_pooling2d_90 (MaxPooling (None, 104, 200, 2)       0         \n",
      "_________________________________________________________________\n",
      "conv2d_465 (Conv2D)          (None, 104, 200, 4)       12        \n",
      "_________________________________________________________________\n",
      "batch_normalization_333 (Bat (None, 104, 200, 4)       16        \n",
      "_________________________________________________________________\n",
      "activation_463 (Activation)  (None, 104, 200, 4)       0         \n",
      "_________________________________________________________________\n",
      "conv2d_466 (Conv2D)          (None, 104, 200, 4)       148       \n",
      "_________________________________________________________________\n",
      "batch_normalization_334 (Bat (None, 104, 200, 4)       16        \n",
      "_________________________________________________________________\n",
      "activation_464 (Activation)  (None, 104, 200, 4)       0         \n",
      "_________________________________________________________________\n",
      "conv2d_467 (Conv2D)          (None, 104, 200, 4)       20        \n",
      "_________________________________________________________________\n",
      "batch_normalization_335 (Bat (None, 104, 200, 4)       16        \n",
      "_________________________________________________________________\n",
      "activation_465 (Activation)  (None, 104, 200, 4)       0         \n",
      "_________________________________________________________________\n",
      "max_pooling2d_91 (MaxPooling (None, 52, 100, 4)        0         \n",
      "_________________________________________________________________\n",
      "conv2d_468 (Conv2D)          (None, 52, 100, 8)        40        \n",
      "_________________________________________________________________\n",
      "batch_normalization_336 (Bat (None, 52, 100, 8)        32        \n",
      "_________________________________________________________________\n",
      "activation_466 (Activation)  (None, 52, 100, 8)        0         \n",
      "_________________________________________________________________\n",
      "conv2d_469 (Conv2D)          (None, 52, 100, 8)        584       \n",
      "_________________________________________________________________\n",
      "batch_normalization_337 (Bat (None, 52, 100, 8)        32        \n",
      "_________________________________________________________________\n",
      "activation_467 (Activation)  (None, 52, 100, 8)        0         \n",
      "_________________________________________________________________\n",
      "conv2d_470 (Conv2D)          (None, 52, 100, 8)        72        \n",
      "_________________________________________________________________\n",
      "batch_normalization_338 (Bat (None, 52, 100, 8)        32        \n",
      "_________________________________________________________________\n",
      "activation_468 (Activation)  (None, 52, 100, 8)        0         \n",
      "_________________________________________________________________\n",
      "max_pooling2d_92 (MaxPooling (None, 26, 50, 8)         0         \n",
      "_________________________________________________________________\n",
      "conv2d_471 (Conv2D)          (None, 26, 50, 16)        144       \n",
      "_________________________________________________________________\n",
      "batch_normalization_339 (Bat (None, 26, 50, 16)        64        \n",
      "_________________________________________________________________\n",
      "activation_469 (Activation)  (None, 26, 50, 16)        0         \n",
      "_________________________________________________________________\n",
      "conv2d_472 (Conv2D)          (None, 26, 50, 16)        2320      \n",
      "_________________________________________________________________\n",
      "batch_normalization_340 (Bat (None, 26, 50, 16)        64        \n",
      "_________________________________________________________________\n",
      "activation_470 (Activation)  (None, 26, 50, 16)        0         \n",
      "_________________________________________________________________\n",
      "conv2d_473 (Conv2D)          (None, 26, 50, 16)        272       \n",
      "_________________________________________________________________\n",
      "batch_normalization_341 (Bat (None, 26, 50, 16)        64        \n",
      "_________________________________________________________________\n",
      "activation_471 (Activation)  (None, 26, 50, 16)        0         \n",
      "_________________________________________________________________\n",
      "max_pooling2d_93 (MaxPooling (None, 13, 25, 16)        0         \n",
      "_________________________________________________________________\n",
      "flatten_6 (Flatten)          (None, 5200)              0         \n",
      "_________________________________________________________________\n",
      "output (Dense)               (None, 1)                 5201      \n",
      "=================================================================\n",
      "Total params: 9,221\n",
      "Trainable params: 9,041\n",
      "Non-trainable params: 180\n",
      "_________________________________________________________________\n"
     ]
    }
   ],
   "source": [
    "model.summary()"
   ]
  },
  {
   "cell_type": "code",
   "execution_count": 247,
   "metadata": {},
   "outputs": [],
   "source": [
    "model.compile(optimizer=Adam(lr=0.001), loss='mean_squared_error')"
   ]
  },
  {
   "cell_type": "code",
   "execution_count": 236,
   "metadata": {},
   "outputs": [
    {
     "name": "stdout",
     "output_type": "stream",
     "text": [
      "Model: \"model_20\"\n",
      "_________________________________________________________________\n",
      "Layer (type)                 Output Shape              Param #   \n",
      "=================================================================\n",
      "input (InputLayer)           [(None, 195, 400, 1)]     0         \n",
      "_________________________________________________________________\n",
      "zero_padding2d_25 (ZeroPaddi (None, 208, 400, 1)       0         \n",
      "_________________________________________________________________\n",
      "conv2d_438 (Conv2D)          (None, 208, 400, 2)       4         \n",
      "_________________________________________________________________\n",
      "batch_normalization_306 (Bat (None, 208, 400, 2)       8         \n",
      "_________________________________________________________________\n",
      "activation_436 (Activation)  (None, 208, 400, 2)       0         \n",
      "_________________________________________________________________\n",
      "conv2d_439 (Conv2D)          (None, 208, 400, 2)       38        \n",
      "_________________________________________________________________\n",
      "batch_normalization_307 (Bat (None, 208, 400, 2)       8         \n",
      "_________________________________________________________________\n",
      "activation_437 (Activation)  (None, 208, 400, 2)       0         \n",
      "_________________________________________________________________\n",
      "conv2d_440 (Conv2D)          (None, 208, 400, 2)       6         \n",
      "_________________________________________________________________\n",
      "batch_normalization_308 (Bat (None, 208, 400, 2)       8         \n",
      "_________________________________________________________________\n",
      "activation_438 (Activation)  (None, 208, 400, 2)       0         \n",
      "_________________________________________________________________\n",
      "max_pooling2d_82 (MaxPooling (None, 104, 200, 2)       0         \n",
      "_________________________________________________________________\n",
      "conv2d_441 (Conv2D)          (None, 104, 200, 4)       12        \n",
      "_________________________________________________________________\n",
      "batch_normalization_309 (Bat (None, 104, 200, 4)       16        \n",
      "_________________________________________________________________\n",
      "activation_439 (Activation)  (None, 104, 200, 4)       0         \n",
      "_________________________________________________________________\n",
      "conv2d_442 (Conv2D)          (None, 104, 200, 4)       148       \n",
      "_________________________________________________________________\n",
      "batch_normalization_310 (Bat (None, 104, 200, 4)       16        \n",
      "_________________________________________________________________\n",
      "activation_440 (Activation)  (None, 104, 200, 4)       0         \n",
      "_________________________________________________________________\n",
      "conv2d_443 (Conv2D)          (None, 104, 200, 4)       20        \n",
      "_________________________________________________________________\n",
      "batch_normalization_311 (Bat (None, 104, 200, 4)       16        \n",
      "_________________________________________________________________\n",
      "activation_441 (Activation)  (None, 104, 200, 4)       0         \n",
      "_________________________________________________________________\n",
      "max_pooling2d_83 (MaxPooling (None, 52, 100, 4)        0         \n",
      "_________________________________________________________________\n",
      "conv2d_444 (Conv2D)          (None, 52, 100, 8)        40        \n",
      "_________________________________________________________________\n",
      "batch_normalization_312 (Bat (None, 52, 100, 8)        32        \n",
      "_________________________________________________________________\n",
      "activation_442 (Activation)  (None, 52, 100, 8)        0         \n",
      "_________________________________________________________________\n",
      "conv2d_445 (Conv2D)          (None, 52, 100, 8)        584       \n",
      "_________________________________________________________________\n",
      "batch_normalization_313 (Bat (None, 52, 100, 8)        32        \n",
      "_________________________________________________________________\n",
      "activation_443 (Activation)  (None, 52, 100, 8)        0         \n",
      "_________________________________________________________________\n",
      "conv2d_446 (Conv2D)          (None, 52, 100, 8)        72        \n",
      "_________________________________________________________________\n",
      "batch_normalization_314 (Bat (None, 52, 100, 8)        32        \n",
      "_________________________________________________________________\n",
      "activation_444 (Activation)  (None, 52, 100, 8)        0         \n",
      "_________________________________________________________________\n",
      "max_pooling2d_84 (MaxPooling (None, 26, 50, 8)         0         \n",
      "_________________________________________________________________\n",
      "conv2d_447 (Conv2D)          (None, 26, 50, 16)        144       \n",
      "_________________________________________________________________\n",
      "batch_normalization_315 (Bat (None, 26, 50, 16)        64        \n",
      "_________________________________________________________________\n",
      "activation_445 (Activation)  (None, 26, 50, 16)        0         \n",
      "_________________________________________________________________\n",
      "conv2d_448 (Conv2D)          (None, 26, 50, 16)        2320      \n",
      "_________________________________________________________________\n",
      "batch_normalization_316 (Bat (None, 26, 50, 16)        64        \n",
      "_________________________________________________________________\n",
      "activation_446 (Activation)  (None, 26, 50, 16)        0         \n",
      "_________________________________________________________________\n",
      "conv2d_449 (Conv2D)          (None, 26, 50, 16)        272       \n",
      "_________________________________________________________________\n",
      "batch_normalization_317 (Bat (None, 26, 50, 16)        64        \n",
      "_________________________________________________________________\n",
      "activation_447 (Activation)  (None, 26, 50, 16)        0         \n",
      "_________________________________________________________________\n",
      "max_pooling2d_85 (MaxPooling (None, 13, 25, 16)        0         \n",
      "_________________________________________________________________\n",
      "flatten_4 (Flatten)          (None, 5200)              0         \n",
      "_________________________________________________________________\n",
      "dense_5 (Dense)              (None, 256)               1331456   \n",
      "_________________________________________________________________\n",
      "output (Dense)               (None, 1)                 257       \n",
      "=================================================================\n",
      "Total params: 1,335,733\n",
      "Trainable params: 1,335,553\n",
      "Non-trainable params: 180\n",
      "_________________________________________________________________\n"
     ]
    }
   ],
   "source": [
    "model.summary()"
   ]
  },
  {
   "cell_type": "code",
   "execution_count": 248,
   "metadata": {},
   "outputs": [
    {
     "name": "stdout",
     "output_type": "stream",
     "text": [
      "Epoch 1/100\n",
      "      1/Unknown - 49s 49s/step\n",
      "Epoch 00001: saving model to /home/rjackson/arming_the_edge/models/encoder-decoder/model-z-only-10min-001.hdf5\n",
      "WARNING:tensorflow:Reduce LR on plateau conditioned on metric `val_loss` which is not available. Available metrics are: lr\n"
     ]
    },
    {
     "name": "stderr",
     "output_type": "stream",
     "text": [
      "WARNING:tensorflow:Reduce LR on plateau conditioned on metric `val_loss` which is not available. Available metrics are: lr\n"
     ]
    },
    {
     "name": "stdout",
     "output_type": "stream",
     "text": [
      "WARNING:tensorflow:Early stopping conditioned on metric `val_loss` which is not available. Available metrics are: \n"
     ]
    },
    {
     "name": "stderr",
     "output_type": "stream",
     "text": [
      "WARNING:tensorflow:Early stopping conditioned on metric `val_loss` which is not available. Available metrics are: \n"
     ]
    },
    {
     "name": "stdout",
     "output_type": "stream",
     "text": [
      "\b\b\b\b\b\b\b\b\b\b\b\b\b\b\b\b\b\b\b\b\b\b\b\b\b\b\b\b\b\b\r",
      "      1/Unknown - 49s 49s/step"
     ]
    },
    {
     "ename": "InvalidArgumentError",
     "evalue": " Incompatible shapes: [20,195,400,1] vs. [20,1]\n\t [[node loss/output_loss/SquaredDifference (defined at <ipython-input-248-ac80ad13c204>:6) ]] [Op:__inference_distributed_function_309698]\n\nFunction call stack:\ndistributed_function\n",
     "output_type": "error",
     "traceback": [
      "\u001b[0;31m---------------------------------------------------------------------------\u001b[0m",
      "\u001b[0;31mInvalidArgumentError\u001b[0m                      Traceback (most recent call last)",
      "\u001b[0;32m<ipython-input-248-ac80ad13c204>\u001b[0m in \u001b[0;36m<module>\u001b[0;34m\u001b[0m\n\u001b[1;32m      4\u001b[0m \u001b[0mreduce_lr\u001b[0m \u001b[0;34m=\u001b[0m \u001b[0mReduceLROnPlateau\u001b[0m\u001b[0;34m(\u001b[0m\u001b[0mpatience\u001b[0m\u001b[0;34m=\u001b[0m\u001b[0;36m2\u001b[0m\u001b[0;34m)\u001b[0m\u001b[0;34m\u001b[0m\u001b[0;34m\u001b[0m\u001b[0m\n\u001b[1;32m      5\u001b[0m model.fit(trainset, epochs=100, callbacks=[checkpointer, reduce_lr, early_stop],\n\u001b[0;32m----> 6\u001b[0;31m           validation_data=testset, validation_steps=100)\n\u001b[0m",
      "\u001b[0;32m~/.conda/envs/tensorflow_env/lib/python3.7/site-packages/tensorflow_core/python/keras/engine/training.py\u001b[0m in \u001b[0;36mfit\u001b[0;34m(self, x, y, batch_size, epochs, verbose, callbacks, validation_split, validation_data, shuffle, class_weight, sample_weight, initial_epoch, steps_per_epoch, validation_steps, validation_freq, max_queue_size, workers, use_multiprocessing, **kwargs)\u001b[0m\n\u001b[1;32m    715\u001b[0m         \u001b[0mmax_queue_size\u001b[0m\u001b[0;34m=\u001b[0m\u001b[0mmax_queue_size\u001b[0m\u001b[0;34m,\u001b[0m\u001b[0;34m\u001b[0m\u001b[0;34m\u001b[0m\u001b[0m\n\u001b[1;32m    716\u001b[0m         \u001b[0mworkers\u001b[0m\u001b[0;34m=\u001b[0m\u001b[0mworkers\u001b[0m\u001b[0;34m,\u001b[0m\u001b[0;34m\u001b[0m\u001b[0;34m\u001b[0m\u001b[0m\n\u001b[0;32m--> 717\u001b[0;31m         use_multiprocessing=use_multiprocessing)\n\u001b[0m\u001b[1;32m    718\u001b[0m \u001b[0;34m\u001b[0m\u001b[0m\n\u001b[1;32m    719\u001b[0m   def evaluate(self,\n",
      "\u001b[0;32m~/.conda/envs/tensorflow_env/lib/python3.7/site-packages/tensorflow_core/python/keras/engine/training_v2.py\u001b[0m in \u001b[0;36mfit\u001b[0;34m(self, model, x, y, batch_size, epochs, verbose, callbacks, validation_split, validation_data, shuffle, class_weight, sample_weight, initial_epoch, steps_per_epoch, validation_steps, validation_freq, max_queue_size, workers, use_multiprocessing, **kwargs)\u001b[0m\n\u001b[1;32m    339\u001b[0m                 \u001b[0mmode\u001b[0m\u001b[0;34m=\u001b[0m\u001b[0mModeKeys\u001b[0m\u001b[0;34m.\u001b[0m\u001b[0mTRAIN\u001b[0m\u001b[0;34m,\u001b[0m\u001b[0;34m\u001b[0m\u001b[0;34m\u001b[0m\u001b[0m\n\u001b[1;32m    340\u001b[0m                 \u001b[0mtraining_context\u001b[0m\u001b[0;34m=\u001b[0m\u001b[0mtraining_context\u001b[0m\u001b[0;34m,\u001b[0m\u001b[0;34m\u001b[0m\u001b[0;34m\u001b[0m\u001b[0m\n\u001b[0;32m--> 341\u001b[0;31m                 total_epochs=epochs)\n\u001b[0m\u001b[1;32m    342\u001b[0m             \u001b[0mcbks\u001b[0m\u001b[0;34m.\u001b[0m\u001b[0mmake_logs\u001b[0m\u001b[0;34m(\u001b[0m\u001b[0mmodel\u001b[0m\u001b[0;34m,\u001b[0m \u001b[0mepoch_logs\u001b[0m\u001b[0;34m,\u001b[0m \u001b[0mtraining_result\u001b[0m\u001b[0;34m,\u001b[0m \u001b[0mModeKeys\u001b[0m\u001b[0;34m.\u001b[0m\u001b[0mTRAIN\u001b[0m\u001b[0;34m)\u001b[0m\u001b[0;34m\u001b[0m\u001b[0;34m\u001b[0m\u001b[0m\n\u001b[1;32m    343\u001b[0m \u001b[0;34m\u001b[0m\u001b[0m\n",
      "\u001b[0;32m~/.conda/envs/tensorflow_env/lib/python3.7/site-packages/tensorflow_core/python/keras/engine/training_v2.py\u001b[0m in \u001b[0;36mrun_one_epoch\u001b[0;34m(model, iterator, execution_function, dataset_size, batch_size, strategy, steps_per_epoch, num_samples, mode, training_context, total_epochs)\u001b[0m\n\u001b[1;32m    126\u001b[0m         step=step, mode=mode, size=current_batch_size) as batch_logs:\n\u001b[1;32m    127\u001b[0m       \u001b[0;32mtry\u001b[0m\u001b[0;34m:\u001b[0m\u001b[0;34m\u001b[0m\u001b[0;34m\u001b[0m\u001b[0m\n\u001b[0;32m--> 128\u001b[0;31m         \u001b[0mbatch_outs\u001b[0m \u001b[0;34m=\u001b[0m \u001b[0mexecution_function\u001b[0m\u001b[0;34m(\u001b[0m\u001b[0miterator\u001b[0m\u001b[0;34m)\u001b[0m\u001b[0;34m\u001b[0m\u001b[0;34m\u001b[0m\u001b[0m\n\u001b[0m\u001b[1;32m    129\u001b[0m       \u001b[0;32mexcept\u001b[0m \u001b[0;34m(\u001b[0m\u001b[0mStopIteration\u001b[0m\u001b[0;34m,\u001b[0m \u001b[0merrors\u001b[0m\u001b[0;34m.\u001b[0m\u001b[0mOutOfRangeError\u001b[0m\u001b[0;34m)\u001b[0m\u001b[0;34m:\u001b[0m\u001b[0;34m\u001b[0m\u001b[0;34m\u001b[0m\u001b[0m\n\u001b[1;32m    130\u001b[0m         \u001b[0;31m# TODO(kaftan): File bug about tf function and errors.OutOfRangeError?\u001b[0m\u001b[0;34m\u001b[0m\u001b[0;34m\u001b[0m\u001b[0;34m\u001b[0m\u001b[0m\n",
      "\u001b[0;32m~/.conda/envs/tensorflow_env/lib/python3.7/site-packages/tensorflow_core/python/keras/engine/training_v2_utils.py\u001b[0m in \u001b[0;36mexecution_function\u001b[0;34m(input_fn)\u001b[0m\n\u001b[1;32m     96\u001b[0m     \u001b[0;31m# `numpy` translates Tensors to values in Eager mode.\u001b[0m\u001b[0;34m\u001b[0m\u001b[0;34m\u001b[0m\u001b[0;34m\u001b[0m\u001b[0m\n\u001b[1;32m     97\u001b[0m     return nest.map_structure(_non_none_constant_value,\n\u001b[0;32m---> 98\u001b[0;31m                               distributed_function(input_fn))\n\u001b[0m\u001b[1;32m     99\u001b[0m \u001b[0;34m\u001b[0m\u001b[0m\n\u001b[1;32m    100\u001b[0m   \u001b[0;32mreturn\u001b[0m \u001b[0mexecution_function\u001b[0m\u001b[0;34m\u001b[0m\u001b[0;34m\u001b[0m\u001b[0m\n",
      "\u001b[0;32m~/.conda/envs/tensorflow_env/lib/python3.7/site-packages/tensorflow_core/python/eager/def_function.py\u001b[0m in \u001b[0;36m__call__\u001b[0;34m(self, *args, **kwds)\u001b[0m\n\u001b[1;32m    574\u001b[0m         \u001b[0mxla_context\u001b[0m\u001b[0;34m.\u001b[0m\u001b[0mExit\u001b[0m\u001b[0;34m(\u001b[0m\u001b[0;34m)\u001b[0m\u001b[0;34m\u001b[0m\u001b[0;34m\u001b[0m\u001b[0m\n\u001b[1;32m    575\u001b[0m     \u001b[0;32melse\u001b[0m\u001b[0;34m:\u001b[0m\u001b[0;34m\u001b[0m\u001b[0;34m\u001b[0m\u001b[0m\n\u001b[0;32m--> 576\u001b[0;31m       \u001b[0mresult\u001b[0m \u001b[0;34m=\u001b[0m \u001b[0mself\u001b[0m\u001b[0;34m.\u001b[0m\u001b[0m_call\u001b[0m\u001b[0;34m(\u001b[0m\u001b[0;34m*\u001b[0m\u001b[0margs\u001b[0m\u001b[0;34m,\u001b[0m \u001b[0;34m**\u001b[0m\u001b[0mkwds\u001b[0m\u001b[0;34m)\u001b[0m\u001b[0;34m\u001b[0m\u001b[0;34m\u001b[0m\u001b[0m\n\u001b[0m\u001b[1;32m    577\u001b[0m \u001b[0;34m\u001b[0m\u001b[0m\n\u001b[1;32m    578\u001b[0m     \u001b[0;32mif\u001b[0m \u001b[0mtracing_count\u001b[0m \u001b[0;34m==\u001b[0m \u001b[0mself\u001b[0m\u001b[0;34m.\u001b[0m\u001b[0m_get_tracing_count\u001b[0m\u001b[0;34m(\u001b[0m\u001b[0;34m)\u001b[0m\u001b[0;34m:\u001b[0m\u001b[0;34m\u001b[0m\u001b[0;34m\u001b[0m\u001b[0m\n",
      "\u001b[0;32m~/.conda/envs/tensorflow_env/lib/python3.7/site-packages/tensorflow_core/python/eager/def_function.py\u001b[0m in \u001b[0;36m_call\u001b[0;34m(self, *args, **kwds)\u001b[0m\n\u001b[1;32m    638\u001b[0m         \u001b[0;31m# Lifting succeeded, so variables are initialized and we can run the\u001b[0m\u001b[0;34m\u001b[0m\u001b[0;34m\u001b[0m\u001b[0;34m\u001b[0m\u001b[0m\n\u001b[1;32m    639\u001b[0m         \u001b[0;31m# stateless function.\u001b[0m\u001b[0;34m\u001b[0m\u001b[0;34m\u001b[0m\u001b[0;34m\u001b[0m\u001b[0m\n\u001b[0;32m--> 640\u001b[0;31m         \u001b[0;32mreturn\u001b[0m \u001b[0mself\u001b[0m\u001b[0;34m.\u001b[0m\u001b[0m_stateless_fn\u001b[0m\u001b[0;34m(\u001b[0m\u001b[0;34m*\u001b[0m\u001b[0margs\u001b[0m\u001b[0;34m,\u001b[0m \u001b[0;34m**\u001b[0m\u001b[0mkwds\u001b[0m\u001b[0;34m)\u001b[0m\u001b[0;34m\u001b[0m\u001b[0;34m\u001b[0m\u001b[0m\n\u001b[0m\u001b[1;32m    641\u001b[0m     \u001b[0;32melse\u001b[0m\u001b[0;34m:\u001b[0m\u001b[0;34m\u001b[0m\u001b[0;34m\u001b[0m\u001b[0m\n\u001b[1;32m    642\u001b[0m       \u001b[0mcanon_args\u001b[0m\u001b[0;34m,\u001b[0m \u001b[0mcanon_kwds\u001b[0m \u001b[0;34m=\u001b[0m\u001b[0;31m \u001b[0m\u001b[0;31m\\\u001b[0m\u001b[0;34m\u001b[0m\u001b[0;34m\u001b[0m\u001b[0m\n",
      "\u001b[0;32m~/.conda/envs/tensorflow_env/lib/python3.7/site-packages/tensorflow_core/python/eager/function.py\u001b[0m in \u001b[0;36m__call__\u001b[0;34m(self, *args, **kwargs)\u001b[0m\n\u001b[1;32m   2412\u001b[0m     \u001b[0;32mwith\u001b[0m \u001b[0mself\u001b[0m\u001b[0;34m.\u001b[0m\u001b[0m_lock\u001b[0m\u001b[0;34m:\u001b[0m\u001b[0;34m\u001b[0m\u001b[0;34m\u001b[0m\u001b[0m\n\u001b[1;32m   2413\u001b[0m       \u001b[0mgraph_function\u001b[0m\u001b[0;34m,\u001b[0m \u001b[0margs\u001b[0m\u001b[0;34m,\u001b[0m \u001b[0mkwargs\u001b[0m \u001b[0;34m=\u001b[0m \u001b[0mself\u001b[0m\u001b[0;34m.\u001b[0m\u001b[0m_maybe_define_function\u001b[0m\u001b[0;34m(\u001b[0m\u001b[0margs\u001b[0m\u001b[0;34m,\u001b[0m \u001b[0mkwargs\u001b[0m\u001b[0;34m)\u001b[0m\u001b[0;34m\u001b[0m\u001b[0;34m\u001b[0m\u001b[0m\n\u001b[0;32m-> 2414\u001b[0;31m     \u001b[0;32mreturn\u001b[0m \u001b[0mgraph_function\u001b[0m\u001b[0;34m.\u001b[0m\u001b[0m_filtered_call\u001b[0m\u001b[0;34m(\u001b[0m\u001b[0margs\u001b[0m\u001b[0;34m,\u001b[0m \u001b[0mkwargs\u001b[0m\u001b[0;34m)\u001b[0m  \u001b[0;31m# pylint: disable=protected-access\u001b[0m\u001b[0;34m\u001b[0m\u001b[0;34m\u001b[0m\u001b[0m\n\u001b[0m\u001b[1;32m   2415\u001b[0m \u001b[0;34m\u001b[0m\u001b[0m\n\u001b[1;32m   2416\u001b[0m   \u001b[0;34m@\u001b[0m\u001b[0mproperty\u001b[0m\u001b[0;34m\u001b[0m\u001b[0;34m\u001b[0m\u001b[0m\n",
      "\u001b[0;32m~/.conda/envs/tensorflow_env/lib/python3.7/site-packages/tensorflow_core/python/eager/function.py\u001b[0m in \u001b[0;36m_filtered_call\u001b[0;34m(self, args, kwargs)\u001b[0m\n\u001b[1;32m   1658\u001b[0m          if isinstance(t, (ops.Tensor,\n\u001b[1;32m   1659\u001b[0m                            resource_variable_ops.BaseResourceVariable))),\n\u001b[0;32m-> 1660\u001b[0;31m         self.captured_inputs)\n\u001b[0m\u001b[1;32m   1661\u001b[0m \u001b[0;34m\u001b[0m\u001b[0m\n\u001b[1;32m   1662\u001b[0m   \u001b[0;32mdef\u001b[0m \u001b[0m_call_flat\u001b[0m\u001b[0;34m(\u001b[0m\u001b[0mself\u001b[0m\u001b[0;34m,\u001b[0m \u001b[0margs\u001b[0m\u001b[0;34m,\u001b[0m \u001b[0mcaptured_inputs\u001b[0m\u001b[0;34m,\u001b[0m \u001b[0mcancellation_manager\u001b[0m\u001b[0;34m=\u001b[0m\u001b[0;32mNone\u001b[0m\u001b[0;34m)\u001b[0m\u001b[0;34m:\u001b[0m\u001b[0;34m\u001b[0m\u001b[0;34m\u001b[0m\u001b[0m\n",
      "\u001b[0;32m~/.conda/envs/tensorflow_env/lib/python3.7/site-packages/tensorflow_core/python/eager/function.py\u001b[0m in \u001b[0;36m_call_flat\u001b[0;34m(self, args, captured_inputs, cancellation_manager)\u001b[0m\n\u001b[1;32m   1739\u001b[0m       \u001b[0;31m# No tape is watching; skip to running the function.\u001b[0m\u001b[0;34m\u001b[0m\u001b[0;34m\u001b[0m\u001b[0;34m\u001b[0m\u001b[0m\n\u001b[1;32m   1740\u001b[0m       return self._build_call_outputs(self._inference_function.call(\n\u001b[0;32m-> 1741\u001b[0;31m           ctx, args, cancellation_manager=cancellation_manager))\n\u001b[0m\u001b[1;32m   1742\u001b[0m     forward_backward = self._select_forward_and_backward_functions(\n\u001b[1;32m   1743\u001b[0m         \u001b[0margs\u001b[0m\u001b[0;34m,\u001b[0m\u001b[0;34m\u001b[0m\u001b[0;34m\u001b[0m\u001b[0m\n",
      "\u001b[0;32m~/.conda/envs/tensorflow_env/lib/python3.7/site-packages/tensorflow_core/python/eager/function.py\u001b[0m in \u001b[0;36mcall\u001b[0;34m(self, ctx, args, cancellation_manager)\u001b[0m\n\u001b[1;32m    596\u001b[0m               \u001b[0minputs\u001b[0m\u001b[0;34m=\u001b[0m\u001b[0margs\u001b[0m\u001b[0;34m,\u001b[0m\u001b[0;34m\u001b[0m\u001b[0;34m\u001b[0m\u001b[0m\n\u001b[1;32m    597\u001b[0m               \u001b[0mattrs\u001b[0m\u001b[0;34m=\u001b[0m\u001b[0mattrs\u001b[0m\u001b[0;34m,\u001b[0m\u001b[0;34m\u001b[0m\u001b[0;34m\u001b[0m\u001b[0m\n\u001b[0;32m--> 598\u001b[0;31m               ctx=ctx)\n\u001b[0m\u001b[1;32m    599\u001b[0m         \u001b[0;32melse\u001b[0m\u001b[0;34m:\u001b[0m\u001b[0;34m\u001b[0m\u001b[0;34m\u001b[0m\u001b[0m\n\u001b[1;32m    600\u001b[0m           outputs = execute.execute_with_cancellation(\n",
      "\u001b[0;32m~/.conda/envs/tensorflow_env/lib/python3.7/site-packages/tensorflow_core/python/eager/execute.py\u001b[0m in \u001b[0;36mquick_execute\u001b[0;34m(op_name, num_outputs, inputs, attrs, ctx, name)\u001b[0m\n\u001b[1;32m     58\u001b[0m     \u001b[0mctx\u001b[0m\u001b[0;34m.\u001b[0m\u001b[0mensure_initialized\u001b[0m\u001b[0;34m(\u001b[0m\u001b[0;34m)\u001b[0m\u001b[0;34m\u001b[0m\u001b[0;34m\u001b[0m\u001b[0m\n\u001b[1;32m     59\u001b[0m     tensors = pywrap_tfe.TFE_Py_Execute(ctx._handle, device_name, op_name,\n\u001b[0;32m---> 60\u001b[0;31m                                         inputs, attrs, num_outputs)\n\u001b[0m\u001b[1;32m     61\u001b[0m   \u001b[0;32mexcept\u001b[0m \u001b[0mcore\u001b[0m\u001b[0;34m.\u001b[0m\u001b[0m_NotOkStatusException\u001b[0m \u001b[0;32mas\u001b[0m \u001b[0me\u001b[0m\u001b[0;34m:\u001b[0m\u001b[0;34m\u001b[0m\u001b[0;34m\u001b[0m\u001b[0m\n\u001b[1;32m     62\u001b[0m     \u001b[0;32mif\u001b[0m \u001b[0mname\u001b[0m \u001b[0;32mis\u001b[0m \u001b[0;32mnot\u001b[0m \u001b[0;32mNone\u001b[0m\u001b[0;34m:\u001b[0m\u001b[0;34m\u001b[0m\u001b[0;34m\u001b[0m\u001b[0m\n",
      "\u001b[0;31mInvalidArgumentError\u001b[0m:  Incompatible shapes: [20,195,400,1] vs. [20,1]\n\t [[node loss/output_loss/SquaredDifference (defined at <ipython-input-248-ac80ad13c204>:6) ]] [Op:__inference_distributed_function_309698]\n\nFunction call stack:\ndistributed_function\n"
     ]
    }
   ],
   "source": [
    "checkpointer = ModelCheckpoint(filepath=('/home/rjackson/arming_the_edge/models/encoder-decoder/model-z-only-10min-{epoch:03d}.hdf5'),\n",
    "            verbose=1)\n",
    "early_stop = EarlyStopping(patience=10, restore_best_weights=True)\n",
    "reduce_lr = ReduceLROnPlateau(patience=2)\n",
    "model.fit(trainset, epochs=100, callbacks=[checkpointer, reduce_lr, early_stop],\n",
    "          validation_data=testset, validation_steps=100)"
   ]
  },
  {
   "cell_type": "code",
   "execution_count": 200,
   "metadata": {},
   "outputs": [],
   "source": [
    "model = load_model('/home/rjackson/arming_the_edge/models/encoder-decoder/model-snr-6layer-2chan-012.hdf5')"
   ]
  },
  {
   "cell_type": "code",
   "execution_count": 201,
   "metadata": {},
   "outputs": [
    {
     "name": "stdout",
     "output_type": "stream",
     "text": [
      "Model: \"model\"\n",
      "__________________________________________________________________________________________________\n",
      "Layer (type)                    Output Shape         Param #     Connected to                     \n",
      "==================================================================================================\n",
      "input (InputLayer)              [(None, 195, 400, 1) 0                                            \n",
      "__________________________________________________________________________________________________\n",
      "zero_padding2d (ZeroPadding2D)  (None, 256, 448, 1)  0           input[0][0]                      \n",
      "__________________________________________________________________________________________________\n",
      "conv2d (Conv2D)                 (None, 256, 448, 2)  4           zero_padding2d[0][0]             \n",
      "__________________________________________________________________________________________________\n",
      "activation (Activation)         (None, 256, 448, 2)  0           conv2d[0][0]                     \n",
      "__________________________________________________________________________________________________\n",
      "conv2d_1 (Conv2D)               (None, 256, 448, 2)  38          activation[0][0]                 \n",
      "__________________________________________________________________________________________________\n",
      "activation_1 (Activation)       (None, 256, 448, 2)  0           conv2d_1[0][0]                   \n",
      "__________________________________________________________________________________________________\n",
      "conv2d_2 (Conv2D)               (None, 256, 448, 2)  6           activation_1[0][0]               \n",
      "__________________________________________________________________________________________________\n",
      "activation_2 (Activation)       (None, 256, 448, 2)  0           conv2d_2[0][0]                   \n",
      "__________________________________________________________________________________________________\n",
      "max_pooling2d (MaxPooling2D)    (None, 128, 224, 2)  0           activation_2[0][0]               \n",
      "__________________________________________________________________________________________________\n",
      "conv2d_3 (Conv2D)               (None, 128, 224, 4)  12          max_pooling2d[0][0]              \n",
      "__________________________________________________________________________________________________\n",
      "activation_3 (Activation)       (None, 128, 224, 4)  0           conv2d_3[0][0]                   \n",
      "__________________________________________________________________________________________________\n",
      "conv2d_4 (Conv2D)               (None, 128, 224, 4)  148         activation_3[0][0]               \n",
      "__________________________________________________________________________________________________\n",
      "activation_4 (Activation)       (None, 128, 224, 4)  0           conv2d_4[0][0]                   \n",
      "__________________________________________________________________________________________________\n",
      "conv2d_5 (Conv2D)               (None, 128, 224, 4)  20          activation_4[0][0]               \n",
      "__________________________________________________________________________________________________\n",
      "activation_5 (Activation)       (None, 128, 224, 4)  0           conv2d_5[0][0]                   \n",
      "__________________________________________________________________________________________________\n",
      "max_pooling2d_1 (MaxPooling2D)  (None, 64, 112, 4)   0           activation_5[0][0]               \n",
      "__________________________________________________________________________________________________\n",
      "conv2d_6 (Conv2D)               (None, 64, 112, 8)   40          max_pooling2d_1[0][0]            \n",
      "__________________________________________________________________________________________________\n",
      "activation_6 (Activation)       (None, 64, 112, 8)   0           conv2d_6[0][0]                   \n",
      "__________________________________________________________________________________________________\n",
      "conv2d_7 (Conv2D)               (None, 64, 112, 8)   584         activation_6[0][0]               \n",
      "__________________________________________________________________________________________________\n",
      "activation_7 (Activation)       (None, 64, 112, 8)   0           conv2d_7[0][0]                   \n",
      "__________________________________________________________________________________________________\n",
      "conv2d_8 (Conv2D)               (None, 64, 112, 8)   72          activation_7[0][0]               \n",
      "__________________________________________________________________________________________________\n",
      "activation_8 (Activation)       (None, 64, 112, 8)   0           conv2d_8[0][0]                   \n",
      "__________________________________________________________________________________________________\n",
      "max_pooling2d_2 (MaxPooling2D)  (None, 32, 56, 8)    0           activation_8[0][0]               \n",
      "__________________________________________________________________________________________________\n",
      "conv2d_9 (Conv2D)               (None, 32, 56, 16)   144         max_pooling2d_2[0][0]            \n",
      "__________________________________________________________________________________________________\n",
      "activation_9 (Activation)       (None, 32, 56, 16)   0           conv2d_9[0][0]                   \n",
      "__________________________________________________________________________________________________\n",
      "conv2d_10 (Conv2D)              (None, 32, 56, 16)   2320        activation_9[0][0]               \n",
      "__________________________________________________________________________________________________\n",
      "activation_10 (Activation)      (None, 32, 56, 16)   0           conv2d_10[0][0]                  \n",
      "__________________________________________________________________________________________________\n",
      "conv2d_11 (Conv2D)              (None, 32, 56, 16)   272         activation_10[0][0]              \n",
      "__________________________________________________________________________________________________\n",
      "activation_11 (Activation)      (None, 32, 56, 16)   0           conv2d_11[0][0]                  \n",
      "__________________________________________________________________________________________________\n",
      "max_pooling2d_3 (MaxPooling2D)  (None, 16, 28, 16)   0           activation_11[0][0]              \n",
      "__________________________________________________________________________________________________\n",
      "conv2d_12 (Conv2D)              (None, 16, 28, 32)   544         max_pooling2d_3[0][0]            \n",
      "__________________________________________________________________________________________________\n",
      "activation_12 (Activation)      (None, 16, 28, 32)   0           conv2d_12[0][0]                  \n",
      "__________________________________________________________________________________________________\n",
      "conv2d_13 (Conv2D)              (None, 16, 28, 32)   9248        activation_12[0][0]              \n",
      "__________________________________________________________________________________________________\n",
      "activation_13 (Activation)      (None, 16, 28, 32)   0           conv2d_13[0][0]                  \n",
      "__________________________________________________________________________________________________\n",
      "conv2d_14 (Conv2D)              (None, 16, 28, 32)   1056        activation_13[0][0]              \n",
      "__________________________________________________________________________________________________\n",
      "activation_14 (Activation)      (None, 16, 28, 32)   0           conv2d_14[0][0]                  \n",
      "__________________________________________________________________________________________________\n",
      "max_pooling2d_4 (MaxPooling2D)  (None, 8, 14, 32)    0           activation_14[0][0]              \n",
      "__________________________________________________________________________________________________\n",
      "conv2d_15 (Conv2D)              (None, 8, 14, 64)    2112        max_pooling2d_4[0][0]            \n",
      "__________________________________________________________________________________________________\n",
      "activation_15 (Activation)      (None, 8, 14, 64)    0           conv2d_15[0][0]                  \n",
      "__________________________________________________________________________________________________\n",
      "conv2d_16 (Conv2D)              (None, 8, 14, 64)    36928       activation_15[0][0]              \n",
      "__________________________________________________________________________________________________\n",
      "activation_16 (Activation)      (None, 8, 14, 64)    0           conv2d_16[0][0]                  \n",
      "__________________________________________________________________________________________________\n",
      "conv2d_17 (Conv2D)              (None, 8, 14, 64)    4160        activation_16[0][0]              \n",
      "__________________________________________________________________________________________________\n",
      "activation_17 (Activation)      (None, 8, 14, 64)    0           conv2d_17[0][0]                  \n",
      "__________________________________________________________________________________________________\n",
      "max_pooling2d_5 (MaxPooling2D)  (None, 4, 7, 64)     0           activation_17[0][0]              \n",
      "__________________________________________________________________________________________________\n",
      "conv2d_18 (Conv2D)              (None, 4, 7, 128)    8320        max_pooling2d_5[0][0]            \n",
      "__________________________________________________________________________________________________\n",
      "activation_18 (Activation)      (None, 4, 7, 128)    0           conv2d_18[0][0]                  \n",
      "__________________________________________________________________________________________________\n",
      "conv2d_19 (Conv2D)              (None, 4, 7, 128)    147584      activation_18[0][0]              \n",
      "__________________________________________________________________________________________________\n",
      "activation_19 (Activation)      (None, 4, 7, 128)    0           conv2d_19[0][0]                  \n",
      "__________________________________________________________________________________________________\n",
      "conv2d_20 (Conv2D)              (None, 4, 7, 128)    16512       activation_19[0][0]              \n",
      "__________________________________________________________________________________________________\n",
      "activation_20 (Activation)      (None, 4, 7, 128)    0           conv2d_20[0][0]                  \n",
      "__________________________________________________________________________________________________\n",
      "up_sampling2d (UpSampling2D)    (None, 8, 14, 128)   0           activation_20[0][0]              \n",
      "__________________________________________________________________________________________________\n",
      "conv2d_21 (Conv2D)              (None, 8, 14, 64)    8256        up_sampling2d[0][0]              \n",
      "__________________________________________________________________________________________________\n",
      "activation_21 (Activation)      (None, 8, 14, 64)    0           conv2d_21[0][0]                  \n",
      "__________________________________________________________________________________________________\n",
      "conv2d_22 (Conv2D)              (None, 8, 14, 64)    36928       activation_21[0][0]              \n",
      "__________________________________________________________________________________________________\n",
      "activation_22 (Activation)      (None, 8, 14, 64)    0           conv2d_22[0][0]                  \n",
      "__________________________________________________________________________________________________\n",
      "conv2d_23 (Conv2D)              (None, 8, 14, 64)    4160        activation_22[0][0]              \n",
      "__________________________________________________________________________________________________\n",
      "cropping2d (Cropping2D)         (None, 8, 14, 64)    0           conv2d_17[0][0]                  \n",
      "__________________________________________________________________________________________________\n",
      "add (Add)                       (None, 8, 14, 64)    0           conv2d_23[0][0]                  \n",
      "                                                                 cropping2d[0][0]                 \n",
      "__________________________________________________________________________________________________\n",
      "activation_23 (Activation)      (None, 8, 14, 64)    0           add[0][0]                        \n",
      "__________________________________________________________________________________________________\n",
      "up_sampling2d_1 (UpSampling2D)  (None, 16, 28, 64)   0           activation_23[0][0]              \n",
      "__________________________________________________________________________________________________\n",
      "conv2d_24 (Conv2D)              (None, 16, 28, 32)   2080        up_sampling2d_1[0][0]            \n",
      "__________________________________________________________________________________________________\n",
      "activation_24 (Activation)      (None, 16, 28, 32)   0           conv2d_24[0][0]                  \n",
      "__________________________________________________________________________________________________\n",
      "conv2d_25 (Conv2D)              (None, 16, 28, 32)   9248        activation_24[0][0]              \n",
      "__________________________________________________________________________________________________\n",
      "activation_25 (Activation)      (None, 16, 28, 32)   0           conv2d_25[0][0]                  \n",
      "__________________________________________________________________________________________________\n",
      "conv2d_26 (Conv2D)              (None, 16, 28, 32)   1056        activation_25[0][0]              \n",
      "__________________________________________________________________________________________________\n",
      "cropping2d_1 (Cropping2D)       (None, 16, 28, 32)   0           conv2d_14[0][0]                  \n",
      "__________________________________________________________________________________________________\n",
      "add_1 (Add)                     (None, 16, 28, 32)   0           conv2d_26[0][0]                  \n",
      "                                                                 cropping2d_1[0][0]               \n",
      "__________________________________________________________________________________________________\n",
      "activation_26 (Activation)      (None, 16, 28, 32)   0           add_1[0][0]                      \n",
      "__________________________________________________________________________________________________\n",
      "up_sampling2d_2 (UpSampling2D)  (None, 32, 56, 32)   0           activation_26[0][0]              \n",
      "__________________________________________________________________________________________________\n",
      "conv2d_27 (Conv2D)              (None, 32, 56, 16)   528         up_sampling2d_2[0][0]            \n",
      "__________________________________________________________________________________________________\n",
      "activation_27 (Activation)      (None, 32, 56, 16)   0           conv2d_27[0][0]                  \n",
      "__________________________________________________________________________________________________\n",
      "conv2d_28 (Conv2D)              (None, 32, 56, 16)   2320        activation_27[0][0]              \n",
      "__________________________________________________________________________________________________\n",
      "activation_28 (Activation)      (None, 32, 56, 16)   0           conv2d_28[0][0]                  \n",
      "__________________________________________________________________________________________________\n",
      "conv2d_29 (Conv2D)              (None, 32, 56, 16)   272         activation_28[0][0]              \n",
      "__________________________________________________________________________________________________\n",
      "cropping2d_2 (Cropping2D)       (None, 32, 56, 16)   0           conv2d_11[0][0]                  \n",
      "__________________________________________________________________________________________________\n",
      "add_2 (Add)                     (None, 32, 56, 16)   0           conv2d_29[0][0]                  \n",
      "                                                                 cropping2d_2[0][0]               \n",
      "__________________________________________________________________________________________________\n",
      "activation_29 (Activation)      (None, 32, 56, 16)   0           add_2[0][0]                      \n",
      "__________________________________________________________________________________________________\n",
      "up_sampling2d_3 (UpSampling2D)  (None, 64, 112, 16)  0           activation_29[0][0]              \n",
      "__________________________________________________________________________________________________\n",
      "conv2d_30 (Conv2D)              (None, 64, 112, 8)   136         up_sampling2d_3[0][0]            \n",
      "__________________________________________________________________________________________________\n",
      "activation_30 (Activation)      (None, 64, 112, 8)   0           conv2d_30[0][0]                  \n",
      "__________________________________________________________________________________________________\n",
      "conv2d_31 (Conv2D)              (None, 64, 112, 8)   584         activation_30[0][0]              \n",
      "__________________________________________________________________________________________________\n",
      "activation_31 (Activation)      (None, 64, 112, 8)   0           conv2d_31[0][0]                  \n",
      "__________________________________________________________________________________________________\n",
      "conv2d_32 (Conv2D)              (None, 64, 112, 8)   72          activation_31[0][0]              \n",
      "__________________________________________________________________________________________________\n",
      "cropping2d_3 (Cropping2D)       (None, 64, 112, 8)   0           conv2d_8[0][0]                   \n",
      "__________________________________________________________________________________________________\n",
      "add_3 (Add)                     (None, 64, 112, 8)   0           conv2d_32[0][0]                  \n",
      "                                                                 cropping2d_3[0][0]               \n",
      "__________________________________________________________________________________________________\n",
      "activation_32 (Activation)      (None, 64, 112, 8)   0           add_3[0][0]                      \n",
      "__________________________________________________________________________________________________\n",
      "up_sampling2d_4 (UpSampling2D)  (None, 128, 224, 8)  0           activation_32[0][0]              \n",
      "__________________________________________________________________________________________________\n",
      "conv2d_33 (Conv2D)              (None, 128, 224, 4)  36          up_sampling2d_4[0][0]            \n",
      "__________________________________________________________________________________________________\n",
      "activation_33 (Activation)      (None, 128, 224, 4)  0           conv2d_33[0][0]                  \n",
      "__________________________________________________________________________________________________\n",
      "conv2d_34 (Conv2D)              (None, 128, 224, 4)  148         activation_33[0][0]              \n",
      "__________________________________________________________________________________________________\n",
      "activation_34 (Activation)      (None, 128, 224, 4)  0           conv2d_34[0][0]                  \n",
      "__________________________________________________________________________________________________\n",
      "conv2d_35 (Conv2D)              (None, 128, 224, 4)  20          activation_34[0][0]              \n",
      "__________________________________________________________________________________________________\n",
      "cropping2d_4 (Cropping2D)       (None, 128, 224, 4)  0           conv2d_5[0][0]                   \n",
      "__________________________________________________________________________________________________\n",
      "add_4 (Add)                     (None, 128, 224, 4)  0           conv2d_35[0][0]                  \n",
      "                                                                 cropping2d_4[0][0]               \n",
      "__________________________________________________________________________________________________\n",
      "activation_35 (Activation)      (None, 128, 224, 4)  0           add_4[0][0]                      \n",
      "__________________________________________________________________________________________________\n",
      "up_sampling2d_5 (UpSampling2D)  (None, 256, 448, 4)  0           activation_35[0][0]              \n",
      "__________________________________________________________________________________________________\n",
      "cropping2d_5 (Cropping2D)       (None, 195, 400, 4)  0           up_sampling2d_5[0][0]            \n",
      "__________________________________________________________________________________________________\n",
      "output (Conv2D)                 (None, 195, 400, 1)  37          cropping2d_5[0][0]               \n",
      "==================================================================================================\n",
      "Total params: 296,005\n",
      "Trainable params: 296,005\n",
      "Non-trainable params: 0\n",
      "__________________________________________________________________________________________________\n"
     ]
    }
   ],
   "source": [
    "model.summary()"
   ]
  },
  {
   "cell_type": "code",
   "execution_count": 202,
   "metadata": {},
   "outputs": [
    {
     "name": "stdout",
     "output_type": "stream",
     "text": [
      "80/80 [==============================] - 16s 205ms/step - loss: 0.0012\n"
     ]
    },
    {
     "data": {
      "text/plain": [
       "0.0012113660827708372"
      ]
     },
     "execution_count": 202,
     "metadata": {},
     "output_type": "execute_result"
    }
   ],
   "source": [
    "model.evaluate(testset, steps=80)"
   ]
  },
  {
   "cell_type": "code",
   "execution_count": 203,
   "metadata": {},
   "outputs": [
    {
     "name": "stdout",
     "output_type": "stream",
     "text": [
      "WARNING:tensorflow:Your input ran out of data; interrupting training. Make sure that your dataset or generator can generate at least `steps_per_epoch * epochs` batches (in this case, 10 batches). You may need to use the repeat() function when building your dataset.\n"
     ]
    },
    {
     "name": "stderr",
     "output_type": "stream",
     "text": [
      "WARNING:tensorflow:Your input ran out of data; interrupting training. Make sure that your dataset or generator can generate at least `steps_per_epoch * epochs` batches (in this case, 10 batches). You may need to use the repeat() function when building your dataset.\n"
     ]
    }
   ],
   "source": [
    "my_set = testset.take(1)\n",
    "predicted_set = model.predict(my_set, steps=10)\n",
    "observed_set = [x[0]['input'].numpy() for x in my_set][0]\n",
    "#predicted_set = np.ma.masked_where(predicted_set == 0, predicted_set)\n",
    "#observed_set = np.ma.masked_where(observed_set == 0, observed_set)"
   ]
  },
  {
   "cell_type": "code",
   "execution_count": 176,
   "metadata": {},
   "outputs": [
    {
     "ename": "AttributeError",
     "evalue": "'Model' object has no attribute 'validation_loss'",
     "output_type": "error",
     "traceback": [
      "\u001b[0;31m---------------------------------------------------------------------------\u001b[0m",
      "\u001b[0;31mAttributeError\u001b[0m                            Traceback (most recent call last)",
      "\u001b[0;32m<ipython-input-176-52052c072271>\u001b[0m in \u001b[0;36m<module>\u001b[0;34m\u001b[0m\n\u001b[0;32m----> 1\u001b[0;31m \u001b[0mmodel\u001b[0m\u001b[0;34m.\u001b[0m\u001b[0mvalidation_loss\u001b[0m\u001b[0;34m\u001b[0m\u001b[0;34m\u001b[0m\u001b[0m\n\u001b[0m",
      "\u001b[0;31mAttributeError\u001b[0m: 'Model' object has no attribute 'validation_loss'"
     ]
    }
   ],
   "source": [
    "model.validation_loss"
   ]
  },
  {
   "cell_type": "code",
   "execution_count": 215,
   "metadata": {},
   "outputs": [
    {
     "data": {
      "text/plain": [
       "<matplotlib.colorbar.Colorbar at 0x7ff8a2dc9d50>"
      ]
     },
     "execution_count": 215,
     "metadata": {},
     "output_type": "execute_result"
    },
    {
     "data": {
      "image/png": "[encoded data removed]",
      "text/plain": [
       "<Figure size 864x360 with 3 Axes>"
      ]
     },
     "metadata": {
      "needs_background": "light"
     },
     "output_type": "display_data"
    }
   ],
   "source": [
    "fig, ax = plt.subplots(1, 2, figsize=(12,5))\n",
    "ax[0].imshow(predicted_set[9,:,:,0].T, vmin=0, vmax=1)\n",
    "ax[0].set_title('Predicted image from encodings')\n",
    "c = ax[1].imshow(observed_set[9,:,:,0].T, vmin=0, vmax=1)\n",
    "ax[1].set_title('Actual SNR image from lidar')\n",
    "plt.colorbar(c, ax=ax[1], label='Normalized SNR')"
   ]
  },
  {
   "cell_type": "code",
   "execution_count": 179,
   "metadata": {},
   "outputs": [
    {
     "data": {
      "text/plain": [
       "<matplotlib.image.AxesImage at 0x7ff8e3899110>"
      ]
     },
     "execution_count": 179,
     "metadata": {},
     "output_type": "execute_result"
    },
    {
     "data": {
      "image/png": "[encoded data removed]",
      "text/plain": [
       "<Figure size 720x432 with 1 Axes>"
      ]
     },
     "metadata": {
      "needs_background": "light"
     },
     "output_type": "display_data"
    }
   ],
   "source": [
    "plt.figure(figsize=(10,6))\n",
    "plt.imshow(observed_set[12,:,:,0].T, vmin=0, vmax=1)"
   ]
  },
  {
   "cell_type": "code",
   "execution_count": 53,
   "metadata": {},
   "outputs": [
    {
     "data": {
      "text/plain": [
       "array([[0.18414336, 0.05784798, 0.05158192, ..., 0.04642639, 0.050753  ,\n",
       "        0.12982398],\n",
       "       [0.08962706, 0.0191319 , 0.01661184, ..., 0.01514262, 0.01693615,\n",
       "        0.10374683],\n",
       "       [0.08008274, 0.01580891, 0.01367441, ..., 0.01226014, 0.01369983,\n",
       "        0.09470752],\n",
       "       ...,\n",
       "       [0.06935835, 0.0131906 , 0.01120579, ..., 0.00982255, 0.01086599,\n",
       "        0.08800167],\n",
       "       [0.06981632, 0.01332211, 0.0112935 , ..., 0.00989696, 0.01097006,\n",
       "        0.08866358],\n",
       "       [0.1263856 , 0.05585331, 0.05092207, ..., 0.04989919, 0.05286768,\n",
       "        0.29370615]], dtype=float32)"
      ]
     },
     "execution_count": 53,
     "metadata": {},
     "output_type": "execute_result"
    }
   ],
   "source": [
    "predicted_set[12,:,:,0]"
   ]
  },
  {
   "cell_type": "code",
   "execution_count": 20,
   "metadata": {},
   "outputs": [
    {
     "name": "stdout",
     "output_type": "stream",
     "text": [
      "Model: \"model\"\n",
      "_________________________________________________________________\n",
      "Layer (type)                 Output Shape              Param #   \n",
      "=================================================================\n",
      "input_1 (InputLayer)         [(None, None, None, 1)]   0         \n",
      "_________________________________________________________________\n",
      "zero_padding2d (ZeroPadding2 (None, None, None, 1)     0         \n",
      "_________________________________________________________________\n",
      "conv2d (Conv2D)              (None, None, None, 16)    160       \n",
      "_________________________________________________________________\n",
      "max_pooling2d (MaxPooling2D) (None, None, None, 16)    0         \n",
      "_________________________________________________________________\n",
      "conv2d_1 (Conv2D)            (None, None, None, 8)     1160      \n",
      "_________________________________________________________________\n",
      "max_pooling2d_1 (MaxPooling2 (None, None, None, 8)     0         \n",
      "_________________________________________________________________\n",
      "conv2d_2 (Conv2D)            (None, None, None, 8)     584       \n",
      "_________________________________________________________________\n",
      "max_pooling2d_2 (MaxPooling2 (None, None, None, 8)     0         \n",
      "_________________________________________________________________\n",
      "conv2d_3 (Conv2D)            (None, None, None, 8)     584       \n",
      "_________________________________________________________________\n",
      "up_sampling2d (UpSampling2D) (None, None, None, 8)     0         \n",
      "_________________________________________________________________\n",
      "conv2d_4 (Conv2D)            (None, None, None, 8)     584       \n",
      "_________________________________________________________________\n",
      "up_sampling2d_1 (UpSampling2 (None, None, None, 8)     0         \n",
      "_________________________________________________________________\n",
      "conv2d_5 (Conv2D)            (None, None, None, 16)    1168      \n",
      "_________________________________________________________________\n",
      "up_sampling2d_2 (UpSampling2 (None, None, None, 16)    0         \n",
      "_________________________________________________________________\n",
      "cropping2d (Cropping2D)      (None, None, None, 16)    0         \n",
      "_________________________________________________________________\n",
      "conv2d_6 (Conv2D)            (None, None, None, 1)     145       \n",
      "=================================================================\n",
      "Total params: 4,385\n",
      "Trainable params: 4,385\n",
      "Non-trainable params: 0\n",
      "_________________________________________________________________\n"
     ]
    }
   ],
   "source": [
    "model.summary()"
   ]
  },
  {
   "cell_type": "code",
   "execution_count": 167,
   "metadata": {},
   "outputs": [
    {
     "name": "stdout",
     "output_type": "stream",
     "text": [
      "INFO:tensorflow:Assets written to: encoder_ref.hdf/assets\n"
     ]
    }
   ],
   "source": [
    "encoder_model.load_weights('/home/rjackson/arming_the_edge/models/encoder-decoder/model-z-only-5min-100.hdf5',\n",
    "                           by_name=True)   \n",
    "encoder_model.compile(optimizer='adam', loss='mean_squared_error')\n",
    "encoder_model.save('encoder_ref.hdf')"
   ]
  },
  {
   "cell_type": "code",
   "execution_count": 206,
   "metadata": {},
   "outputs": [
    {
     "data": {
      "text/plain": [
       "<tensorflow.python.keras.engine.input_layer.InputLayer at 0x7f2565993850>"
      ]
     },
     "execution_count": 206,
     "metadata": {},
     "output_type": "execute_result"
    }
   ],
   "source": [
    "encoder_model.layers[0]"
   ]
  },
  {
   "cell_type": "code",
   "execution_count": 168,
   "metadata": {},
   "outputs": [
    {
     "name": "stdout",
     "output_type": "stream",
     "text": [
      "Model: \"model_1\"\n",
      "_________________________________________________________________\n",
      "Layer (type)                 Output Shape              Param #   \n",
      "=================================================================\n",
      "input_1 (InputLayer)         [(None, None, None, 1)]   0         \n",
      "_________________________________________________________________\n",
      "zero_padding2d (ZeroPadding2 (None, None, None, 1)     0         \n",
      "_________________________________________________________________\n",
      "conv2d (Conv2D)              (None, None, None, 16)    160       \n",
      "_________________________________________________________________\n",
      "max_pooling2d (MaxPooling2D) (None, None, None, 16)    0         \n",
      "_________________________________________________________________\n",
      "conv2d_1 (Conv2D)            (None, None, None, 8)     1160      \n",
      "_________________________________________________________________\n",
      "max_pooling2d_1 (MaxPooling2 (None, None, None, 8)     0         \n",
      "_________________________________________________________________\n",
      "conv2d_2 (Conv2D)            (None, None, None, 8)     584       \n",
      "_________________________________________________________________\n",
      "max_pooling2d_2 (MaxPooling2 (None, None, None, 8)     0         \n",
      "=================================================================\n",
      "Total params: 1,904\n",
      "Trainable params: 1,904\n",
      "Non-trainable params: 0\n",
      "_________________________________________________________________\n"
     ]
    }
   ],
   "source": [
    "encoder_model.summary()"
   ]
  },
  {
   "cell_type": "code",
   "execution_count": 169,
   "metadata": {},
   "outputs": [],
   "source": [
    "num_batches = 150\n",
    "testset_batch = testset.take(150)\n",
    "trainset_batch = trainset.take(150)\n",
    "test_arrays = [x[0][\"input_1\"].numpy() for x in testset_batch]\n",
    "train_arrays = [x[0][\"input_1\"].numpy() for x in trainset_batch]\n",
    "test_times = np.stack([pd.to_datetime(x[0][\"start_time\"].numpy()) for x in testset_batch])\n",
    "train_times = np.stack([pd.to_datetime(x[0][\"start_time\"].numpy()) for x in trainset_batch])"
   ]
  },
  {
   "cell_type": "code",
   "execution_count": 173,
   "metadata": {},
   "outputs": [
    {
     "name": "stderr",
     "output_type": "stream",
     "text": [
      "/home/rjackson/.conda/envs/tensorflow_env/lib/python3.7/site-packages/ipykernel_launcher.py:22: DeprecationWarning: parsing timezone aware datetimes is deprecated; this will raise an error in the future\n"
     ]
    }
   ],
   "source": [
    "test_labels = np.array([get_label(dt64_to_dt(x)) for x in test_times.flatten()])\n",
    "train_labels = np.array([get_label(dt64_to_dt(x)) for x in train_times.flatten()])"
   ]
  },
  {
   "cell_type": "code",
   "execution_count": 32,
   "metadata": {},
   "outputs": [
    {
     "data": {
      "text/plain": [
       "(3000,)"
      ]
     },
     "execution_count": 32,
     "metadata": {},
     "output_type": "execute_result"
    }
   ],
   "source": [
    "test_labels.shape"
   ]
  },
  {
   "cell_type": "code",
   "execution_count": 170,
   "metadata": {},
   "outputs": [],
   "source": [
    "encoded_data_test = [encoder_model.predict(x) for x in test_arrays]\n",
    "encoded_data_train = [encoder_model.predict(x) for x in train_arrays]\n",
    "my_shp = encoded_data_train[0].shape"
   ]
  },
  {
   "cell_type": "code",
   "execution_count": 171,
   "metadata": {},
   "outputs": [],
   "source": [
    "encoded_data_test = np.stack([x.reshape((my_shp[0], np.prod(my_shp[1:]))) for x in encoded_data_test])\n",
    "encoded_data_train = np.stack([x.reshape((my_shp[0], np.prod(my_shp[1:]))) for x in encoded_data_train])\n",
    "my_new_shape = encoded_data_test.shape\n",
    "encoded_data_test = encoded_data_test.reshape((my_new_shape[0]*my_new_shape[1], my_new_shape[2]))\n",
    "encoded_data_train = encoded_data_train.reshape((my_new_shape[0]*my_new_shape[1], my_new_shape[2]))"
   ]
  },
  {
   "cell_type": "code",
   "execution_count": 38,
   "metadata": {},
   "outputs": [
    {
     "data": {
      "text/plain": [
       "(3000, 10000)"
      ]
     },
     "execution_count": 38,
     "metadata": {},
     "output_type": "execute_result"
    }
   ],
   "source": [
    "encoded_data_train.shape"
   ]
  },
  {
   "cell_type": "markdown",
   "metadata": {},
   "source": [
    "## Train GBM with with hyperparameter optimization"
   ]
  },
  {
   "cell_type": "code",
   "execution_count": 41,
   "metadata": {},
   "outputs": [],
   "source": [
    "from hyperopt import hp, tpe, fmin, Trials, rand\n",
    "my_space = {'max_depth': hp.randint('max_depth', 10),\n",
    "            'learning_rate': hp.loguniform('learning_rate', np.log(0.01), np.log(0.2)),\n",
    "            'n_estimators': hp.uniform('n_estimators', 50, 200)}\n",
    "\n",
    "\n",
    "N_FOLDS = 10\n",
    "def objective(params, n_folds = N_FOLDS):\n",
    "    \"\"\"Objective function for Gradient Boosting Machine Hyperparameter Tuning\"\"\"\n",
    "    train_set = xgb.DMatrix(encoded_data_train, label=train_labels)\n",
    "    # Perform n_fold cross validation with hyperparameters\n",
    "    # Use early stopping and evalute based on ROC AUC\n",
    "    cv_results = xgb.cv(params, train_set, nfold = n_folds, num_boost_round = 10000, \n",
    "                        early_stopping_rounds = 100, metrics = 'auc', seed = 50)\n",
    "   \n",
    "    print(cv_results)\n",
    "    # Extract the best score\n",
    "    best_score = max(cv_results['test-auc-mean'])\n",
    "    \n",
    "    # Loss must be minimized\n",
    "    loss = 1 - best_score\n",
    "    \n",
    "    # Dictionary with information for evaluation\n",
    "    return {'loss': loss, 'params': params, 'status': STATUS_OK}"
   ]
  },
  {
   "cell_type": "code",
   "execution_count": 129,
   "metadata": {},
   "outputs": [],
   "source": [
    "bayes_trials = Trials()"
   ]
  },
  {
   "cell_type": "code",
   "execution_count": 174,
   "metadata": {},
   "outputs": [],
   "source": [
    "where_nan = np.isnan(train_labels)\n",
    "encoded_data_train = encoded_data_train[~where_nan, :]\n",
    "train_labels = train_labels[~where_nan]\n",
    "where_nan_test = np.isnan(test_labels)\n",
    "encoded_data_test = encoded_data_test[~where_nan_test, :]\n",
    "test_labels = test_labels[~where_nan_test]"
   ]
  },
  {
   "cell_type": "code",
   "execution_count": 153,
   "metadata": {},
   "outputs": [
    {
     "data": {
      "text/plain": [
       "(2816, 4624)"
      ]
     },
     "execution_count": 153,
     "metadata": {},
     "output_type": "execute_result"
    }
   ],
   "source": [
    "encoded_data_train.shape"
   ]
  },
  {
   "cell_type": "code",
   "execution_count": 49,
   "metadata": {},
   "outputs": [],
   "source": [
    "from sklearn.model_selection import GridSearchCV\n",
    "my_classifier = XGBClassifier(n_jobs=8, max_depth=5)\n",
    "\n",
    "#my_classifier.fit(encoded_data_train, train_labels, verbose=True)"
   ]
  },
  {
   "cell_type": "code",
   "execution_count": 175,
   "metadata": {},
   "outputs": [
    {
     "data": {
      "text/plain": [
       "XGBClassifier(base_score=0.5, booster='gbtree', colsample_bylevel=1,\n",
       "              colsample_bynode=1, colsample_bytree=1, gamma=0,\n",
       "              learning_rate=0.01, max_delta_step=0, max_depth=17,\n",
       "              min_child_weight=1, missing=None, n_estimators=700, n_jobs=8,\n",
       "              nthread=None, objective='multi:softprob', random_state=0,\n",
       "              reg_alpha=0, reg_lambda=1, scale_pos_weight=1, seed=None,\n",
       "              silent=None, subsample=1, verbosity=1)"
      ]
     },
     "execution_count": 175,
     "metadata": {},
     "output_type": "execute_result"
    }
   ],
   "source": [
    "my_classifier = XGBClassifier(n_jobs=8, learning_rate=0.01, max_depth=17, n_estimators=700)\n",
    "my_classifier.fit(encoded_data_train, train_labels, verbose=True)"
   ]
  },
  {
   "cell_type": "code",
   "execution_count": 176,
   "metadata": {},
   "outputs": [],
   "source": [
    "labels_predict_test = my_classifier.predict(encoded_data_test)\n",
    "labels_predict_train = my_classifier.predict(encoded_data_train)"
   ]
  },
  {
   "cell_type": "code",
   "execution_count": 177,
   "metadata": {},
   "outputs": [
    {
     "name": "stdout",
     "output_type": "stream",
     "text": [
      "Percent correct in testing set: 88.73\n",
      "Percent correct in training set: 100.00\n"
     ]
    }
   ],
   "source": [
    "num_correct = len(np.where(test_labels - labels_predict_test == 0)[0])\n",
    "total = len(test_labels)\n",
    "print(\"Percent correct in testing set: %3.2f\" % (num_correct/total * 100))\n",
    "num_correct = len(np.where(train_labels - labels_predict_train == 0)[0])\n",
    "total = len(train_labels)\n",
    "print(\"Percent correct in training set: %3.2f\" % (num_correct/total * 100))"
   ]
  },
  {
   "cell_type": "code",
   "execution_count": 203,
   "metadata": {},
   "outputs": [
    {
     "name": "stdout",
     "output_type": "stream",
     "text": [
      "Percent correct in testing set when clear: 92.99\n",
      "Percent correct in training set when clear: 100.00\n",
      "Percent falsely identified as cloudy: 6.93\n",
      "Percent falsely indentifed as rain: 0.12\n"
     ]
    }
   ],
   "source": [
    "num_correct = len(np.where(np.logical_and(test_labels == 0, labels_predict_test == 0))[0])\n",
    "total = len(np.where(test_labels == 0)[0])\n",
    "print(\"Percent correct in testing set when clear: %3.2f\" % (num_correct/total * 100))\n",
    "num_correct = len(np.where(np.logical_and(train_labels == 0, labels_predict_train == 0))[0])\n",
    "total = len(np.where(train_labels == 0)[0])\n",
    "print(\"Percent correct in training set when clear: %3.2f\" % (num_correct/total * 100))\n",
    "num_incorrect = len(np.where(np.logical_and(test_labels == 0, labels_predict_test == 1))[0])\n",
    "print(\"Percent falsely identified as cloudy: %3.2f\" % (num_incorrect/total * 100))\n",
    "num_incorrect = len(np.where(np.logical_and(test_labels == 0, labels_predict_test == 2))[0])\n",
    "print(\"Percent falsely indentifed as rain: %3.2f\" % (num_incorrect/total * 100))"
   ]
  },
  {
   "cell_type": "code",
   "execution_count": 201,
   "metadata": {},
   "outputs": [
    {
     "name": "stdout",
     "output_type": "stream",
     "text": [
      "Percent correct in testing set when cloudy: 91.54\n",
      "Percent correct in training set when cloudy: 100.00\n",
      "Percent falsely identified as clear: 6.56\n",
      "Percent falsely indentifed as rain: 1.90\n"
     ]
    }
   ],
   "source": [
    "num_correct = len(np.where(np.logical_and(test_labels == 1, labels_predict_test == 1))[0])\n",
    "total = len(np.where(test_labels == 1)[0])\n",
    "print(\"Percent correct in testing set when cloudy: %3.2f\" % (num_correct/total * 100))\n",
    "num_correct = len(np.where(np.logical_and(train_labels == 1, labels_predict_train == 1))[0])\n",
    "total = len(np.where(train_labels == 1)[0])\n",
    "print(\"Percent correct in training set when cloudy: %3.2f\" % (num_correct/total * 100))\n",
    "num_incorrect = len(np.where(np.logical_and(test_labels == 1, labels_predict_test == 0))[0])\n",
    "print(\"Percent falsely identified as clear: %3.2f\" % (num_incorrect/total * 100))\n",
    "num_incorrect = len(np.where(np.logical_and(test_labels == 1, labels_predict_test == 2))[0])\n",
    "print(\"Percent falsely indentifed as rain: %3.2f\" % (num_incorrect/total * 100))"
   ]
  },
  {
   "cell_type": "code",
   "execution_count": 204,
   "metadata": {},
   "outputs": [
    {
     "name": "stdout",
     "output_type": "stream",
     "text": [
      "Percent correct in testing set when rainy: 26.88\n",
      "Percent correct in training set when rainy: 100.00\n",
      "Percent falsely identified as clear: 27.32\n",
      "Percent falsely identified as cloudy: 36.61\n"
     ]
    }
   ],
   "source": [
    "num_correct = len(np.where(np.logical_and(test_labels == 2, labels_predict_test == 2))[0])\n",
    "total = len(np.where(test_labels == 2)[0])\n",
    "print(\"Percent correct in testing set when rainy: %3.2f\" % (num_correct/total * 100))\n",
    "num_correct = len(np.where(np.logical_and(train_labels == 2, labels_predict_train == 2))[0])\n",
    "total = len(np.where(train_labels == 2)[0])\n",
    "print(\"Percent correct in training set when rainy: %3.2f\" % (num_correct/total * 100))\n",
    "num_incorrect = len(np.where(np.logical_and(test_labels == 2, labels_predict_test == 0))[0])\n",
    "print(\"Percent falsely identified as clear: %3.2f\" % (num_incorrect/total * 100))\n",
    "num_incorrect = len(np.where(np.logical_and(test_labels == 2, labels_predict_test == 1))[0])\n",
    "print(\"Percent falsely identified as cloudy: %3.2f\" % (num_incorrect/total * 100))"
   ]
  },
  {
   "cell_type": "code",
   "execution_count": 158,
   "metadata": {},
   "outputs": [],
   "source": [
    "from dask_cuda import LocalCUDACluster\n",
    "from dask.distributed import Client\n",
    "#from xgboost.dask import DaskDMatrix\n",
    "import xgboost as xgb"
   ]
  },
  {
   "cell_type": "code",
   "execution_count": 57,
   "metadata": {},
   "outputs": [],
   "source": [
    "client = Client(cluster)"
   ]
  },
  {
   "cell_type": "code",
   "execution_count": 58,
   "metadata": {},
   "outputs": [
    {
     "data": {
      "text/html": [
       "<table style=\"border: 2px solid white;\">\n",
       "<tr>\n",
       "<td style=\"vertical-align: top; border: 0px solid white\">\n",
       "<h3 style=\"text-align: left;\">Client</h3>\n",
       "<ul style=\"text-align: left; list-style: none; margin: 0; padding: 0;\">\n",
       "  <li><b>Scheduler: </b>tcp://127.0.0.1:32983</li>\n",
       "</ul>\n",
       "</td>\n",
       "<td style=\"vertical-align: top; border: 0px solid white\">\n",
       "<h3 style=\"text-align: left;\">Cluster</h3>\n",
       "<ul style=\"text-align: left; list-style:none; margin: 0; padding: 0;\">\n",
       "  <li><b>Workers: </b>1</li>\n",
       "  <li><b>Cores: </b>1</li>\n",
       "  <li><b>Memory: </b>67.47 GB</li>\n",
       "</ul>\n",
       "</td>\n",
       "</tr>\n",
       "</table>"
      ],
      "text/plain": [
       "<Client: 'tcp://127.0.0.1:32983' processes=1 threads=1, memory=67.47 GB>"
      ]
     },
     "execution_count": 58,
     "metadata": {},
     "output_type": "execute_result"
    }
   ],
   "source": [
    "client"
   ]
  },
  {
   "cell_type": "markdown",
   "metadata": {},
   "source": [
    "## View hyperparameter optimization statistics"
   ]
  },
  {
   "cell_type": "code",
   "execution_count": 180,
   "metadata": {},
   "outputs": [],
   "source": [
    "hyperparameter_csv = pd.read_csv('hyperparameter_opt.csv')"
   ]
  },
  {
   "cell_type": "code",
   "execution_count": 181,
   "metadata": {},
   "outputs": [
    {
     "data": {
      "text/html": [
       "<div>\n",
       "<style scoped>\n",
       "    .dataframe tbody tr th:only-of-type {\n",
       "        vertical-align: middle;\n",
       "    }\n",
       "\n",
       "    .dataframe tbody tr th {\n",
       "        vertical-align: top;\n",
       "    }\n",
       "\n",
       "    .dataframe thead th {\n",
       "        text-align: right;\n",
       "    }\n",
       "</style>\n",
       "<table border=\"1\" class=\"dataframe\">\n",
       "  <thead>\n",
       "    <tr style=\"text-align: right;\">\n",
       "      <th></th>\n",
       "      <th>Unnamed: 0</th>\n",
       "      <th>params</th>\n",
       "      <th>mean_fit_time</th>\n",
       "      <th>std_fit_time</th>\n",
       "      <th>mean_score_time</th>\n",
       "      <th>std_score_time</th>\n",
       "      <th>split0_test_score</th>\n",
       "      <th>split1_test_score</th>\n",
       "      <th>split2_test_score</th>\n",
       "      <th>mean_test_score</th>\n",
       "      <th>std_test_score</th>\n",
       "      <th>rank_test_score</th>\n",
       "      <th>param_learning_rate</th>\n",
       "      <th>param_max_depth</th>\n",
       "      <th>param_n_estimators</th>\n",
       "    </tr>\n",
       "  </thead>\n",
       "  <tbody>\n",
       "    <tr>\n",
       "      <th>0</th>\n",
       "      <td>0</td>\n",
       "      <td>{'learning_rate': 0.01, 'max_depth': 3, 'n_est...</td>\n",
       "      <td>175.277152</td>\n",
       "      <td>3.834706</td>\n",
       "      <td>0.248725</td>\n",
       "      <td>0.006368</td>\n",
       "      <td>0.702875</td>\n",
       "      <td>0.660277</td>\n",
       "      <td>0.729211</td>\n",
       "      <td>0.697443</td>\n",
       "      <td>0.028401</td>\n",
       "      <td>646</td>\n",
       "      <td>0.01</td>\n",
       "      <td>3</td>\n",
       "      <td>50</td>\n",
       "    </tr>\n",
       "    <tr>\n",
       "      <th>1</th>\n",
       "      <td>1</td>\n",
       "      <td>{'learning_rate': 0.01, 'max_depth': 3, 'n_est...</td>\n",
       "      <td>351.185097</td>\n",
       "      <td>6.910159</td>\n",
       "      <td>0.299968</td>\n",
       "      <td>0.043147</td>\n",
       "      <td>0.723110</td>\n",
       "      <td>0.685836</td>\n",
       "      <td>0.731343</td>\n",
       "      <td>0.713423</td>\n",
       "      <td>0.019800</td>\n",
       "      <td>644</td>\n",
       "      <td>0.01</td>\n",
       "      <td>3</td>\n",
       "      <td>100</td>\n",
       "    </tr>\n",
       "    <tr>\n",
       "      <th>2</th>\n",
       "      <td>2</td>\n",
       "      <td>{'learning_rate': 0.01, 'max_depth': 3, 'n_est...</td>\n",
       "      <td>514.511451</td>\n",
       "      <td>17.086525</td>\n",
       "      <td>0.272727</td>\n",
       "      <td>0.023360</td>\n",
       "      <td>0.729499</td>\n",
       "      <td>0.700745</td>\n",
       "      <td>0.739872</td>\n",
       "      <td>0.723366</td>\n",
       "      <td>0.016551</td>\n",
       "      <td>643</td>\n",
       "      <td>0.01</td>\n",
       "      <td>3</td>\n",
       "      <td>150</td>\n",
       "    </tr>\n",
       "    <tr>\n",
       "      <th>3</th>\n",
       "      <td>3</td>\n",
       "      <td>{'learning_rate': 0.01, 'max_depth': 3, 'n_est...</td>\n",
       "      <td>658.587984</td>\n",
       "      <td>56.850901</td>\n",
       "      <td>0.315595</td>\n",
       "      <td>0.044961</td>\n",
       "      <td>0.744409</td>\n",
       "      <td>0.712460</td>\n",
       "      <td>0.756930</td>\n",
       "      <td>0.737926</td>\n",
       "      <td>0.018723</td>\n",
       "      <td>640</td>\n",
       "      <td>0.01</td>\n",
       "      <td>3</td>\n",
       "      <td>200</td>\n",
       "    </tr>\n",
       "    <tr>\n",
       "      <th>4</th>\n",
       "      <td>4</td>\n",
       "      <td>{'learning_rate': 0.01, 'max_depth': 3, 'n_est...</td>\n",
       "      <td>886.797135</td>\n",
       "      <td>8.119693</td>\n",
       "      <td>0.313909</td>\n",
       "      <td>0.053668</td>\n",
       "      <td>0.755059</td>\n",
       "      <td>0.729499</td>\n",
       "      <td>0.764392</td>\n",
       "      <td>0.749645</td>\n",
       "      <td>0.014749</td>\n",
       "      <td>636</td>\n",
       "      <td>0.01</td>\n",
       "      <td>3</td>\n",
       "      <td>250</td>\n",
       "    </tr>\n",
       "    <tr>\n",
       "      <th>...</th>\n",
       "      <td>...</td>\n",
       "      <td>...</td>\n",
       "      <td>...</td>\n",
       "      <td>...</td>\n",
       "      <td>...</td>\n",
       "      <td>...</td>\n",
       "      <td>...</td>\n",
       "      <td>...</td>\n",
       "      <td>...</td>\n",
       "      <td>...</td>\n",
       "      <td>...</td>\n",
       "      <td>...</td>\n",
       "      <td>...</td>\n",
       "      <td>...</td>\n",
       "      <td>...</td>\n",
       "    </tr>\n",
       "    <tr>\n",
       "      <th>641</th>\n",
       "      <td>641</td>\n",
       "      <td>{'learning_rate': 0.11, 'max_depth': 19, 'n_es...</td>\n",
       "      <td>2235.972820</td>\n",
       "      <td>28.902699</td>\n",
       "      <td>0.368198</td>\n",
       "      <td>0.077634</td>\n",
       "      <td>0.775293</td>\n",
       "      <td>0.745474</td>\n",
       "      <td>0.835821</td>\n",
       "      <td>0.785511</td>\n",
       "      <td>0.037582</td>\n",
       "      <td>278</td>\n",
       "      <td>0.11</td>\n",
       "      <td>19</td>\n",
       "      <td>750</td>\n",
       "    </tr>\n",
       "    <tr>\n",
       "      <th>642</th>\n",
       "      <td>642</td>\n",
       "      <td>{'learning_rate': 0.11, 'max_depth': 19, 'n_es...</td>\n",
       "      <td>2117.436320</td>\n",
       "      <td>155.179386</td>\n",
       "      <td>0.243385</td>\n",
       "      <td>0.006220</td>\n",
       "      <td>0.773163</td>\n",
       "      <td>0.745474</td>\n",
       "      <td>0.835821</td>\n",
       "      <td>0.784801</td>\n",
       "      <td>0.037788</td>\n",
       "      <td>291</td>\n",
       "      <td>0.11</td>\n",
       "      <td>19</td>\n",
       "      <td>800</td>\n",
       "    </tr>\n",
       "    <tr>\n",
       "      <th>643</th>\n",
       "      <td>643</td>\n",
       "      <td>{'learning_rate': 0.11, 'max_depth': 19, 'n_es...</td>\n",
       "      <td>1992.186106</td>\n",
       "      <td>451.065457</td>\n",
       "      <td>0.232251</td>\n",
       "      <td>0.121593</td>\n",
       "      <td>0.772098</td>\n",
       "      <td>0.745474</td>\n",
       "      <td>0.836887</td>\n",
       "      <td>0.784801</td>\n",
       "      <td>0.038382</td>\n",
       "      <td>291</td>\n",
       "      <td>0.11</td>\n",
       "      <td>19</td>\n",
       "      <td>850</td>\n",
       "    </tr>\n",
       "    <tr>\n",
       "      <th>644</th>\n",
       "      <td>644</td>\n",
       "      <td>{'learning_rate': 0.11, 'max_depth': 19, 'n_es...</td>\n",
       "      <td>2117.707810</td>\n",
       "      <td>150.885272</td>\n",
       "      <td>0.184989</td>\n",
       "      <td>0.041544</td>\n",
       "      <td>0.772098</td>\n",
       "      <td>0.745474</td>\n",
       "      <td>0.836887</td>\n",
       "      <td>0.784801</td>\n",
       "      <td>0.038382</td>\n",
       "      <td>291</td>\n",
       "      <td>0.11</td>\n",
       "      <td>19</td>\n",
       "      <td>900</td>\n",
       "    </tr>\n",
       "    <tr>\n",
       "      <th>645</th>\n",
       "      <td>645</td>\n",
       "      <td>{'learning_rate': 0.11, 'max_depth': 19, 'n_es...</td>\n",
       "      <td>1739.155695</td>\n",
       "      <td>218.316952</td>\n",
       "      <td>0.176537</td>\n",
       "      <td>0.040209</td>\n",
       "      <td>0.772098</td>\n",
       "      <td>0.745474</td>\n",
       "      <td>0.835821</td>\n",
       "      <td>0.784446</td>\n",
       "      <td>0.037901</td>\n",
       "      <td>303</td>\n",
       "      <td>0.11</td>\n",
       "      <td>19</td>\n",
       "      <td>950</td>\n",
       "    </tr>\n",
       "  </tbody>\n",
       "</table>\n",
       "<p>646 rows × 15 columns</p>\n",
       "</div>"
      ],
      "text/plain": [
       "     Unnamed: 0                                             params  \\\n",
       "0             0  {'learning_rate': 0.01, 'max_depth': 3, 'n_est...   \n",
       "1             1  {'learning_rate': 0.01, 'max_depth': 3, 'n_est...   \n",
       "2             2  {'learning_rate': 0.01, 'max_depth': 3, 'n_est...   \n",
       "3             3  {'learning_rate': 0.01, 'max_depth': 3, 'n_est...   \n",
       "4             4  {'learning_rate': 0.01, 'max_depth': 3, 'n_est...   \n",
       "..          ...                                                ...   \n",
       "641         641  {'learning_rate': 0.11, 'max_depth': 19, 'n_es...   \n",
       "642         642  {'learning_rate': 0.11, 'max_depth': 19, 'n_es...   \n",
       "643         643  {'learning_rate': 0.11, 'max_depth': 19, 'n_es...   \n",
       "644         644  {'learning_rate': 0.11, 'max_depth': 19, 'n_es...   \n",
       "645         645  {'learning_rate': 0.11, 'max_depth': 19, 'n_es...   \n",
       "\n",
       "     mean_fit_time  std_fit_time  mean_score_time  std_score_time  \\\n",
       "0       175.277152      3.834706         0.248725        0.006368   \n",
       "1       351.185097      6.910159         0.299968        0.043147   \n",
       "2       514.511451     17.086525         0.272727        0.023360   \n",
       "3       658.587984     56.850901         0.315595        0.044961   \n",
       "4       886.797135      8.119693         0.313909        0.053668   \n",
       "..             ...           ...              ...             ...   \n",
       "641    2235.972820     28.902699         0.368198        0.077634   \n",
       "642    2117.436320    155.179386         0.243385        0.006220   \n",
       "643    1992.186106    451.065457         0.232251        0.121593   \n",
       "644    2117.707810    150.885272         0.184989        0.041544   \n",
       "645    1739.155695    218.316952         0.176537        0.040209   \n",
       "\n",
       "     split0_test_score  split1_test_score  split2_test_score  mean_test_score  \\\n",
       "0             0.702875           0.660277           0.729211         0.697443   \n",
       "1             0.723110           0.685836           0.731343         0.713423   \n",
       "2             0.729499           0.700745           0.739872         0.723366   \n",
       "3             0.744409           0.712460           0.756930         0.737926   \n",
       "4             0.755059           0.729499           0.764392         0.749645   \n",
       "..                 ...                ...                ...              ...   \n",
       "641           0.775293           0.745474           0.835821         0.785511   \n",
       "642           0.773163           0.745474           0.835821         0.784801   \n",
       "643           0.772098           0.745474           0.836887         0.784801   \n",
       "644           0.772098           0.745474           0.836887         0.784801   \n",
       "645           0.772098           0.745474           0.835821         0.784446   \n",
       "\n",
       "     std_test_score  rank_test_score  param_learning_rate  param_max_depth  \\\n",
       "0          0.028401              646                 0.01                3   \n",
       "1          0.019800              644                 0.01                3   \n",
       "2          0.016551              643                 0.01                3   \n",
       "3          0.018723              640                 0.01                3   \n",
       "4          0.014749              636                 0.01                3   \n",
       "..              ...              ...                  ...              ...   \n",
       "641        0.037582              278                 0.11               19   \n",
       "642        0.037788              291                 0.11               19   \n",
       "643        0.038382              291                 0.11               19   \n",
       "644        0.038382              291                 0.11               19   \n",
       "645        0.037901              303                 0.11               19   \n",
       "\n",
       "     param_n_estimators  \n",
       "0                    50  \n",
       "1                   100  \n",
       "2                   150  \n",
       "3                   200  \n",
       "4                   250  \n",
       "..                  ...  \n",
       "641                 750  \n",
       "642                 800  \n",
       "643                 850  \n",
       "644                 900  \n",
       "645                 950  \n",
       "\n",
       "[646 rows x 15 columns]"
      ]
     },
     "execution_count": 181,
     "metadata": {},
     "output_type": "execute_result"
    }
   ],
   "source": [
    "hyperparameter_csv"
   ]
  },
  {
   "cell_type": "code",
   "execution_count": 188,
   "metadata": {},
   "outputs": [
    {
     "data": {
      "text/plain": [
       "<matplotlib.collections.PathCollection at 0x7f5ae3e61210>"
      ]
     },
     "execution_count": 188,
     "metadata": {},
     "output_type": "execute_result"
    },
    {
     "data": {
      "image/png": "[encoded data removed]",
      "text/plain": [
       "<Figure size 432x288 with 1 Axes>"
      ]
     },
     "metadata": {
      "needs_background": "light"
     },
     "output_type": "display_data"
    }
   ],
   "source": [
    "plt.scatter(hyperparameter_csv.param_learning_rate, hyperparameter_csv.mean_test_score)"
   ]
  },
  {
   "cell_type": "code",
   "execution_count": 186,
   "metadata": {},
   "outputs": [
    {
     "data": {
      "text/plain": [
       "<matplotlib.collections.PathCollection at 0x7f5ae3ef6650>"
      ]
     },
     "execution_count": 186,
     "metadata": {},
     "output_type": "execute_result"
    },
    {
     "data": {
      "image/png": "[encoded data removed]",
      "text/plain": [
       "<Figure size 432x288 with 1 Axes>"
      ]
     },
     "metadata": {
      "needs_background": "light"
     },
     "output_type": "display_data"
    }
   ],
   "source": [
    "plt.scatter(hyperparameter_csv.param_max_depth, hyperparameter_csv.mean_test_score)"
   ]
  },
  {
   "cell_type": "code",
   "execution_count": 187,
   "metadata": {},
   "outputs": [
    {
     "data": {
      "text/plain": [
       "<matplotlib.collections.PathCollection at 0x7f5ae3ef6390>"
      ]
     },
     "execution_count": 187,
     "metadata": {},
     "output_type": "execute_result"
    },
    {
     "data": {
      "image/png": "[encoded data removed]",
      "text/plain": [
       "<Figure size 432x288 with 1 Axes>"
      ]
     },
     "metadata": {
      "needs_background": "light"
     },
     "output_type": "display_data"
    }
   ],
   "source": [
    "plt.scatter(hyperparameter_csv.param_n_estimators, hyperparameter_csv.mean_test_score)"
   ]
  },
  {
   "cell_type": "code",
   "execution_count": null,
   "metadata": {},
   "outputs": [],
   "source": []
  }
 ],
 "metadata": {
  "kernelspec": {
   "display_name": "Python 3",
   "language": "python",
   "name": "python3"
  },
  "language_info": {
   "codemirror_mode": {
    "name": "ipython",
    "version": 3
   },
   "file_extension": ".py",
   "mimetype": "text/x-python",
   "name": "python",
   "nbconvert_exporter": "python",
   "pygments_lexer": "ipython3",
   "version": "3.7.10"
  }
 },
 "nbformat": 4,
 "nbformat_minor": 2
}
