{
 "cells": [
  {
   "cell_type": "code",
   "execution_count": null,
   "metadata": {},
   "outputs": [],
   "source": [
    "## Image classification"
   ]
  },
  {
   "cell_type": "code",
   "execution_count": 85,
   "metadata": {},
   "outputs": [
    {
     "name": "stdout",
     "output_type": "stream",
     "text": [
      "Populating the interactive namespace from numpy and matplotlib\n"
     ]
    },
    {
     "name": "stderr",
     "output_type": "stream",
     "text": [
      "/home/rjackson/.conda/envs/tensorflow_env/lib/python3.7/site-packages/IPython/core/magics/pylab.py:160: UserWarning: pylab import has clobbered these variables: ['fmin', 'datetime']\n",
      "`%matplotlib` prevents importing * from pylab and numpy\n",
      "  \"\\n`%matplotlib` prevents importing * from pylab and numpy\"\n"
     ]
    }
   ],
   "source": [
    "import pandas as pd\n",
    "import xarray as xr\n",
    "import tensorflow as tf\n",
    "from datetime import datetime\n",
    "from glob import glob\n",
    "from sklearn.model_selection import train_test_split\n",
    "from tensorflow.keras.layers import Input, Dense, Conv2D, Conv2DTranspose\n",
    "from tensorflow.keras.layers import Cropping2D, MaxPooling2D, UpSampling2D, ZeroPadding2D, GlobalMaxPooling2D\n",
    "from tensorflow.keras.models import Model, load_model, Sequential\n",
    "from tensorflow.keras.utils import Sequence, to_categorical\n",
    "from tensorflow.keras.callbacks import ModelCheckpoint, EarlyStopping, ReduceLROnPlateau\n",
    "from xgboost import XGBClassifier\n",
    "import xgboost as xgb\n",
    "import hyperopt as hp\n",
    "\n",
    "%pylab inline"
   ]
  },
  {
   "cell_type": "code",
   "execution_count": 3,
   "metadata": {},
   "outputs": [
    {
     "data": {
      "text/html": [
       "<div>\n",
       "<style scoped>\n",
       "    .dataframe tbody tr th:only-of-type {\n",
       "        vertical-align: middle;\n",
       "    }\n",
       "\n",
       "    .dataframe tbody tr th {\n",
       "        vertical-align: top;\n",
       "    }\n",
       "\n",
       "    .dataframe thead th {\n",
       "        text-align: right;\n",
       "    }\n",
       "</style>\n",
       "<table border=\"1\" class=\"dataframe\">\n",
       "  <thead>\n",
       "    <tr style=\"text-align: right;\">\n",
       "      <th></th>\n",
       "      <th>Date</th>\n",
       "      <th>Time</th>\n",
       "      <th>Label</th>\n",
       "    </tr>\n",
       "  </thead>\n",
       "  <tbody>\n",
       "    <tr>\n",
       "      <th>0</th>\n",
       "      <td>2017-06-30</td>\n",
       "      <td>2011-2016</td>\n",
       "      <td>cloudy</td>\n",
       "    </tr>\n",
       "    <tr>\n",
       "      <th>1</th>\n",
       "      <td>2017-07-31</td>\n",
       "      <td>1745-1746</td>\n",
       "      <td>clear</td>\n",
       "    </tr>\n",
       "    <tr>\n",
       "      <th>2</th>\n",
       "      <td>2017-07-31</td>\n",
       "      <td>1746-0000</td>\n",
       "      <td>cloudy</td>\n",
       "    </tr>\n",
       "    <tr>\n",
       "      <th>3</th>\n",
       "      <td>2017-08-01</td>\n",
       "      <td>0000-0314</td>\n",
       "      <td>cloudy</td>\n",
       "    </tr>\n",
       "    <tr>\n",
       "      <th>4</th>\n",
       "      <td>2017-08-01</td>\n",
       "      <td>0314-0330</td>\n",
       "      <td>rain</td>\n",
       "    </tr>\n",
       "    <tr>\n",
       "      <th>...</th>\n",
       "      <td>...</td>\n",
       "      <td>...</td>\n",
       "      <td>...</td>\n",
       "    </tr>\n",
       "    <tr>\n",
       "      <th>2153</th>\n",
       "      <td>2017-09-30</td>\n",
       "      <td>2332-2334</td>\n",
       "      <td>clear</td>\n",
       "    </tr>\n",
       "    <tr>\n",
       "      <th>2154</th>\n",
       "      <td>2017-09-30</td>\n",
       "      <td>2334-2340</td>\n",
       "      <td>cloudy</td>\n",
       "    </tr>\n",
       "    <tr>\n",
       "      <th>2155</th>\n",
       "      <td>2017-09-30</td>\n",
       "      <td>2340-2342</td>\n",
       "      <td>clear</td>\n",
       "    </tr>\n",
       "    <tr>\n",
       "      <th>2156</th>\n",
       "      <td>2017-09-30</td>\n",
       "      <td>2342-2358</td>\n",
       "      <td>cloudy</td>\n",
       "    </tr>\n",
       "    <tr>\n",
       "      <th>2157</th>\n",
       "      <td>2017-09-30</td>\n",
       "      <td>2358-2359</td>\n",
       "      <td>clear</td>\n",
       "    </tr>\n",
       "  </tbody>\n",
       "</table>\n",
       "<p>2158 rows × 3 columns</p>\n",
       "</div>"
      ],
      "text/plain": [
       "            Date       Time   Label\n",
       "0     2017-06-30  2011-2016  cloudy\n",
       "1     2017-07-31  1745-1746   clear\n",
       "2     2017-07-31  1746-0000  cloudy\n",
       "3     2017-08-01  0000-0314  cloudy\n",
       "4     2017-08-01  0314-0330    rain\n",
       "...          ...        ...     ...\n",
       "2153  2017-09-30  2332-2334   clear\n",
       "2154  2017-09-30  2334-2340  cloudy\n",
       "2155  2017-09-30  2340-2342   clear\n",
       "2156  2017-09-30  2342-2358  cloudy\n",
       "2157  2017-09-30  2358-2359   clear\n",
       "\n",
       "[2158 rows x 3 columns]"
      ]
     },
     "execution_count": 3,
     "metadata": {},
     "output_type": "execute_result"
    }
   ],
   "source": [
    "label_df = pd.read_csv('lidar_labels.csv')\n",
    "label_df"
   ]
  },
  {
   "cell_type": "code",
   "execution_count": 14,
   "metadata": {},
   "outputs": [],
   "source": [
    "date_list = np.array([datetime.datetime.strptime(x, '%Y-%m-%d').date() for x in label_df[\"Date\"].values])\n",
    "start_time_list = np.array([datetime.datetime.strptime(x[0:4], '%H%M').time() for x in label_df[\"Time\"].values])\n",
    "end_time_list = np.array([datetime.datetime.strptime(x[5:], '%H%M').time() for x in label_df[\"Time\"].values])\n",
    "\n",
    "def get_label(dt):\n",
    "    label_ind = np.where(np.logical_and.reduce(\n",
    "        (date_list == dt.date(), start_time_list <= dt.time(), end_time_list > dt.time())))\n",
    "    if not label_ind[0].size:\n",
    "        return np.nan\n",
    "    my_string = label_df[\"Label\"].values[label_ind][0]\n",
    "        \n",
    "    if my_string.lower() == 'clear':\n",
    "        return 0\n",
    "    elif my_string.lower() == 'cloudy' or my_string.lower() == \"cloud\":\n",
    "        return 1\n",
    "    elif my_string.lower() == 'rain':\n",
    "        return 2\n",
    "    \n",
    "    raise ValueError(\"Invalid value %s for label\" % my_string)\n",
    "    \n",
    "def dt64_to_dt(dt):\n",
    "    ts = (dt - np.datetime64('1970-01-01T00:00:00Z')) / np.timedelta64(1, 's')\n",
    "    return datetime.datetime.utcfromtimestamp(ts)"
   ]
  },
  {
   "cell_type": "code",
   "execution_count": null,
   "metadata": {},
   "outputs": [],
   "source": [
    "plt.plot(date_list)"
   ]
  },
  {
   "cell_type": "code",
   "execution_count": null,
   "metadata": {},
   "outputs": [],
   "source": [
    "start_time_list = [datetime.datetime.strptime(x[0:4], '%H%M').time() for x in label_df[\"Time\"].values]\n",
    "end_time_list = [datetime.datetime.strptime(x[5:], '%H%M').time() for x in label_df[\"Time\"].values]"
   ]
  },
  {
   "cell_type": "code",
   "execution_count": null,
   "metadata": {},
   "outputs": [],
   "source": [
    "start_time_list"
   ]
  },
  {
   "cell_type": "code",
   "execution_count": null,
   "metadata": {},
   "outputs": [],
   "source": [
    "get_label(datetime.datetime(2017,8,2,3,41))"
   ]
  },
  {
   "cell_type": "code",
   "execution_count": null,
   "metadata": {},
   "outputs": [],
   "source": [
    "file_list = glob(\"/run/user/7920/gvfs/sftp:host=bebop.lcrc.anl.gov/lcrc/group/earthscience/rjackson/sgp_lidar/processed_moments/sgpdlacfC1.a1.*moments.nc\")"
   ]
  },
  {
   "cell_type": "code",
   "execution_count": null,
   "metadata": {},
   "outputs": [],
   "source": [
    "my_ds = xr.open_mfdataset(\"/run/user/7920/gvfs/sftp:host=bebop.lcrc.anl.gov/lcrc/group/earthscience/rjackson/sgp_lidar/processed_moments/sgpdlacfC1.a1.20170818*moments.nc\")"
   ]
  },
  {
   "cell_type": "code",
   "execution_count": null,
   "metadata": {},
   "outputs": [],
   "source": [
    "my_ds"
   ]
  },
  {
   "cell_type": "code",
   "execution_count": null,
   "metadata": {},
   "outputs": [],
   "source": [
    "dts = np.array([dt64_to_dt(x) for x in my_ds.time.values])"
   ]
  },
  {
   "cell_type": "code",
   "execution_count": null,
   "metadata": {},
   "outputs": [],
   "source": [
    "my_ds.snr.max().values"
   ]
  },
  {
   "cell_type": "code",
   "execution_count": null,
   "metadata": {},
   "outputs": [],
   "source": [
    "my_ds.snr.isel(time=0).values"
   ]
  },
  {
   "cell_type": "markdown",
   "metadata": {},
   "source": [
    "## Encoder for lidar data"
   ]
  },
  {
   "cell_type": "code",
   "execution_count": 4,
   "metadata": {},
   "outputs": [],
   "source": [
    "tfrecords_path = '/nfs/gce/projects/digr/lidar_tfrecords/5min/*.tfrecord'\n",
    "is_training = True\n",
    "shuffle = False\n",
    "my_shape = ()\n",
    "def input_fn():\n",
    "    def parse_record(record):\n",
    "        feature={'width': tf.io.FixedLenFeature([], tf.int64, default_value=0),\n",
    "                 'height': tf.io.FixedLenFeature([], tf.int64, default_value=0),\n",
    "                 'image_raw': tf.io.FixedLenFeature([], tf.string, default_value=\"\"),\n",
    "                 'start_time': tf.io.FixedLenFeature([], tf.float32, default_value=0),\n",
    "                 'end_time': tf.io.FixedLenFeature([], tf.float32, default_value=0)\n",
    "                 }\n",
    "        features = tf.io.parse_single_example(record, feature)\n",
    "        my_shape = (features['width'], features['height'], 1)\n",
    "        features['image_raw'] = tf.io.decode_raw(features['image_raw'], tf.float64)\n",
    "\n",
    "        features['image_raw'] = tf.reshape(features['image_raw'], shape=list(my_shape))\n",
    "             \n",
    "        return {'input_1': features['image_raw'], 'width': features['width'], 'height': features['height'],\n",
    "                'conv2d_6': features['image_raw'], 'start_time': features['start_time'],\n",
    "                'end_time': features['end_time']}\n",
    "\n",
    "    file_list = sorted(glob(tfrecords_path))\n",
    "    dataset = tf.data.TFRecordDataset(file_list)\n",
    "\n",
    "    if is_training:\n",
    "        if shuffle:\n",
    "            dataset = dataset.shuffle()\n",
    "        else:\n",
    "            dataset = dataset.repeat()\n",
    "\n",
    "    dataset = dataset.map(parse_record)\n",
    "    dataset = dataset.batch(20)\n",
    "    dataset = tf.data.Dataset.zip((dataset, dataset))\n",
    "    \n",
    "    return dataset\n",
    "\n",
    "def _int64_feature(value):\n",
    "    \"\"\"Creates a tf.Train.Feature from an int64 value.\"\"\"\n",
    "    if value is None:\n",
    "        value = []\n",
    "    if not isinstance(value, list):\n",
    "        value = [value]\n",
    "    return tf.train.Feature(int64_list=tf.train.Int64List(value=value))\n",
    "\n",
    "\n",
    "def _bytes_feature(value):\n",
    "    \"\"\"Creates a tf.Train.Feature from a bytes value.\"\"\"\n",
    "    if value is None:\n",
    "        value = []\n",
    "    if isinstance(value, np.ndarray):\n",
    "        value = value.reshape(-1)\n",
    "        value = bytes(value)\n",
    "    if not isinstance(value, list):\n",
    "        value = [value]\n",
    "    return tf.train.Feature(bytes_list=tf.train.BytesList(value=value))\n",
    "\n",
    "def _float_feature(value):\n",
    "    \"\"\"Creates a tf.Train.Feature from a bytes value.\"\"\"\n",
    "    if value is None:\n",
    "        value = []\n",
    "    if isinstance(value, np.ndarray):\n",
    "        value = value.reshape(-1)\n",
    "        value = bytes(value)\n",
    "    if not isinstance(value, list):\n",
    "        value = [value]\n",
    "    return tf.train.Feature(float_list=tf.train.FloatList(value=value))"
   ]
  },
  {
   "cell_type": "code",
   "execution_count": 5,
   "metadata": {},
   "outputs": [],
   "source": [
    "dataset = input_fn()"
   ]
  },
  {
   "cell_type": "code",
   "execution_count": 6,
   "metadata": {},
   "outputs": [],
   "source": [
    "trainset = dataset.shard(2, 0)\n",
    "testset = dataset.shard(2, 1)"
   ]
  },
  {
   "cell_type": "code",
   "execution_count": 7,
   "metadata": {},
   "outputs": [],
   "source": [
    "x = [x for x in trainset.take(1)]"
   ]
  },
  {
   "cell_type": "code",
   "execution_count": 8,
   "metadata": {},
   "outputs": [
    {
     "data": {
      "text/plain": [
       "(20,)"
      ]
     },
     "execution_count": 8,
     "metadata": {},
     "output_type": "execute_result"
    }
   ],
   "source": [
    "times = x[0][0][\"start_time\"]\n",
    "labels = np.array([get_label(y) for y in pd.to_datetime(times.numpy())])\n",
    "labels.shape"
   ]
  },
  {
   "cell_type": "code",
   "execution_count": 8,
   "metadata": {},
   "outputs": [],
   "source": [
    "inp = Input(shape=(None, None, 1))\n",
    "pad_x = np.ceil(x[0][0]['width'].numpy()[0] / 8) * 8 - x[0][0]['width'].numpy()[0]\n",
    "pad_y = np.ceil(x[0][0]['height'].numpy()[0] / 8) * 8 - x[0][0]['height'].numpy()[0]\n",
    "x = ZeroPadding2D(((0, int(pad_x)), (0, int(pad_y))))(inp)\n",
    "x = Conv2D(16, kernel_size=(3, 3), padding='same', activation='relu')(x)\n",
    "x = MaxPooling2D((2, 2), padding='same')(x)\n",
    "x = Conv2D(8, kernel_size=(3, 3), padding='same', activation='relu')(x)\n",
    "x = MaxPooling2D((2, 2), padding='same')(x)\n",
    "x = Conv2D(8, kernel_size=(3, 3), padding='same', activation='relu')(x)\n",
    "\n",
    "encoded = MaxPooling2D((3, 3), padding='same')(x)\n",
    "\n",
    "x = Conv2D(8, kernel_size=(3, 3), activation='relu', padding='same')(encoded)\n",
    "x = UpSampling2D((2, 2))(x)\n",
    "x = Conv2D(8, kernel_size=(3, 3), activation='relu', padding='same')(x)\n",
    "x = UpSampling2D((2, 2))(x)\n",
    "x = Conv2D(16, kernel_size=(3, 3), activation='relu', padding='same')(x)\n",
    "x = UpSampling2D((2, 2))(x)\n",
    "x = Cropping2D(((0, int(pad_x)), (0, int(pad_y))))(x)\n",
    "decoded = Conv2D(1, kernel_size=(3, 3), activation='relu', padding='same')(x)"
   ]
  },
  {
   "cell_type": "code",
   "execution_count": null,
   "metadata": {},
   "outputs": [],
   "source": [
    "trainset"
   ]
  },
  {
   "cell_type": "code",
   "execution_count": null,
   "metadata": {},
   "outputs": [],
   "source": [
    "my_shape"
   ]
  },
  {
   "cell_type": "code",
   "execution_count": 10,
   "metadata": {},
   "outputs": [],
   "source": [
    "model = Model(inp, decoded)\n",
    "model.compile(optimizer='adam', loss='mean_squared_error')"
   ]
  },
  {
   "cell_type": "code",
   "execution_count": 11,
   "metadata": {},
   "outputs": [
    {
     "name": "stdout",
     "output_type": "stream",
     "text": [
      "Train for 100 steps, validate for 20 steps\n",
      "Epoch 1/100\n",
      " 99/100 [============================>.] - ETA: 0s - loss: 0.0018\n",
      "Epoch 00001: saving model to /home/rjackson/arming_the_edge/models/encoder-decoder/model-4layers-z-only-5min-001.hdf5\n",
      "100/100 [==============================] - 48s 476ms/step - loss: 0.0018 - val_loss: 0.0015\n",
      "Epoch 2/100\n",
      " 99/100 [============================>.] - ETA: 0s - loss: 7.1189e-04\n",
      "Epoch 00002: saving model to /home/rjackson/arming_the_edge/models/encoder-decoder/model-4layers-z-only-5min-002.hdf5\n",
      "100/100 [==============================] - 47s 470ms/step - loss: 7.0969e-04 - val_loss: 0.0014\n",
      "Epoch 3/100\n",
      " 99/100 [============================>.] - ETA: 0s - loss: 2.8299e-04\n",
      "Epoch 00003: saving model to /home/rjackson/arming_the_edge/models/encoder-decoder/model-4layers-z-only-5min-003.hdf5\n",
      "100/100 [==============================] - 48s 482ms/step - loss: 2.8308e-04 - val_loss: 0.0014\n",
      "Epoch 4/100\n",
      " 99/100 [============================>.] - ETA: 0s - loss: 7.7951e-04\n",
      "Epoch 00004: saving model to /home/rjackson/arming_the_edge/models/encoder-decoder/model-4layers-z-only-5min-004.hdf5\n",
      "100/100 [==============================] - 50s 501ms/step - loss: 8.0434e-04 - val_loss: 0.0012\n",
      "Epoch 5/100\n",
      " 99/100 [============================>.] - ETA: 0s - loss: 6.7079e-04\n",
      "Epoch 00005: saving model to /home/rjackson/arming_the_edge/models/encoder-decoder/model-4layers-z-only-5min-005.hdf5\n",
      "100/100 [==============================] - 47s 471ms/step - loss: 6.6479e-04 - val_loss: 0.0011\n",
      "Epoch 6/100\n",
      " 99/100 [============================>.] - ETA: 0s - loss: 3.3086e-04\n",
      "Epoch 00006: saving model to /home/rjackson/arming_the_edge/models/encoder-decoder/model-4layers-z-only-5min-006.hdf5\n",
      "100/100 [==============================] - 48s 481ms/step - loss: 3.2912e-04 - val_loss: 0.0011\n",
      "Epoch 7/100\n",
      " 99/100 [============================>.] - ETA: 0s - loss: 2.3956e-04\n",
      "Epoch 00007: saving model to /home/rjackson/arming_the_edge/models/encoder-decoder/model-4layers-z-only-5min-007.hdf5\n",
      "100/100 [==============================] - 48s 475ms/step - loss: 2.3774e-04 - val_loss: 0.0011\n",
      "Epoch 8/100\n",
      " 99/100 [============================>.] - ETA: 0s - loss: 9.3528e-04\n",
      "Epoch 00008: saving model to /home/rjackson/arming_the_edge/models/encoder-decoder/model-4layers-z-only-5min-008.hdf5\n",
      "100/100 [==============================] - 48s 479ms/step - loss: 9.6157e-04 - val_loss: 0.0011\n",
      "Epoch 9/100\n",
      " 99/100 [============================>.] - ETA: 0s - loss: 4.7022e-04\n",
      "Epoch 00009: saving model to /home/rjackson/arming_the_edge/models/encoder-decoder/model-4layers-z-only-5min-009.hdf5\n",
      "100/100 [==============================] - 49s 493ms/step - loss: 4.6732e-04 - val_loss: 0.0011\n",
      "Epoch 10/100\n",
      " 99/100 [============================>.] - ETA: 0s - loss: 1.6090e-04\n",
      "Epoch 00010: saving model to /home/rjackson/arming_the_edge/models/encoder-decoder/model-4layers-z-only-5min-010.hdf5\n",
      "100/100 [==============================] - 48s 479ms/step - loss: 1.6071e-04 - val_loss: 0.0011\n",
      "Epoch 11/100\n",
      " 99/100 [============================>.] - ETA: 0s - loss: 6.3744e-04\n",
      "Epoch 00011: saving model to /home/rjackson/arming_the_edge/models/encoder-decoder/model-4layers-z-only-5min-011.hdf5\n",
      "100/100 [==============================] - 48s 477ms/step - loss: 6.4693e-04 - val_loss: 0.0011\n"
     ]
    },
    {
     "data": {
      "text/plain": [
       "<tensorflow.python.keras.callbacks.History at 0x7f5ccf833a50>"
      ]
     },
     "execution_count": 11,
     "metadata": {},
     "output_type": "execute_result"
    }
   ],
   "source": [
    "checkpointer = ModelCheckpoint(filepath=('/home/rjackson/arming_the_edge/models/encoder-decoder/model-4layers-z-only-5min-{epoch:03d}.hdf5'),\n",
    "            verbose=1)\n",
    "early_stop = EarlyStopping(patience=3, restore_best_weights=True)\n",
    "reduce_lr = ReduceLROnPlateau(patience=2)\n",
    "model.fit(trainset, epochs=100, steps_per_epoch=100, callbacks=[checkpointer, reduce_lr, early_stop],\n",
    "          validation_data=testset, validation_steps=20)"
   ]
  },
  {
   "cell_type": "code",
   "execution_count": 9,
   "metadata": {},
   "outputs": [],
   "source": [
    "model = load_model('/home/rjackson/arming_the_edge/models/encoder-decoder/model-z-only-5min-100.hdf5')"
   ]
  },
  {
   "cell_type": "code",
   "execution_count": 19,
   "metadata": {},
   "outputs": [
    {
     "name": "stdout",
     "output_type": "stream",
     "text": [
      "30/30 [==============================] - 6s 187ms/step - loss: 2.7719e-04\n"
     ]
    },
    {
     "data": {
      "text/plain": [
       "0.00027718579998084654"
      ]
     },
     "execution_count": 19,
     "metadata": {},
     "output_type": "execute_result"
    }
   ],
   "source": [
    "model.evaluate(testset, steps=30)"
   ]
  },
  {
   "cell_type": "code",
   "execution_count": 20,
   "metadata": {},
   "outputs": [
    {
     "name": "stdout",
     "output_type": "stream",
     "text": [
      "WARNING:tensorflow:Your input ran out of data; interrupting training. Make sure that your dataset or generator can generate at least `steps_per_epoch * epochs` batches (in this case, 10 batches). You may need to use the repeat() function when building your dataset.\n"
     ]
    }
   ],
   "source": [
    "my_set = testset.take(1)\n",
    "predicted_set = model.predict(my_set, steps=10)\n",
    "observed_set = [x[0]['input_1'].numpy() for x in my_set][0]"
   ]
  },
  {
   "cell_type": "code",
   "execution_count": 12,
   "metadata": {},
   "outputs": [
    {
     "data": {
      "text/plain": [
       "(20, 195, 400, 1)"
      ]
     },
     "execution_count": 12,
     "metadata": {},
     "output_type": "execute_result"
    }
   ],
   "source": [
    "predicted_set.shape"
   ]
  },
  {
   "cell_type": "code",
   "execution_count": 23,
   "metadata": {},
   "outputs": [
    {
     "data": {
      "text/plain": [
       "<matplotlib.image.AxesImage at 0x7f5c602adcd0>"
      ]
     },
     "execution_count": 23,
     "metadata": {},
     "output_type": "execute_result"
    },
    {
     "data": {
      "image/png": "[encoded data removed]",
      "text/plain": [
       "<Figure size 720x432 with 1 Axes>"
      ]
     },
     "metadata": {
      "needs_background": "light"
     },
     "output_type": "display_data"
    }
   ],
   "source": [
    "plt.figure(figsize=(10,6))\n",
    "plt.imshow(predicted_set[19,:,:,0].T, vmin=0, vmax=1)"
   ]
  },
  {
   "cell_type": "code",
   "execution_count": 25,
   "metadata": {},
   "outputs": [
    {
     "data": {
      "text/plain": [
       "<matplotlib.image.AxesImage at 0x7f5c60188510>"
      ]
     },
     "execution_count": 25,
     "metadata": {},
     "output_type": "execute_result"
    },
    {
     "data": {
      "image/png": "[encoded data removed]",
      "text/plain": [
       "<Figure size 720x432 with 1 Axes>"
      ]
     },
     "metadata": {
      "needs_background": "light"
     },
     "output_type": "display_data"
    }
   ],
   "source": [
    "plt.figure(figsize=(10,6))\n",
    "plt.imshow(observed_set[19,:,:,0].T, vmin=0, vmax=1)"
   ]
  },
  {
   "cell_type": "code",
   "execution_count": 53,
   "metadata": {},
   "outputs": [
    {
     "data": {
      "text/plain": [
       "array([[0.18414336, 0.05784798, 0.05158192, ..., 0.04642639, 0.050753  ,\n",
       "        0.12982398],\n",
       "       [0.08962706, 0.0191319 , 0.01661184, ..., 0.01514262, 0.01693615,\n",
       "        0.10374683],\n",
       "       [0.08008274, 0.01580891, 0.01367441, ..., 0.01226014, 0.01369983,\n",
       "        0.09470752],\n",
       "       ...,\n",
       "       [0.06935835, 0.0131906 , 0.01120579, ..., 0.00982255, 0.01086599,\n",
       "        0.08800167],\n",
       "       [0.06981632, 0.01332211, 0.0112935 , ..., 0.00989696, 0.01097006,\n",
       "        0.08866358],\n",
       "       [0.1263856 , 0.05585331, 0.05092207, ..., 0.04989919, 0.05286768,\n",
       "        0.29370615]], dtype=float32)"
      ]
     },
     "execution_count": 53,
     "metadata": {},
     "output_type": "execute_result"
    }
   ],
   "source": [
    "predicted_set[12,:,:,0]"
   ]
  },
  {
   "cell_type": "code",
   "execution_count": 20,
   "metadata": {},
   "outputs": [
    {
     "name": "stdout",
     "output_type": "stream",
     "text": [
      "Model: \"model\"\n",
      "_________________________________________________________________\n",
      "Layer (type)                 Output Shape              Param #   \n",
      "=================================================================\n",
      "input_1 (InputLayer)         [(None, None, None, 1)]   0         \n",
      "_________________________________________________________________\n",
      "zero_padding2d (ZeroPadding2 (None, None, None, 1)     0         \n",
      "_________________________________________________________________\n",
      "conv2d (Conv2D)              (None, None, None, 16)    160       \n",
      "_________________________________________________________________\n",
      "max_pooling2d (MaxPooling2D) (None, None, None, 16)    0         \n",
      "_________________________________________________________________\n",
      "conv2d_1 (Conv2D)            (None, None, None, 8)     1160      \n",
      "_________________________________________________________________\n",
      "max_pooling2d_1 (MaxPooling2 (None, None, None, 8)     0         \n",
      "_________________________________________________________________\n",
      "conv2d_2 (Conv2D)            (None, None, None, 8)     584       \n",
      "_________________________________________________________________\n",
      "max_pooling2d_2 (MaxPooling2 (None, None, None, 8)     0         \n",
      "_________________________________________________________________\n",
      "conv2d_3 (Conv2D)            (None, None, None, 8)     584       \n",
      "_________________________________________________________________\n",
      "up_sampling2d (UpSampling2D) (None, None, None, 8)     0         \n",
      "_________________________________________________________________\n",
      "conv2d_4 (Conv2D)            (None, None, None, 8)     584       \n",
      "_________________________________________________________________\n",
      "up_sampling2d_1 (UpSampling2 (None, None, None, 8)     0         \n",
      "_________________________________________________________________\n",
      "conv2d_5 (Conv2D)            (None, None, None, 16)    1168      \n",
      "_________________________________________________________________\n",
      "up_sampling2d_2 (UpSampling2 (None, None, None, 16)    0         \n",
      "_________________________________________________________________\n",
      "cropping2d (Cropping2D)      (None, None, None, 16)    0         \n",
      "_________________________________________________________________\n",
      "conv2d_6 (Conv2D)            (None, None, None, 1)     145       \n",
      "=================================================================\n",
      "Total params: 4,385\n",
      "Trainable params: 4,385\n",
      "Non-trainable params: 0\n",
      "_________________________________________________________________\n"
     ]
    }
   ],
   "source": [
    "model.summary()"
   ]
  },
  {
   "cell_type": "code",
   "execution_count": 10,
   "metadata": {},
   "outputs": [
    {
     "name": "stdout",
     "output_type": "stream",
     "text": [
      "WARNING:tensorflow:From /home/rjackson/.conda/envs/tensorflow_env/lib/python3.7/site-packages/tensorflow_core/python/ops/resource_variable_ops.py:1807: calling BaseResourceVariable.__init__ (from tensorflow.python.ops.resource_variable_ops) with constraint is deprecated and will be removed in a future version.\n",
      "Instructions for updating:\n",
      "If using Keras pass *_constraint arguments to layers.\n",
      "INFO:tensorflow:Assets written to: encoder.hdf/assets\n"
     ]
    }
   ],
   "source": [
    "encoder_model = Model(inp, encoded)\n",
    "encoder_model.load_weights('/home/rjackson/arming_the_edge/models/encoder-decoder/model-z-only-5min-100.hdf5',\n",
    "                           by_name=True)   \n",
    "encoder_model.compile(optimizer='adam', loss='mean_squared_error')\n",
    "encoder_model.save('encoder.hdf')"
   ]
  },
  {
   "cell_type": "code",
   "execution_count": 206,
   "metadata": {},
   "outputs": [
    {
     "data": {
      "text/plain": [
       "<tensorflow.python.keras.engine.input_layer.InputLayer at 0x7f2565993850>"
      ]
     },
     "execution_count": 206,
     "metadata": {},
     "output_type": "execute_result"
    }
   ],
   "source": [
    "encoder_model.layers[0]"
   ]
  },
  {
   "cell_type": "code",
   "execution_count": 11,
   "metadata": {},
   "outputs": [
    {
     "name": "stdout",
     "output_type": "stream",
     "text": [
      "Model: \"model\"\n",
      "_________________________________________________________________\n",
      "Layer (type)                 Output Shape              Param #   \n",
      "=================================================================\n",
      "input_1 (InputLayer)         [(None, None, None, 1)]   0         \n",
      "_________________________________________________________________\n",
      "zero_padding2d (ZeroPadding2 (None, None, None, 1)     0         \n",
      "_________________________________________________________________\n",
      "conv2d (Conv2D)              (None, None, None, 16)    160       \n",
      "_________________________________________________________________\n",
      "max_pooling2d (MaxPooling2D) (None, None, None, 16)    0         \n",
      "_________________________________________________________________\n",
      "conv2d_1 (Conv2D)            (None, None, None, 8)     1160      \n",
      "_________________________________________________________________\n",
      "max_pooling2d_1 (MaxPooling2 (None, None, None, 8)     0         \n",
      "_________________________________________________________________\n",
      "conv2d_2 (Conv2D)            (None, None, None, 8)     584       \n",
      "_________________________________________________________________\n",
      "max_pooling2d_2 (MaxPooling2 (None, None, None, 8)     0         \n",
      "=================================================================\n",
      "Total params: 1,904\n",
      "Trainable params: 1,904\n",
      "Non-trainable params: 0\n",
      "_________________________________________________________________\n"
     ]
    }
   ],
   "source": [
    "encoder_model.summary()"
   ]
  },
  {
   "cell_type": "code",
   "execution_count": 12,
   "metadata": {},
   "outputs": [],
   "source": [
    "num_batches = 150\n",
    "testset_batch = testset.take(150)\n",
    "trainset_batch = trainset.take(150)\n",
    "test_arrays = [x[0][\"input_1\"].numpy() for x in testset_batch]\n",
    "train_arrays = [x[0][\"input_1\"].numpy() for x in trainset_batch]\n",
    "test_times = np.stack([pd.to_datetime(x[0][\"start_time\"].numpy()) for x in testset_batch])\n",
    "train_times = np.stack([pd.to_datetime(x[0][\"start_time\"].numpy()) for x in trainset_batch])"
   ]
  },
  {
   "cell_type": "code",
   "execution_count": 33,
   "metadata": {},
   "outputs": [
    {
     "name": "stderr",
     "output_type": "stream",
     "text": [
      "/home/rjackson/.conda/envs/tensorflow_env/lib/python3.7/site-packages/ipykernel_launcher.py:22: DeprecationWarning: parsing timezone aware datetimes is deprecated; this will raise an error in the future\n"
     ]
    }
   ],
   "source": [
    "test_labels = np.array([get_label(dt64_to_dt(x)) for x in test_times.flatten()])\n",
    "train_labels = np.array([get_label(dt64_to_dt(x)) for x in train_times.flatten()])"
   ]
  },
  {
   "cell_type": "code",
   "execution_count": 32,
   "metadata": {},
   "outputs": [
    {
     "data": {
      "text/plain": [
       "(3000,)"
      ]
     },
     "execution_count": 32,
     "metadata": {},
     "output_type": "execute_result"
    }
   ],
   "source": [
    "test_labels.shape"
   ]
  },
  {
   "cell_type": "code",
   "execution_count": 39,
   "metadata": {},
   "outputs": [],
   "source": [
    "encoded_data_test = [encoder_model.predict(x) for x in test_arrays]\n",
    "encoded_data_train = [encoder_model.predict(x) for x in train_arrays]\n",
    "my_shp = encoded_data_train[0].shape"
   ]
  },
  {
   "cell_type": "code",
   "execution_count": 40,
   "metadata": {},
   "outputs": [],
   "source": [
    "encoded_data_test = np.stack([x.reshape((my_shp[0], np.prod(my_shp[1:]))) for x in encoded_data_test])\n",
    "encoded_data_train = np.stack([x.reshape((my_shp[0], np.prod(my_shp[1:]))) for x in encoded_data_train])\n",
    "my_new_shape = encoded_data_test.shape\n",
    "encoded_data_test = encoded_data_test.reshape((my_new_shape[0]*my_new_shape[1], my_new_shape[2]))\n",
    "encoded_data_train = encoded_data_train.reshape((my_new_shape[0]*my_new_shape[1], my_new_shape[2]))"
   ]
  },
  {
   "cell_type": "code",
   "execution_count": 41,
   "metadata": {},
   "outputs": [
    {
     "data": {
      "text/plain": [
       "(3000, 4624)"
      ]
     },
     "execution_count": 41,
     "metadata": {},
     "output_type": "execute_result"
    }
   ],
   "source": [
    "encoded_data_train.shape"
   ]
  },
  {
   "cell_type": "markdown",
   "metadata": {},
   "source": [
    "## Train GBM with with hyperparameter optimization"
   ]
  },
  {
   "cell_type": "code",
   "execution_count": 132,
   "metadata": {},
   "outputs": [],
   "source": [
    "from hyperopt import hp, tpe, fmin, Trials, rand\n",
    "my_space = {'max_depth': hp.randint('max_depth', 10),\n",
    "            'learning_rate': hp.loguniform('learning_rate', np.log(0.01), np.log(0.2)),\n",
    "            'n_estimators': hp.uniform('n_estimators', 50, 200)}\n",
    "\n",
    "my_classifier = XGBClassifier(n_jobs=8)\n",
    "N_FOLDS = 10\n",
    "def objective(params, n_folds = N_FOLDS):\n",
    "    \"\"\"Objective function for Gradient Boosting Machine Hyperparameter Tuning\"\"\"\n",
    "    train_set = xgb.DMatrix(encoded_data_train, label=train_labels)\n",
    "    # Perform n_fold cross validation with hyperparameters\n",
    "    # Use early stopping and evalute based on ROC AUC\n",
    "    cv_results = xgb.cv(params, train_set, nfold = n_folds, num_boost_round = 10000, \n",
    "                        early_stopping_rounds = 100, metrics = 'auc', seed = 50)\n",
    "   \n",
    "    print(cv_results)\n",
    "    # Extract the best score\n",
    "    best_score = max(cv_results['test-auc-mean'])\n",
    "    \n",
    "    # Loss must be minimized\n",
    "    loss = 1 - best_score\n",
    "    \n",
    "    # Dictionary with information for evaluation\n",
    "    return {'loss': loss, 'params': params, 'status': STATUS_OK}"
   ]
  },
  {
   "cell_type": "code",
   "execution_count": 129,
   "metadata": {},
   "outputs": [],
   "source": [
    "bayes_trials = Trials()"
   ]
  },
  {
   "cell_type": "code",
   "execution_count": null,
   "metadata": {},
   "outputs": [
    {
     "name": "stdout",
     "output_type": "stream",
     "text": [
      "\r",
      "  0%|          | 0/50 [00:00<?, ?it/s, best loss: ?]"
     ]
    }
   ],
   "source": [
    "MAX_EVALS = 50\n",
    "\n",
    "# Optimize\n",
    "best = fmin(fn = objective, space = my_space, algo = rand.suggest, \n",
    "            max_evals = MAX_EVALS)"
   ]
  },
  {
   "cell_type": "code",
   "execution_count": 61,
   "metadata": {},
   "outputs": [],
   "source": [
    "where_nan = np.isnan(train_labels)\n",
    "encoded_data_train = encoded_data_train[~where_nan, :]\n",
    "train_labels = train_labels[~where_nan]\n",
    "where_nan_test = np.isnan(test_labels)\n",
    "encoded_data_test = encoded_data_test[~where_nan_test, :]\n",
    "test_labels = test_labels[~where_nan_test]"
   ]
  },
  {
   "cell_type": "code",
   "execution_count": 62,
   "metadata": {},
   "outputs": [
    {
     "data": {
      "text/plain": [
       "(2816, 4624)"
      ]
     },
     "execution_count": 62,
     "metadata": {},
     "output_type": "execute_result"
    }
   ],
   "source": [
    "encoded_data_train.shape"
   ]
  },
  {
   "cell_type": "code",
   "execution_count": 122,
   "metadata": {},
   "outputs": [
    {
     "data": {
      "text/plain": [
       "XGBClassifier(base_score=0.5, booster='gbtree', colsample_bylevel=1,\n",
       "              colsample_bynode=1, colsample_bytree=1, gamma=0,\n",
       "              learning_rate=0.01, max_delta_step=0, max_depth=5,\n",
       "              min_child_weight=1, missing=None, n_estimators=200, n_jobs=8,\n",
       "              nthread=None, objective='multi:softprob', random_state=0,\n",
       "              reg_alpha=0, reg_lambda=1, scale_pos_weight=1, seed=None,\n",
       "              silent=None, subsample=1, verbosity=1)"
      ]
     },
     "execution_count": 122,
     "metadata": {},
     "output_type": "execute_result"
    }
   ],
   "source": [
    "my_classifier.fit(encoded_data_train, train_labels, verbose=True)"
   ]
  },
  {
   "cell_type": "code",
   "execution_count": 123,
   "metadata": {},
   "outputs": [],
   "source": [
    "labels_predict_test = my_classifier.predict(encoded_data_test)\n",
    "labels_predict_train = my_classifier.predict(encoded_data_train)"
   ]
  },
  {
   "cell_type": "code",
   "execution_count": 124,
   "metadata": {},
   "outputs": [
    {
     "name": "stdout",
     "output_type": "stream",
     "text": [
      "Percent correct in testing set: 86.66\n",
      "Percent correct in training set: 97.09\n"
     ]
    }
   ],
   "source": [
    "num_correct = len(np.where(test_labels - labels_predict_test == 0)[0])\n",
    "total = len(test_labels)\n",
    "print(\"Percent correct in testing set: %3.2f\" % (num_correct/total * 100))\n",
    "num_correct = len(np.where(train_labels - labels_predict_train == 0)[0])\n",
    "total = len(train_labels)\n",
    "print(\"Percent correct in training set: %3.2f\" % (num_correct/total * 100))"
   ]
  },
  {
   "cell_type": "code",
   "execution_count": null,
   "metadata": {},
   "outputs": [],
   "source": []
  }
 ],
 "metadata": {
  "kernelspec": {
   "display_name": "Python [conda env:.conda-tensorflow_env] *",
   "language": "python",
   "name": "conda-env-.conda-tensorflow_env-py"
  },
  "language_info": {
   "codemirror_mode": {
    "name": "ipython",
    "version": 3
   },
   "file_extension": ".py",
   "mimetype": "text/x-python",
   "name": "python",
   "nbconvert_exporter": "python",
   "pygments_lexer": "ipython3",
   "version": "3.7.6"
  }
 },
 "nbformat": 4,
 "nbformat_minor": 2
}
